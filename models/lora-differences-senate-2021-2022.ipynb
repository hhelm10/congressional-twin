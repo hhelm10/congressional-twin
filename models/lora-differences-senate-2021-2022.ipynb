{
 "cells": [
  {
   "cell_type": "code",
   "execution_count": 1,
   "id": "4a571639-036f-464a-a04b-248aad6e10ba",
   "metadata": {},
   "outputs": [
    {
     "name": "stdout",
     "output_type": "stream",
     "text": [
      "Token has not been saved to git credential helper. Pass `add_to_git_credential=True` if you want to set the git credential as well.\n",
      "Token is valid (permission: read).\n",
      "Your token has been saved to /home/paperspace/.cache/huggingface/token\n",
      "Login successful\n"
     ]
    },
    {
     "data": {
      "text/html": [
       "<div>\n",
       "<style scoped>\n",
       "    .dataframe tbody tr th:only-of-type {\n",
       "        vertical-align: middle;\n",
       "    }\n",
       "\n",
       "    .dataframe tbody tr th {\n",
       "        vertical-align: top;\n",
       "    }\n",
       "\n",
       "    .dataframe thead th {\n",
       "        text-align: right;\n",
       "    }\n",
       "</style>\n",
       "<table border=\"1\" class=\"dataframe\">\n",
       "  <thead>\n",
       "    <tr style=\"text-align: right;\">\n",
       "      <th></th>\n",
       "      <th>name</th>\n",
       "      <th>party</th>\n",
       "      <th>twitter_lower</th>\n",
       "      <th>years</th>\n",
       "      <th>chamber</th>\n",
       "      <th>state</th>\n",
       "      <th>postedAt</th>\n",
       "      <th>source</th>\n",
       "      <th>tweetId</th>\n",
       "      <th>name_standardized</th>\n",
       "      <th>text</th>\n",
       "    </tr>\n",
       "  </thead>\n",
       "  <tbody>\n",
       "    <tr>\n",
       "      <th>0</th>\n",
       "      <td>Josh Gottheimer D-NJ</td>\n",
       "      <td>D</td>\n",
       "      <td>repjoshg</td>\n",
       "      <td>2021_2022</td>\n",
       "      <td>House</td>\n",
       "      <td>NJ</td>\n",
       "      <td>2022-05-29 13:22:24.171</td>\n",
       "      <td>PolitWoops</td>\n",
       "      <td>1530902377196314624</td>\n",
       "      <td>josh_gottheimer</td>\n",
       "      <td>Thanks to the Bipartisan Infrastructure Bill t...</td>\n",
       "    </tr>\n",
       "    <tr>\n",
       "      <th>1</th>\n",
       "      <td>Ed Markey D-MA</td>\n",
       "      <td>D</td>\n",
       "      <td>senmarkey</td>\n",
       "      <td>2011_2012</td>\n",
       "      <td>Senate</td>\n",
       "      <td>MA</td>\n",
       "      <td>2011-05-13 21:06:26.255</td>\n",
       "      <td>PolitWoops</td>\n",
       "      <td>69146505528868864</td>\n",
       "      <td>ed_markey</td>\n",
       "      <td>Since COPPA in 98, kids more likely 2 be poked...</td>\n",
       "    </tr>\n",
       "    <tr>\n",
       "      <th>2</th>\n",
       "      <td>Debbie Stabenow D-MI</td>\n",
       "      <td>D</td>\n",
       "      <td>senstabenow</td>\n",
       "      <td>2021_2022</td>\n",
       "      <td>Senate</td>\n",
       "      <td>MI</td>\n",
       "      <td>2022-03-02 01:14:27.293</td>\n",
       "      <td>PolitWoops</td>\n",
       "      <td>1498829050919411712</td>\n",
       "      <td>debbie_stabenow</td>\n",
       "      <td>My virtual guest at the State of the Union wil...</td>\n",
       "    </tr>\n",
       "    <tr>\n",
       "      <th>3</th>\n",
       "      <td>Ted Cruz R-TX</td>\n",
       "      <td>R</td>\n",
       "      <td>sentedcruz</td>\n",
       "      <td>2019_2020</td>\n",
       "      <td>Senate</td>\n",
       "      <td>TX</td>\n",
       "      <td>2019-10-31 16:48:33.055</td>\n",
       "      <td>PolitWoops</td>\n",
       "      <td>1189947274526384128</td>\n",
       "      <td>ted_cruz</td>\n",
       "      <td>.@tedcruz offering rare praise for Facebook on...</td>\n",
       "    </tr>\n",
       "    <tr>\n",
       "      <th>4</th>\n",
       "      <td>Dan Bishop R-NC</td>\n",
       "      <td>R</td>\n",
       "      <td>repdanbishop</td>\n",
       "      <td>2021_2022</td>\n",
       "      <td>House</td>\n",
       "      <td>NC</td>\n",
       "      <td>2021-08-25 00:15:49.917</td>\n",
       "      <td>PolitWoops</td>\n",
       "      <td>1430322991376834560</td>\n",
       "      <td>dan_bishop</td>\n",
       "      <td></td>\n",
       "    </tr>\n",
       "  </tbody>\n",
       "</table>\n",
       "</div>"
      ],
      "text/plain": [
       "                   name party twitter_lower      years chamber state  \\\n",
       "0  Josh Gottheimer D-NJ     D      repjoshg  2021_2022   House    NJ   \n",
       "1        Ed Markey D-MA     D     senmarkey  2011_2012  Senate    MA   \n",
       "2  Debbie Stabenow D-MI     D   senstabenow  2021_2022  Senate    MI   \n",
       "3         Ted Cruz R-TX     R    sentedcruz  2019_2020  Senate    TX   \n",
       "4       Dan Bishop R-NC     R  repdanbishop  2021_2022   House    NC   \n",
       "\n",
       "                 postedAt      source              tweetId name_standardized  \\\n",
       "0 2022-05-29 13:22:24.171  PolitWoops  1530902377196314624   josh_gottheimer   \n",
       "1 2011-05-13 21:06:26.255  PolitWoops    69146505528868864         ed_markey   \n",
       "2 2022-03-02 01:14:27.293  PolitWoops  1498829050919411712   debbie_stabenow   \n",
       "3 2019-10-31 16:48:33.055  PolitWoops  1189947274526384128          ted_cruz   \n",
       "4 2021-08-25 00:15:49.917  PolitWoops  1430322991376834560        dan_bishop   \n",
       "\n",
       "                                                text  \n",
       "0  Thanks to the Bipartisan Infrastructure Bill t...  \n",
       "1  Since COPPA in 98, kids more likely 2 be poked...  \n",
       "2  My virtual guest at the State of the Union wil...  \n",
       "3  .@tedcruz offering rare praise for Facebook on...  \n",
       "4                                                     "
      ]
     },
     "execution_count": 1,
     "metadata": {},
     "output_type": "execute_result"
    }
   ],
   "source": [
    "from huggingface_hub import repo_info, login\n",
    "from huggingface_hub.utils import RepositoryNotFoundError\n",
    "import json\n",
    "api_key_path = \"../../api_keys.json\"\n",
    "\n",
    "with open(api_key_path, 'r') as j:\n",
    "    login_key = json.loads(j.read())['hf-llama']\n",
    "\n",
    "login(login_key)\n",
    "\n",
    "#- Scientific programming\n",
    "import numpy as np\n",
    "import pandas as pd\n",
    "from tqdm import tqdm\n",
    "\n",
    "#- Transformers & Datasets\n",
    "from datasets import Dataset, DatasetDict\n",
    "from transformers import AutoModelForCausalLM, AutoTokenizer, Trainer, TrainingArguments, DataCollatorForLanguageModeling\n",
    "from peft import get_peft_model, LoraConfig, PeftModel\n",
    "import torch\n",
    "\n",
    "#- Processing\n",
    "import pickle\n",
    "import datetime\n",
    "import os\n",
    "import gc\n",
    "\n",
    "\n",
    "def repo_exists(repo_id, token=None):\n",
    "    try:\n",
    "        repo_info(repo_id, token=token)\n",
    "        return True\n",
    "    except RepositoryNotFoundError:\n",
    "        return False\n",
    "\n",
    "df = pickle.load(open('/home/paperspace/2024-06-10-tweets-with-text.p', 'rb'))\n",
    "unique_standardized_names, n_tweets_per_name = np.unique(df['name_standardized'].values, return_counts=True)\n",
    "\n",
    "skip_list = ['jacky_rosen', 'dean_phillips', 'dan_sullivan', 'alexandria_ocasio-cortez', 'van_duyne,', 'pascrell_jr.,', \"beto_o'rourke\"]\n",
    "df.head()"
   ]
  },
  {
   "cell_type": "code",
   "execution_count": 2,
   "id": "20142361-9c14-4a7d-9d02-bd7563122798",
   "metadata": {},
   "outputs": [],
   "source": [
    "def get_lora_matrices(model, target_modules = [\"k_proj\",\"o_proj\",\"q_proj\",\"v_proj\"]):\n",
    "    layers = model._modules['base_model']._modules['model']._modules['model']._modules['layers']\n",
    "\n",
    "    lora_matrices = []\n",
    "\n",
    "    for ell in layers:\n",
    "        attention_layers = ell._modules['self_attn']\n",
    "        for target_module in target_modules:\n",
    "            target = attention_layers._modules[target_module]._modules\n",
    "            lora_A=target['lora_A']._modules['default'].weight.data\n",
    "            lora_B=target['lora_B']._modules['default'].weight.data\n",
    "\n",
    "            lora_matrices.append(lora_A)\n",
    "            lora_matrices.append(lora_B)\n",
    "\n",
    "    return lora_matrices"
   ]
  },
  {
   "cell_type": "code",
   "execution_count": 3,
   "id": "49913d7a-a877-4d6e-afa6-3176f2fe12d3",
   "metadata": {},
   "outputs": [
    {
     "name": "stdout",
     "output_type": "stream",
     "text": [
      "a._ferguson in skip list, skipping.\n",
      "alex_padilla was in senate 2021-2022\n",
      "alexandria_ocasio-cortez in skip list, skipping.\n",
      "angus_king was in senate 2021-2022\n",
      "ben_cardin was in senate 2021-2022\n",
      "bernard_sanders was in senate 2021-2022\n",
      "beto_o'rourke in skip list, skipping.\n",
      "bill_cassidy was in senate 2021-2022\n",
      "bill_hagerty was in senate 2021-2022\n",
      "bishop_jr., in skip list, skipping.\n",
      "blunt_rochester, in skip list, skipping.\n",
      "brian_schatz was in senate 2021-2022\n",
      "c._franklin in skip list, skipping.\n",
      "c._ruppersberger in skip list, skipping.\n",
      "catherine_masto was in senate 2021-2022\n",
      "chuck_schumer was in senate 2021-2022\n",
      "cindy_hyde-smith was in senate 2021-2022\n",
      "cortez_masto, in skip list, skipping.\n",
      "cory_booker was in senate 2021-2022\n",
      "cynthia_lummis was in senate 2021-2022\n",
      "dan_sullivan in skip list, skipping.\n",
      "dean_phillips in skip list, skipping.\n",
      "deb_fischer was in senate 2021-2022\n",
      "debbie_stabenow was in senate 2021-2022\n",
      "dianne_feinstein was in senate 2021-2022\n",
      "dick_durbin was in senate 2021-2022\n",
      "e.b._johnson in skip list, skipping.\n",
      "ed_markey was in senate 2021-2022\n",
      "elizabeth_warren was in senate 2021-2022\n",
      "gary_peters was in senate 2021-2022\n",
      "j._correa in skip list, skipping.\n",
      "j._hill in skip list, skipping.\n",
      "j.d._vance in skip list, skipping.\n",
      "jack_reed was in senate 2021-2022\n",
      "jackson_lee, in skip list, skipping.\n",
      "jacky_rosen in skip list, skipping.\n",
      "james_lankford was in senate 2021-2022\n",
      "jeanne_shaheen was in senate 2021-2022\n",
      "jeff_merkley was in senate 2021-2022\n",
      "jim_risch was in senate 2021-2022\n",
      "john_barrasso was in senate 2021-2022\n",
      "john_hickenlooper was in senate 2021-2022\n",
      "john_hoeven was in senate 2021-2022\n",
      "john_kennedy was in senate 2021-2022\n",
      "john_thune was in senate 2021-2022\n",
      "jon_ossoff was in senate 2021-2022\n",
      "jon_tester was in senate 2021-2022\n",
      "joseph_manchin was in senate 2021-2022\n",
      "josh_hawley was in senate 2021-2022\n",
      "kevin_cramer was in senate 2021-2022\n",
      "leger_fernandez, in skip list, skipping.\n",
      "maggie_hassan was in senate 2021-2022\n",
      "maria_cantwell was in senate 2021-2022\n",
      "mark_kelly was in senate 2021-2022\n",
      "markwayne_mullin was in senate 2021-2022\n",
      "michael_bennet was in senate 2021-2022\n",
      "mike_braun was in senate 2021-2022\n",
      "mike_lee was in senate 2021-2022\n",
      "mitch_mcconnell was in senate 2021-2022\n",
      "mitt_romney was in senate 2021-2022\n",
      "pallone_jr., in skip list, skipping.\n",
      "pascrell_jr., in skip list, skipping.\n",
      "pat_toomey was in senate 2021-2022\n",
      "patrick_leahy was in senate 2021-2022\n",
      "payne_jr., in skip list, skipping.\n",
      "raphael_warnock was in senate 2021-2022\n",
      "richard_blumenthal was in senate 2021-2022\n",
      "richard_shelby was in senate 2021-2022\n",
      "rick_scott was in senate 2021-2022\n",
      "rob_portman was in senate 2021-2022\n",
      "robert_casey was in senate 2021-2022\n",
      "robert_menendez was in senate 2021-2022\n",
      "roger_wicker was in senate 2021-2022\n",
      "ron_johnson was in senate 2021-2022\n",
      "s._guthrie in skip list, skipping.\n",
      "sheldon_whitehouse was in senate 2021-2022\n",
      "shelley_capito was in senate 2021-2022\n",
      "sherrod_brown was in senate 2021-2022\n",
      "susan_collins was in senate 2021-2022\n",
      "t.j._cox in skip list, skipping.\n",
      "tammy_baldwin was in senate 2021-2022\n",
      "tammy_duckworth was in senate 2021-2022\n",
      "ted_budd was in senate 2021-2022\n",
      "ted_cruz was in senate 2021-2022\n",
      "thom_tillis was in senate 2021-2022\n",
      "tim_scott was in senate 2021-2022\n",
      "tina_smith was in senate 2021-2022\n",
      "todd_young was in senate 2021-2022\n",
      "tom_carper was in senate 2021-2022\n",
      "tom_cotton was in senate 2021-2022\n",
      "tommy_tuberville was in senate 2021-2022\n",
      "van_drew, in skip list, skipping.\n",
      "van_duyne, in skip list, skipping.\n",
      "van_hollen, in skip list, skipping.\n",
      "van_orden, in skip list, skipping.\n",
      "wasserman_schultz, in skip list, skipping.\n",
      "watson_coleman, in skip list, skipping.\n"
     ]
    }
   ],
   "source": [
    "valid_names=[]\n",
    "invalid_names=[]\n",
    "valid_path_dict = {}\n",
    "\n",
    "\n",
    "for name in unique_standardized_names:\n",
    "    if '.' in name or ',' in name:\n",
    "        if name not in skip_list:\n",
    "            skip_list.append(name)\n",
    "    \n",
    "    if name in skip_list:\n",
    "        print(f'{name} in skip list, skipping.')\n",
    "        continue\n",
    "\n",
    "    if 'Senate' not in df[df['name_standardized'] == name]['chamber'].values:\n",
    "        continue\n",
    "\n",
    "        \n",
    "    if '2021_2022' not in df[df['name_standardized'] == name]['years'].values:\n",
    "        continue\n",
    "\n",
    "    print(f'{name} was in senate 2021-2022')\n",
    "\n",
    "    hub_path = 'nomic-ai/' + name\n",
    "    hub_path = hub_path.replace(\"'\", \"\")\n",
    "    if repo_exists(hub_path):\n",
    "        valid_names.append(name)\n",
    "        valid_path_dict[name] = hub_path \n",
    "    else:\n",
    "        invalid_names.append(name)"
   ]
  },
  {
   "cell_type": "code",
   "execution_count": 6,
   "id": "90993cad-82e1-41bb-b29a-7ca4402f0d23",
   "metadata": {},
   "outputs": [
    {
     "name": "stdout",
     "output_type": "stream",
     "text": [
      "36 ['dick_durbin', 'elizabeth_warren', 'gary_peters', 'jack_reed', 'james_lankford', 'jeff_merkley', 'john_barrasso', 'john_hoeven', 'jon_tester', 'joseph_manchin', 'josh_hawley', 'maria_cantwell', 'markwayne_mullin', 'michael_bennet', 'mike_braun', 'mike_lee', 'mitch_mcconnell', 'pat_toomey', 'patrick_leahy', 'richard_blumenthal', 'rick_scott', 'robert_casey', 'robert_menendez', 'roger_wicker', 'ron_johnson', 'sheldon_whitehouse', 'sherrod_brown', 'susan_collins', 'tammy_baldwin', 'tammy_duckworth', 'ted_budd', 'thom_tillis', 'tim_scott', 'tina_smith', 'tom_carper', 'tom_cotton']\n"
     ]
    }
   ],
   "source": [
    "print(len(invalid_names), invalid_names)"
   ]
  },
  {
   "cell_type": "code",
   "execution_count": 7,
   "id": "ddfe3aba-61ad-4f78-9c18-b07edd27e5df",
   "metadata": {},
   "outputs": [
    {
     "name": "stderr",
     "output_type": "stream",
     "text": [
      "Special tokens have been added in the vocabulary, make sure the associated word embeddings are fine-tuned or trained.\n"
     ]
    },
    {
     "data": {
      "application/vnd.jupyter.widget-view+json": {
       "model_id": "f62403f2877546318bb9fe61edb0cddd",
       "version_major": 2,
       "version_minor": 0
      },
      "text/plain": [
       "Loading checkpoint shards:   0%|          | 0/4 [00:00<?, ?it/s]"
      ]
     },
     "metadata": {},
     "output_type": "display_data"
    },
    {
     "data": {
      "text/plain": [
       "Embedding(128257, 4096)"
      ]
     },
     "execution_count": 7,
     "metadata": {},
     "output_type": "execute_result"
    }
   ],
   "source": [
    "model_str = 'meta-llama/Meta-Llama-3-8B-Instruct'\n",
    "\n",
    "tokenizer = AutoTokenizer.from_pretrained(model_str)\n",
    "special_tokens_dict = {'additional_special_tokens': ['[link]']}\n",
    "tokenizer.add_special_tokens(special_tokens_dict)\n",
    "\n",
    "base_model = AutoModelForCausalLM.from_pretrained(model_str, device_map='cpu')\n",
    "base_model.resize_token_embeddings(len(tokenizer))"
   ]
  },
  {
   "cell_type": "code",
   "execution_count": 8,
   "id": "169df1bc-ec77-495e-a3b8-d0da8ef6b09f",
   "metadata": {},
   "outputs": [
    {
     "data": {
      "application/vnd.jupyter.widget-view+json": {
       "model_id": "b710dbd2dcea423f834ff71c766bc50e",
       "version_major": 2,
       "version_minor": 0
      },
      "text/plain": [
       "adapter_config.json:   0%|          | 0.00/690 [00:00<?, ?B/s]"
      ]
     },
     "metadata": {},
     "output_type": "display_data"
    },
    {
     "data": {
      "application/vnd.jupyter.widget-view+json": {
       "model_id": "fc4b12e5166b46fc84a071b1d396f9d3",
       "version_major": 2,
       "version_minor": 0
      },
      "text/plain": [
       "adapter_model.safetensors:   0%|          | 0.00/4.42G [00:00<?, ?B/s]"
      ]
     },
     "metadata": {},
     "output_type": "display_data"
    },
    {
     "data": {
      "application/vnd.jupyter.widget-view+json": {
       "model_id": "26c7897ba505405a8852940ba83aecc8",
       "version_major": 2,
       "version_minor": 0
      },
      "text/plain": [
       "adapter_config.json:   0%|          | 0.00/690 [00:00<?, ?B/s]"
      ]
     },
     "metadata": {},
     "output_type": "display_data"
    },
    {
     "data": {
      "application/vnd.jupyter.widget-view+json": {
       "model_id": "22c6ffb53fe0449389bd0210800f7ba0",
       "version_major": 2,
       "version_minor": 0
      },
      "text/plain": [
       "adapter_model.safetensors:   0%|          | 0.00/4.42G [00:00<?, ?B/s]"
      ]
     },
     "metadata": {},
     "output_type": "display_data"
    },
    {
     "data": {
      "application/vnd.jupyter.widget-view+json": {
       "model_id": "cac8b482c3774b0081ee151eb6a34804",
       "version_major": 2,
       "version_minor": 0
      },
      "text/plain": [
       "adapter_config.json:   0%|          | 0.00/690 [00:00<?, ?B/s]"
      ]
     },
     "metadata": {},
     "output_type": "display_data"
    },
    {
     "data": {
      "application/vnd.jupyter.widget-view+json": {
       "model_id": "cce52f77516d4b609e96e5aa2d1f8bd2",
       "version_major": 2,
       "version_minor": 0
      },
      "text/plain": [
       "adapter_model.safetensors:   0%|          | 0.00/4.42G [00:00<?, ?B/s]"
      ]
     },
     "metadata": {},
     "output_type": "display_data"
    },
    {
     "data": {
      "application/vnd.jupyter.widget-view+json": {
       "model_id": "63351690faa44b03aac6c871c8a03a45",
       "version_major": 2,
       "version_minor": 0
      },
      "text/plain": [
       "adapter_config.json:   0%|          | 0.00/690 [00:00<?, ?B/s]"
      ]
     },
     "metadata": {},
     "output_type": "display_data"
    },
    {
     "data": {
      "application/vnd.jupyter.widget-view+json": {
       "model_id": "e78446a922a04c1ba81689eaebcd6675",
       "version_major": 2,
       "version_minor": 0
      },
      "text/plain": [
       "adapter_model.safetensors:   0%|          | 0.00/4.42G [00:00<?, ?B/s]"
      ]
     },
     "metadata": {},
     "output_type": "display_data"
    },
    {
     "data": {
      "application/vnd.jupyter.widget-view+json": {
       "model_id": "49783dd1ebf24ba9abdc00da7027e9e5",
       "version_major": 2,
       "version_minor": 0
      },
      "text/plain": [
       "adapter_config.json:   0%|          | 0.00/690 [00:00<?, ?B/s]"
      ]
     },
     "metadata": {},
     "output_type": "display_data"
    },
    {
     "data": {
      "application/vnd.jupyter.widget-view+json": {
       "model_id": "5711ecb247c24ea8ae2e9a208b83f2ba",
       "version_major": 2,
       "version_minor": 0
      },
      "text/plain": [
       "adapter_model.safetensors:   0%|          | 0.00/4.42G [00:00<?, ?B/s]"
      ]
     },
     "metadata": {},
     "output_type": "display_data"
    },
    {
     "data": {
      "application/vnd.jupyter.widget-view+json": {
       "model_id": "8c75962790ab4516adf4c1e9ac8efbca",
       "version_major": 2,
       "version_minor": 0
      },
      "text/plain": [
       "adapter_config.json:   0%|          | 0.00/690 [00:00<?, ?B/s]"
      ]
     },
     "metadata": {},
     "output_type": "display_data"
    },
    {
     "data": {
      "application/vnd.jupyter.widget-view+json": {
       "model_id": "f8febefbff8a4e2194fd09c9fbb3076e",
       "version_major": 2,
       "version_minor": 0
      },
      "text/plain": [
       "adapter_model.safetensors:   0%|          | 0.00/4.42G [00:00<?, ?B/s]"
      ]
     },
     "metadata": {},
     "output_type": "display_data"
    },
    {
     "data": {
      "application/vnd.jupyter.widget-view+json": {
       "model_id": "045c8ef915bb4b5abd243e58b85985ac",
       "version_major": 2,
       "version_minor": 0
      },
      "text/plain": [
       "adapter_config.json:   0%|          | 0.00/690 [00:00<?, ?B/s]"
      ]
     },
     "metadata": {},
     "output_type": "display_data"
    },
    {
     "data": {
      "application/vnd.jupyter.widget-view+json": {
       "model_id": "c5b1639833e945a3abeb9cf78e5eea0b",
       "version_major": 2,
       "version_minor": 0
      },
      "text/plain": [
       "adapter_model.safetensors:   0%|          | 0.00/4.42G [00:00<?, ?B/s]"
      ]
     },
     "metadata": {},
     "output_type": "display_data"
    },
    {
     "data": {
      "application/vnd.jupyter.widget-view+json": {
       "model_id": "383f81621bd04b44a06c584ff537e2dc",
       "version_major": 2,
       "version_minor": 0
      },
      "text/plain": [
       "adapter_config.json:   0%|          | 0.00/690 [00:00<?, ?B/s]"
      ]
     },
     "metadata": {},
     "output_type": "display_data"
    },
    {
     "data": {
      "application/vnd.jupyter.widget-view+json": {
       "model_id": "9050425f6204474fb81afd6b8a3bc3dc",
       "version_major": 2,
       "version_minor": 0
      },
      "text/plain": [
       "adapter_model.safetensors:   0%|          | 0.00/4.42G [00:00<?, ?B/s]"
      ]
     },
     "metadata": {},
     "output_type": "display_data"
    },
    {
     "data": {
      "application/vnd.jupyter.widget-view+json": {
       "model_id": "807e95ca34f5495eb3ece7f942097741",
       "version_major": 2,
       "version_minor": 0
      },
      "text/plain": [
       "adapter_config.json:   0%|          | 0.00/690 [00:00<?, ?B/s]"
      ]
     },
     "metadata": {},
     "output_type": "display_data"
    },
    {
     "data": {
      "application/vnd.jupyter.widget-view+json": {
       "model_id": "ca617051f0774d15a12a3d38e76178c0",
       "version_major": 2,
       "version_minor": 0
      },
      "text/plain": [
       "adapter_model.safetensors:   0%|          | 0.00/4.42G [00:00<?, ?B/s]"
      ]
     },
     "metadata": {},
     "output_type": "display_data"
    },
    {
     "data": {
      "application/vnd.jupyter.widget-view+json": {
       "model_id": "4b4ae168be2e49cf9bc6ce848fe36d0d",
       "version_major": 2,
       "version_minor": 0
      },
      "text/plain": [
       "adapter_config.json:   0%|          | 0.00/690 [00:00<?, ?B/s]"
      ]
     },
     "metadata": {},
     "output_type": "display_data"
    },
    {
     "data": {
      "application/vnd.jupyter.widget-view+json": {
       "model_id": "79403f7b33634841ac28643324c27f41",
       "version_major": 2,
       "version_minor": 0
      },
      "text/plain": [
       "adapter_model.safetensors:   0%|          | 0.00/4.42G [00:00<?, ?B/s]"
      ]
     },
     "metadata": {},
     "output_type": "display_data"
    },
    {
     "data": {
      "application/vnd.jupyter.widget-view+json": {
       "model_id": "393929fd9c7b4f1dacc973453371f918",
       "version_major": 2,
       "version_minor": 0
      },
      "text/plain": [
       "adapter_config.json:   0%|          | 0.00/690 [00:00<?, ?B/s]"
      ]
     },
     "metadata": {},
     "output_type": "display_data"
    },
    {
     "data": {
      "application/vnd.jupyter.widget-view+json": {
       "model_id": "a0279d6951544d3e9afe82d2120d654f",
       "version_major": 2,
       "version_minor": 0
      },
      "text/plain": [
       "adapter_model.safetensors:   0%|          | 0.00/4.42G [00:00<?, ?B/s]"
      ]
     },
     "metadata": {},
     "output_type": "display_data"
    },
    {
     "data": {
      "application/vnd.jupyter.widget-view+json": {
       "model_id": "32bd2b6e15e94dc6b23540de8bb1a375",
       "version_major": 2,
       "version_minor": 0
      },
      "text/plain": [
       "adapter_config.json:   0%|          | 0.00/690 [00:00<?, ?B/s]"
      ]
     },
     "metadata": {},
     "output_type": "display_data"
    },
    {
     "data": {
      "application/vnd.jupyter.widget-view+json": {
       "model_id": "93ac8a563aa049b3a21d630b98266eda",
       "version_major": 2,
       "version_minor": 0
      },
      "text/plain": [
       "adapter_model.safetensors:   0%|          | 0.00/4.42G [00:00<?, ?B/s]"
      ]
     },
     "metadata": {},
     "output_type": "display_data"
    },
    {
     "data": {
      "application/vnd.jupyter.widget-view+json": {
       "model_id": "e7162f82d7134ad1a7966430a04e0235",
       "version_major": 2,
       "version_minor": 0
      },
      "text/plain": [
       "adapter_config.json:   0%|          | 0.00/690 [00:00<?, ?B/s]"
      ]
     },
     "metadata": {},
     "output_type": "display_data"
    },
    {
     "data": {
      "application/vnd.jupyter.widget-view+json": {
       "model_id": "14e44d267c484ce695b9cd184fb1e073",
       "version_major": 2,
       "version_minor": 0
      },
      "text/plain": [
       "adapter_model.safetensors:   0%|          | 0.00/4.42G [00:00<?, ?B/s]"
      ]
     },
     "metadata": {},
     "output_type": "display_data"
    },
    {
     "data": {
      "application/vnd.jupyter.widget-view+json": {
       "model_id": "c81d10962fb34f15a77cc322fe4cb43c",
       "version_major": 2,
       "version_minor": 0
      },
      "text/plain": [
       "adapter_config.json:   0%|          | 0.00/690 [00:00<?, ?B/s]"
      ]
     },
     "metadata": {},
     "output_type": "display_data"
    },
    {
     "data": {
      "application/vnd.jupyter.widget-view+json": {
       "model_id": "9923dd81c3fc428fa3a2c88b4a203c19",
       "version_major": 2,
       "version_minor": 0
      },
      "text/plain": [
       "adapter_model.safetensors:   0%|          | 0.00/4.42G [00:00<?, ?B/s]"
      ]
     },
     "metadata": {},
     "output_type": "display_data"
    },
    {
     "data": {
      "application/vnd.jupyter.widget-view+json": {
       "model_id": "d35e582fa3064e2a83f73456b3e6715b",
       "version_major": 2,
       "version_minor": 0
      },
      "text/plain": [
       "adapter_config.json:   0%|          | 0.00/690 [00:00<?, ?B/s]"
      ]
     },
     "metadata": {},
     "output_type": "display_data"
    },
    {
     "data": {
      "application/vnd.jupyter.widget-view+json": {
       "model_id": "992c9f009dec48ada82c0195b171d84a",
       "version_major": 2,
       "version_minor": 0
      },
      "text/plain": [
       "adapter_model.safetensors:   0%|          | 0.00/4.42G [00:00<?, ?B/s]"
      ]
     },
     "metadata": {},
     "output_type": "display_data"
    },
    {
     "data": {
      "application/vnd.jupyter.widget-view+json": {
       "model_id": "8b6c09c360454f519ee06b86eed64578",
       "version_major": 2,
       "version_minor": 0
      },
      "text/plain": [
       "adapter_config.json:   0%|          | 0.00/690 [00:00<?, ?B/s]"
      ]
     },
     "metadata": {},
     "output_type": "display_data"
    },
    {
     "data": {
      "application/vnd.jupyter.widget-view+json": {
       "model_id": "bfecd506f6154b608bb3b799282aa199",
       "version_major": 2,
       "version_minor": 0
      },
      "text/plain": [
       "adapter_model.safetensors:   0%|          | 0.00/4.42G [00:00<?, ?B/s]"
      ]
     },
     "metadata": {},
     "output_type": "display_data"
    },
    {
     "data": {
      "application/vnd.jupyter.widget-view+json": {
       "model_id": "63468704351341199dbcef197891f855",
       "version_major": 2,
       "version_minor": 0
      },
      "text/plain": [
       "adapter_config.json:   0%|          | 0.00/690 [00:00<?, ?B/s]"
      ]
     },
     "metadata": {},
     "output_type": "display_data"
    },
    {
     "data": {
      "application/vnd.jupyter.widget-view+json": {
       "model_id": "187b63064a344e649714ee330dfcd00a",
       "version_major": 2,
       "version_minor": 0
      },
      "text/plain": [
       "adapter_model.safetensors:   0%|          | 0.00/4.42G [00:00<?, ?B/s]"
      ]
     },
     "metadata": {},
     "output_type": "display_data"
    },
    {
     "data": {
      "application/vnd.jupyter.widget-view+json": {
       "model_id": "1da96949ab1149fdaef5a1aad9b00dd4",
       "version_major": 2,
       "version_minor": 0
      },
      "text/plain": [
       "adapter_config.json:   0%|          | 0.00/690 [00:00<?, ?B/s]"
      ]
     },
     "metadata": {},
     "output_type": "display_data"
    },
    {
     "data": {
      "application/vnd.jupyter.widget-view+json": {
       "model_id": "b4bf53ff68c140a19f805ae965644f80",
       "version_major": 2,
       "version_minor": 0
      },
      "text/plain": [
       "adapter_model.safetensors:   0%|          | 0.00/4.42G [00:00<?, ?B/s]"
      ]
     },
     "metadata": {},
     "output_type": "display_data"
    },
    {
     "data": {
      "application/vnd.jupyter.widget-view+json": {
       "model_id": "1fd050358eb84e08b953b60b9a8549f2",
       "version_major": 2,
       "version_minor": 0
      },
      "text/plain": [
       "adapter_config.json:   0%|          | 0.00/690 [00:00<?, ?B/s]"
      ]
     },
     "metadata": {},
     "output_type": "display_data"
    },
    {
     "data": {
      "application/vnd.jupyter.widget-view+json": {
       "model_id": "225bf8506dc44eb3a658c347222d0ebb",
       "version_major": 2,
       "version_minor": 0
      },
      "text/plain": [
       "adapter_model.safetensors:   0%|          | 0.00/4.42G [00:00<?, ?B/s]"
      ]
     },
     "metadata": {},
     "output_type": "display_data"
    },
    {
     "data": {
      "application/vnd.jupyter.widget-view+json": {
       "model_id": "39270aa4678146378aa68100bc53011b",
       "version_major": 2,
       "version_minor": 0
      },
      "text/plain": [
       "adapter_config.json:   0%|          | 0.00/690 [00:00<?, ?B/s]"
      ]
     },
     "metadata": {},
     "output_type": "display_data"
    },
    {
     "data": {
      "application/vnd.jupyter.widget-view+json": {
       "model_id": "7fcdc8150ad94e2a880156b39153288d",
       "version_major": 2,
       "version_minor": 0
      },
      "text/plain": [
       "adapter_model.safetensors:   0%|          | 0.00/4.42G [00:00<?, ?B/s]"
      ]
     },
     "metadata": {},
     "output_type": "display_data"
    },
    {
     "data": {
      "application/vnd.jupyter.widget-view+json": {
       "model_id": "a605301ffddb47029263cf13ae82ae78",
       "version_major": 2,
       "version_minor": 0
      },
      "text/plain": [
       "adapter_config.json:   0%|          | 0.00/690 [00:00<?, ?B/s]"
      ]
     },
     "metadata": {},
     "output_type": "display_data"
    },
    {
     "data": {
      "application/vnd.jupyter.widget-view+json": {
       "model_id": "b65e6f406bad4eddbb8a10aa2601f06b",
       "version_major": 2,
       "version_minor": 0
      },
      "text/plain": [
       "adapter_model.safetensors:   0%|          | 0.00/4.42G [00:00<?, ?B/s]"
      ]
     },
     "metadata": {},
     "output_type": "display_data"
    },
    {
     "data": {
      "application/vnd.jupyter.widget-view+json": {
       "model_id": "3de0d22e47b84984b8305db4c6c94879",
       "version_major": 2,
       "version_minor": 0
      },
      "text/plain": [
       "adapter_config.json:   0%|          | 0.00/690 [00:00<?, ?B/s]"
      ]
     },
     "metadata": {},
     "output_type": "display_data"
    },
    {
     "data": {
      "application/vnd.jupyter.widget-view+json": {
       "model_id": "3ab9c42b1b2c4357983a582bf5dd96e8",
       "version_major": 2,
       "version_minor": 0
      },
      "text/plain": [
       "adapter_model.safetensors:   0%|          | 0.00/4.42G [00:00<?, ?B/s]"
      ]
     },
     "metadata": {},
     "output_type": "display_data"
    },
    {
     "data": {
      "application/vnd.jupyter.widget-view+json": {
       "model_id": "9dd0de2e93fc453581b5d02279233988",
       "version_major": 2,
       "version_minor": 0
      },
      "text/plain": [
       "adapter_config.json:   0%|          | 0.00/690 [00:00<?, ?B/s]"
      ]
     },
     "metadata": {},
     "output_type": "display_data"
    },
    {
     "data": {
      "application/vnd.jupyter.widget-view+json": {
       "model_id": "2a6dcc78cae442db8612dc3db564613a",
       "version_major": 2,
       "version_minor": 0
      },
      "text/plain": [
       "adapter_model.safetensors:   0%|          | 0.00/4.42G [00:00<?, ?B/s]"
      ]
     },
     "metadata": {},
     "output_type": "display_data"
    },
    {
     "data": {
      "application/vnd.jupyter.widget-view+json": {
       "model_id": "951225dad28b46b4936f0b1a909a5f15",
       "version_major": 2,
       "version_minor": 0
      },
      "text/plain": [
       "adapter_config.json:   0%|          | 0.00/690 [00:00<?, ?B/s]"
      ]
     },
     "metadata": {},
     "output_type": "display_data"
    },
    {
     "data": {
      "application/vnd.jupyter.widget-view+json": {
       "model_id": "d9a0732536204ee785cd955c40d142df",
       "version_major": 2,
       "version_minor": 0
      },
      "text/plain": [
       "adapter_model.safetensors:   0%|          | 0.00/4.42G [00:00<?, ?B/s]"
      ]
     },
     "metadata": {},
     "output_type": "display_data"
    },
    {
     "data": {
      "application/vnd.jupyter.widget-view+json": {
       "model_id": "1007c6724fbd4b2f834978a7bef5c542",
       "version_major": 2,
       "version_minor": 0
      },
      "text/plain": [
       "adapter_config.json:   0%|          | 0.00/690 [00:00<?, ?B/s]"
      ]
     },
     "metadata": {},
     "output_type": "display_data"
    },
    {
     "data": {
      "application/vnd.jupyter.widget-view+json": {
       "model_id": "05bb7af68e8d4e82adf8108cba258617",
       "version_major": 2,
       "version_minor": 0
      },
      "text/plain": [
       "adapter_model.safetensors:   0%|          | 0.00/4.42G [00:00<?, ?B/s]"
      ]
     },
     "metadata": {},
     "output_type": "display_data"
    },
    {
     "data": {
      "application/vnd.jupyter.widget-view+json": {
       "model_id": "7f9b369a5a9343e69a5841e939d67a17",
       "version_major": 2,
       "version_minor": 0
      },
      "text/plain": [
       "adapter_config.json:   0%|          | 0.00/690 [00:00<?, ?B/s]"
      ]
     },
     "metadata": {},
     "output_type": "display_data"
    },
    {
     "data": {
      "application/vnd.jupyter.widget-view+json": {
       "model_id": "d127419497134e9ca57dd7cfbded250d",
       "version_major": 2,
       "version_minor": 0
      },
      "text/plain": [
       "adapter_model.safetensors:   0%|          | 0.00/4.42G [00:00<?, ?B/s]"
      ]
     },
     "metadata": {},
     "output_type": "display_data"
    },
    {
     "data": {
      "application/vnd.jupyter.widget-view+json": {
       "model_id": "4714d73260c64e0cb760691a5baea8ca",
       "version_major": 2,
       "version_minor": 0
      },
      "text/plain": [
       "adapter_config.json:   0%|          | 0.00/690 [00:00<?, ?B/s]"
      ]
     },
     "metadata": {},
     "output_type": "display_data"
    },
    {
     "data": {
      "application/vnd.jupyter.widget-view+json": {
       "model_id": "95cedf15ea784ed3946b381e3c80a98c",
       "version_major": 2,
       "version_minor": 0
      },
      "text/plain": [
       "adapter_model.safetensors:   0%|          | 0.00/4.42G [00:00<?, ?B/s]"
      ]
     },
     "metadata": {},
     "output_type": "display_data"
    },
    {
     "data": {
      "application/vnd.jupyter.widget-view+json": {
       "model_id": "3b2a1b838d2d4c809159890204f4619f",
       "version_major": 2,
       "version_minor": 0
      },
      "text/plain": [
       "adapter_config.json:   0%|          | 0.00/690 [00:00<?, ?B/s]"
      ]
     },
     "metadata": {},
     "output_type": "display_data"
    },
    {
     "data": {
      "application/vnd.jupyter.widget-view+json": {
       "model_id": "da3efa554ea94c5e8ac9ee51f04817f2",
       "version_major": 2,
       "version_minor": 0
      },
      "text/plain": [
       "adapter_model.safetensors:   0%|          | 0.00/4.42G [00:00<?, ?B/s]"
      ]
     },
     "metadata": {},
     "output_type": "display_data"
    },
    {
     "data": {
      "application/vnd.jupyter.widget-view+json": {
       "model_id": "a6dcf503d8ed4ad180038191c4752d9d",
       "version_major": 2,
       "version_minor": 0
      },
      "text/plain": [
       "adapter_config.json:   0%|          | 0.00/690 [00:00<?, ?B/s]"
      ]
     },
     "metadata": {},
     "output_type": "display_data"
    },
    {
     "data": {
      "application/vnd.jupyter.widget-view+json": {
       "model_id": "668461b7330c4e40b21839510f26e646",
       "version_major": 2,
       "version_minor": 0
      },
      "text/plain": [
       "adapter_model.safetensors:   0%|          | 0.00/4.42G [00:00<?, ?B/s]"
      ]
     },
     "metadata": {},
     "output_type": "display_data"
    },
    {
     "data": {
      "application/vnd.jupyter.widget-view+json": {
       "model_id": "07fe11fa2b4043d798b42e88727b27ba",
       "version_major": 2,
       "version_minor": 0
      },
      "text/plain": [
       "adapter_config.json:   0%|          | 0.00/690 [00:00<?, ?B/s]"
      ]
     },
     "metadata": {},
     "output_type": "display_data"
    },
    {
     "data": {
      "application/vnd.jupyter.widget-view+json": {
       "model_id": "9ee254b76929465d812d41655ef68a63",
       "version_major": 2,
       "version_minor": 0
      },
      "text/plain": [
       "adapter_model.safetensors:   0%|          | 0.00/4.42G [00:00<?, ?B/s]"
      ]
     },
     "metadata": {},
     "output_type": "display_data"
    },
    {
     "name": "stdout",
     "output_type": "stream",
     "text": [
      "removing ['alex_padilla', 'angus_king', 'ben_cardin', 'bernard_sanders', 'bill_cassidy', 'bill_hagerty', 'catherine_masto', 'chuck_schumer', 'cory_booker', 'deb_fischer', 'dianne_feinstein', 'brian_schatz', 'cindy_hyde-smith', 'cynthia_lummis', 'debbie_stabenow', 'ed_markey', 'jeanne_shaheen', 'jim_risch', 'john_hickenlooper', 'john_kennedy', 'john_thune', 'jon_ossoff', 'kevin_cramer', 'maggie_hassan', 'mark_kelly', 'mitt_romney', 'raphael_warnock', 'richard_shelby', 'rob_portman', 'shelley_capito']\n",
      "[('alex_padilla', 'angus_king'), ('alex_padilla', 'ben_cardin'), ('alex_padilla', 'bernard_sanders'), ('alex_padilla', 'bill_cassidy'), ('alex_padilla', 'bill_hagerty'), ('alex_padilla', 'catherine_masto'), ('alex_padilla', 'chuck_schumer'), ('alex_padilla', 'cory_booker'), ('alex_padilla', 'deb_fischer'), ('alex_padilla', 'dianne_feinstein'), ('angus_king', 'ben_cardin'), ('angus_king', 'bernard_sanders'), ('angus_king', 'bill_cassidy'), ('angus_king', 'bill_hagerty'), ('angus_king', 'brian_schatz'), ('angus_king', 'catherine_masto'), ('angus_king', 'chuck_schumer'), ('angus_king', 'cindy_hyde-smith'), ('angus_king', 'cory_booker'), ('angus_king', 'cynthia_lummis'), ('angus_king', 'deb_fischer'), ('angus_king', 'debbie_stabenow'), ('angus_king', 'dianne_feinstein'), ('angus_king', 'ed_markey'), ('angus_king', 'jeanne_shaheen'), ('angus_king', 'jim_risch'), ('angus_king', 'john_hickenlooper'), ('angus_king', 'john_kennedy'), ('angus_king', 'john_thune'), ('angus_king', 'jon_ossoff'), ('angus_king', 'kevin_cramer'), ('angus_king', 'maggie_hassan'), ('angus_king', 'mark_kelly'), ('angus_king', 'mitt_romney'), ('angus_king', 'raphael_warnock'), ('angus_king', 'richard_shelby'), ('angus_king', 'rob_portman'), ('angus_king', 'shelley_capito'), ('ben_cardin', 'bernard_sanders'), ('ben_cardin', 'bill_cassidy'), ('ben_cardin', 'bill_hagerty'), ('ben_cardin', 'catherine_masto'), ('ben_cardin', 'chuck_schumer'), ('ben_cardin', 'cory_booker'), ('ben_cardin', 'deb_fischer'), ('ben_cardin', 'dianne_feinstein'), ('ben_cardin', 'brian_schatz'), ('ben_cardin', 'cindy_hyde-smith'), ('ben_cardin', 'cynthia_lummis'), ('ben_cardin', 'debbie_stabenow'), ('ben_cardin', 'ed_markey'), ('ben_cardin', 'jeanne_shaheen'), ('ben_cardin', 'jim_risch'), ('ben_cardin', 'john_hickenlooper'), ('ben_cardin', 'john_kennedy'), ('ben_cardin', 'john_thune'), ('ben_cardin', 'jon_ossoff'), ('ben_cardin', 'kevin_cramer'), ('ben_cardin', 'maggie_hassan'), ('ben_cardin', 'mark_kelly'), ('ben_cardin', 'mitt_romney'), ('ben_cardin', 'raphael_warnock'), ('ben_cardin', 'richard_shelby'), ('ben_cardin', 'rob_portman'), ('ben_cardin', 'shelley_capito'), ('bernard_sanders', 'bill_cassidy'), ('bernard_sanders', 'bill_hagerty'), ('bernard_sanders', 'catherine_masto'), ('bernard_sanders', 'chuck_schumer'), ('bernard_sanders', 'cory_booker'), ('bernard_sanders', 'deb_fischer'), ('bernard_sanders', 'dianne_feinstein'), ('bernard_sanders', 'brian_schatz'), ('bernard_sanders', 'cindy_hyde-smith'), ('bernard_sanders', 'cynthia_lummis'), ('bernard_sanders', 'debbie_stabenow'), ('bernard_sanders', 'ed_markey'), ('bernard_sanders', 'jeanne_shaheen'), ('bernard_sanders', 'jim_risch'), ('bernard_sanders', 'john_hickenlooper'), ('bernard_sanders', 'john_kennedy'), ('bernard_sanders', 'john_thune'), ('bernard_sanders', 'jon_ossoff'), ('bernard_sanders', 'kevin_cramer'), ('bernard_sanders', 'maggie_hassan'), ('bernard_sanders', 'mark_kelly'), ('bernard_sanders', 'mitt_romney'), ('bernard_sanders', 'raphael_warnock'), ('bernard_sanders', 'richard_shelby'), ('bernard_sanders', 'rob_portman'), ('bernard_sanders', 'shelley_capito'), ('bill_cassidy', 'bill_hagerty'), ('bill_cassidy', 'catherine_masto'), ('bill_cassidy', 'chuck_schumer'), ('bill_cassidy', 'cory_booker'), ('bill_cassidy', 'deb_fischer'), ('bill_cassidy', 'dianne_feinstein'), ('bill_cassidy', 'brian_schatz'), ('bill_cassidy', 'cindy_hyde-smith'), ('bill_cassidy', 'cynthia_lummis'), ('bill_cassidy', 'debbie_stabenow'), ('bill_cassidy', 'ed_markey'), ('bill_cassidy', 'jeanne_shaheen'), ('bill_cassidy', 'jim_risch'), ('bill_cassidy', 'john_hickenlooper'), ('bill_cassidy', 'john_kennedy'), ('bill_cassidy', 'john_thune'), ('bill_cassidy', 'jon_ossoff'), ('bill_cassidy', 'kevin_cramer'), ('bill_cassidy', 'maggie_hassan'), ('bill_cassidy', 'mark_kelly'), ('bill_cassidy', 'mitt_romney'), ('bill_cassidy', 'raphael_warnock'), ('bill_cassidy', 'richard_shelby'), ('bill_cassidy', 'rob_portman'), ('bill_cassidy', 'shelley_capito'), ('bill_hagerty', 'catherine_masto'), ('bill_hagerty', 'chuck_schumer'), ('bill_hagerty', 'cory_booker'), ('bill_hagerty', 'deb_fischer'), ('bill_hagerty', 'dianne_feinstein'), ('bill_hagerty', 'brian_schatz'), ('bill_hagerty', 'cindy_hyde-smith'), ('bill_hagerty', 'cynthia_lummis'), ('bill_hagerty', 'debbie_stabenow'), ('bill_hagerty', 'ed_markey'), ('bill_hagerty', 'jeanne_shaheen'), ('bill_hagerty', 'jim_risch'), ('bill_hagerty', 'john_hickenlooper'), ('bill_hagerty', 'john_kennedy'), ('bill_hagerty', 'john_thune'), ('bill_hagerty', 'jon_ossoff'), ('bill_hagerty', 'kevin_cramer'), ('bill_hagerty', 'maggie_hassan'), ('bill_hagerty', 'mark_kelly'), ('bill_hagerty', 'mitt_romney'), ('bill_hagerty', 'raphael_warnock'), ('bill_hagerty', 'richard_shelby'), ('bill_hagerty', 'rob_portman'), ('bill_hagerty', 'shelley_capito'), ('catherine_masto', 'chuck_schumer'), ('catherine_masto', 'cory_booker'), ('catherine_masto', 'deb_fischer'), ('catherine_masto', 'dianne_feinstein'), ('catherine_masto', 'brian_schatz'), ('catherine_masto', 'cindy_hyde-smith'), ('catherine_masto', 'cynthia_lummis'), ('catherine_masto', 'debbie_stabenow'), ('catherine_masto', 'ed_markey'), ('catherine_masto', 'jeanne_shaheen'), ('catherine_masto', 'jim_risch'), ('catherine_masto', 'john_hickenlooper'), ('catherine_masto', 'john_kennedy'), ('catherine_masto', 'john_thune'), ('catherine_masto', 'jon_ossoff'), ('catherine_masto', 'kevin_cramer'), ('catherine_masto', 'maggie_hassan'), ('catherine_masto', 'mark_kelly'), ('catherine_masto', 'mitt_romney'), ('catherine_masto', 'raphael_warnock'), ('catherine_masto', 'richard_shelby'), ('catherine_masto', 'rob_portman'), ('catherine_masto', 'shelley_capito'), ('chuck_schumer', 'cory_booker'), ('chuck_schumer', 'deb_fischer'), ('chuck_schumer', 'dianne_feinstein'), ('chuck_schumer', 'brian_schatz'), ('chuck_schumer', 'cindy_hyde-smith'), ('chuck_schumer', 'cynthia_lummis'), ('chuck_schumer', 'debbie_stabenow'), ('chuck_schumer', 'ed_markey'), ('chuck_schumer', 'jeanne_shaheen'), ('chuck_schumer', 'jim_risch'), ('chuck_schumer', 'john_hickenlooper'), ('chuck_schumer', 'john_kennedy'), ('chuck_schumer', 'john_thune'), ('chuck_schumer', 'jon_ossoff'), ('chuck_schumer', 'kevin_cramer'), ('chuck_schumer', 'maggie_hassan'), ('chuck_schumer', 'mark_kelly'), ('chuck_schumer', 'mitt_romney'), ('chuck_schumer', 'raphael_warnock'), ('chuck_schumer', 'richard_shelby'), ('chuck_schumer', 'rob_portman'), ('chuck_schumer', 'shelley_capito'), ('cory_booker', 'deb_fischer'), ('cory_booker', 'dianne_feinstein'), ('cory_booker', 'brian_schatz'), ('cory_booker', 'cindy_hyde-smith'), ('cory_booker', 'cynthia_lummis'), ('cory_booker', 'debbie_stabenow'), ('cory_booker', 'ed_markey'), ('cory_booker', 'jeanne_shaheen'), ('cory_booker', 'jim_risch'), ('cory_booker', 'john_hickenlooper'), ('cory_booker', 'john_kennedy'), ('cory_booker', 'john_thune'), ('cory_booker', 'jon_ossoff'), ('cory_booker', 'kevin_cramer'), ('cory_booker', 'maggie_hassan'), ('cory_booker', 'mark_kelly'), ('cory_booker', 'mitt_romney'), ('cory_booker', 'raphael_warnock'), ('cory_booker', 'richard_shelby'), ('cory_booker', 'rob_portman'), ('cory_booker', 'shelley_capito'), ('deb_fischer', 'dianne_feinstein'), ('deb_fischer', 'brian_schatz'), ('deb_fischer', 'cindy_hyde-smith'), ('deb_fischer', 'cynthia_lummis'), ('deb_fischer', 'debbie_stabenow'), ('deb_fischer', 'ed_markey'), ('deb_fischer', 'jeanne_shaheen'), ('deb_fischer', 'jim_risch'), ('deb_fischer', 'john_hickenlooper'), ('deb_fischer', 'john_kennedy'), ('deb_fischer', 'john_thune'), ('deb_fischer', 'jon_ossoff'), ('deb_fischer', 'kevin_cramer'), ('deb_fischer', 'maggie_hassan'), ('deb_fischer', 'mark_kelly'), ('deb_fischer', 'mitt_romney'), ('deb_fischer', 'raphael_warnock'), ('deb_fischer', 'richard_shelby'), ('deb_fischer', 'rob_portman'), ('deb_fischer', 'shelley_capito'), ('dianne_feinstein', 'brian_schatz'), ('dianne_feinstein', 'cindy_hyde-smith'), ('dianne_feinstein', 'cynthia_lummis'), ('dianne_feinstein', 'debbie_stabenow'), ('dianne_feinstein', 'ed_markey'), ('dianne_feinstein', 'jeanne_shaheen'), ('dianne_feinstein', 'jim_risch'), ('dianne_feinstein', 'john_hickenlooper'), ('dianne_feinstein', 'john_kennedy'), ('dianne_feinstein', 'john_thune'), ('dianne_feinstein', 'jon_ossoff'), ('dianne_feinstein', 'kevin_cramer'), ('dianne_feinstein', 'maggie_hassan'), ('dianne_feinstein', 'mark_kelly'), ('dianne_feinstein', 'mitt_romney'), ('dianne_feinstein', 'raphael_warnock'), ('dianne_feinstein', 'richard_shelby'), ('dianne_feinstein', 'rob_portman'), ('dianne_feinstein', 'shelley_capito')]\n"
     ]
    },
    {
     "data": {
      "application/vnd.jupyter.widget-view+json": {
       "model_id": "4a4dec55206e4b568c0dda976b80fc78",
       "version_major": 2,
       "version_minor": 0
      },
      "text/plain": [
       "adapter_config.json:   0%|          | 0.00/690 [00:00<?, ?B/s]"
      ]
     },
     "metadata": {},
     "output_type": "display_data"
    },
    {
     "data": {
      "application/vnd.jupyter.widget-view+json": {
       "model_id": "d672efb727164ae59f8eb588e62e549d",
       "version_major": 2,
       "version_minor": 0
      },
      "text/plain": [
       "adapter_model.safetensors:   0%|          | 0.00/4.42G [00:00<?, ?B/s]"
      ]
     },
     "metadata": {},
     "output_type": "display_data"
    },
    {
     "data": {
      "application/vnd.jupyter.widget-view+json": {
       "model_id": "d4b3b53fe71043eabb2fcc5b2cce4ecd",
       "version_major": 2,
       "version_minor": 0
      },
      "text/plain": [
       "adapter_config.json:   0%|          | 0.00/690 [00:00<?, ?B/s]"
      ]
     },
     "metadata": {},
     "output_type": "display_data"
    },
    {
     "data": {
      "application/vnd.jupyter.widget-view+json": {
       "model_id": "84e8c85b4a454a22bb3b51895014ffc6",
       "version_major": 2,
       "version_minor": 0
      },
      "text/plain": [
       "adapter_model.safetensors:   0%|          | 0.00/4.42G [00:00<?, ?B/s]"
      ]
     },
     "metadata": {},
     "output_type": "display_data"
    },
    {
     "data": {
      "application/vnd.jupyter.widget-view+json": {
       "model_id": "ef2b3cf7076b4e54a8b47296817ec236",
       "version_major": 2,
       "version_minor": 0
      },
      "text/plain": [
       "adapter_config.json:   0%|          | 0.00/690 [00:00<?, ?B/s]"
      ]
     },
     "metadata": {},
     "output_type": "display_data"
    },
    {
     "data": {
      "application/vnd.jupyter.widget-view+json": {
       "model_id": "2bffa077bd1045f38de4d7152889d3e4",
       "version_major": 2,
       "version_minor": 0
      },
      "text/plain": [
       "adapter_model.safetensors:   0%|          | 0.00/4.42G [00:00<?, ?B/s]"
      ]
     },
     "metadata": {},
     "output_type": "display_data"
    },
    {
     "data": {
      "application/vnd.jupyter.widget-view+json": {
       "model_id": "42cd601d949743c38488962e03eaf176",
       "version_major": 2,
       "version_minor": 0
      },
      "text/plain": [
       "adapter_config.json:   0%|          | 0.00/690 [00:00<?, ?B/s]"
      ]
     },
     "metadata": {},
     "output_type": "display_data"
    },
    {
     "data": {
      "application/vnd.jupyter.widget-view+json": {
       "model_id": "ac4434cdb2c14897832cab58e97645b9",
       "version_major": 2,
       "version_minor": 0
      },
      "text/plain": [
       "adapter_model.safetensors:   0%|          | 0.00/4.42G [00:00<?, ?B/s]"
      ]
     },
     "metadata": {},
     "output_type": "display_data"
    },
    {
     "data": {
      "application/vnd.jupyter.widget-view+json": {
       "model_id": "1aa6aeb5b7f949db99c7f71a468ce5e8",
       "version_major": 2,
       "version_minor": 0
      },
      "text/plain": [
       "adapter_config.json:   0%|          | 0.00/690 [00:00<?, ?B/s]"
      ]
     },
     "metadata": {},
     "output_type": "display_data"
    },
    {
     "data": {
      "application/vnd.jupyter.widget-view+json": {
       "model_id": "c659feea365c4a4c95b90a35b1e3e8f7",
       "version_major": 2,
       "version_minor": 0
      },
      "text/plain": [
       "adapter_model.safetensors:   0%|          | 0.00/4.42G [00:00<?, ?B/s]"
      ]
     },
     "metadata": {},
     "output_type": "display_data"
    },
    {
     "data": {
      "application/vnd.jupyter.widget-view+json": {
       "model_id": "81f9d833f7f44134abe814bb9e8a424e",
       "version_major": 2,
       "version_minor": 0
      },
      "text/plain": [
       "adapter_config.json:   0%|          | 0.00/690 [00:00<?, ?B/s]"
      ]
     },
     "metadata": {},
     "output_type": "display_data"
    },
    {
     "data": {
      "application/vnd.jupyter.widget-view+json": {
       "model_id": "574b38c4096a4168a3a69482429452b5",
       "version_major": 2,
       "version_minor": 0
      },
      "text/plain": [
       "adapter_model.safetensors:   0%|          | 0.00/4.42G [00:00<?, ?B/s]"
      ]
     },
     "metadata": {},
     "output_type": "display_data"
    },
    {
     "data": {
      "application/vnd.jupyter.widget-view+json": {
       "model_id": "d59c3c589fac48a9937158d667731f11",
       "version_major": 2,
       "version_minor": 0
      },
      "text/plain": [
       "adapter_config.json:   0%|          | 0.00/690 [00:00<?, ?B/s]"
      ]
     },
     "metadata": {},
     "output_type": "display_data"
    },
    {
     "data": {
      "application/vnd.jupyter.widget-view+json": {
       "model_id": "793074da3ae445aabb6f8eca5656089a",
       "version_major": 2,
       "version_minor": 0
      },
      "text/plain": [
       "adapter_model.safetensors:   0%|          | 0.00/4.42G [00:00<?, ?B/s]"
      ]
     },
     "metadata": {},
     "output_type": "display_data"
    },
    {
     "data": {
      "application/vnd.jupyter.widget-view+json": {
       "model_id": "c5a2d3ce93ae460f9a6be789101f43ff",
       "version_major": 2,
       "version_minor": 0
      },
      "text/plain": [
       "adapter_config.json:   0%|          | 0.00/690 [00:00<?, ?B/s]"
      ]
     },
     "metadata": {},
     "output_type": "display_data"
    },
    {
     "data": {
      "application/vnd.jupyter.widget-view+json": {
       "model_id": "c770d6f1ce88462390997b7e73df1288",
       "version_major": 2,
       "version_minor": 0
      },
      "text/plain": [
       "adapter_model.safetensors:   0%|          | 0.00/4.42G [00:00<?, ?B/s]"
      ]
     },
     "metadata": {},
     "output_type": "display_data"
    },
    {
     "data": {
      "application/vnd.jupyter.widget-view+json": {
       "model_id": "ff7882f191764dfea55cc76f3e5ed58f",
       "version_major": 2,
       "version_minor": 0
      },
      "text/plain": [
       "adapter_config.json:   0%|          | 0.00/690 [00:00<?, ?B/s]"
      ]
     },
     "metadata": {},
     "output_type": "display_data"
    },
    {
     "data": {
      "application/vnd.jupyter.widget-view+json": {
       "model_id": "5e71b1eb21c745159bcb26017e301386",
       "version_major": 2,
       "version_minor": 0
      },
      "text/plain": [
       "adapter_model.safetensors:   0%|          | 0.00/4.42G [00:00<?, ?B/s]"
      ]
     },
     "metadata": {},
     "output_type": "display_data"
    },
    {
     "data": {
      "application/vnd.jupyter.widget-view+json": {
       "model_id": "087269f48c4c4637919d4d0f7e85a5a5",
       "version_major": 2,
       "version_minor": 0
      },
      "text/plain": [
       "adapter_config.json:   0%|          | 0.00/690 [00:00<?, ?B/s]"
      ]
     },
     "metadata": {},
     "output_type": "display_data"
    },
    {
     "data": {
      "application/vnd.jupyter.widget-view+json": {
       "model_id": "37648db1a9ac4d6da3f1a82405b2b8db",
       "version_major": 2,
       "version_minor": 0
      },
      "text/plain": [
       "adapter_model.safetensors:   0%|          | 0.00/4.42G [00:00<?, ?B/s]"
      ]
     },
     "metadata": {},
     "output_type": "display_data"
    },
    {
     "data": {
      "application/vnd.jupyter.widget-view+json": {
       "model_id": "6d2e0192a23447ddafed349678f6fec4",
       "version_major": 2,
       "version_minor": 0
      },
      "text/plain": [
       "adapter_config.json:   0%|          | 0.00/690 [00:00<?, ?B/s]"
      ]
     },
     "metadata": {},
     "output_type": "display_data"
    },
    {
     "data": {
      "application/vnd.jupyter.widget-view+json": {
       "model_id": "2961492930904837b3ef065f657c1fab",
       "version_major": 2,
       "version_minor": 0
      },
      "text/plain": [
       "adapter_model.safetensors:   0%|          | 0.00/4.42G [00:00<?, ?B/s]"
      ]
     },
     "metadata": {},
     "output_type": "display_data"
    },
    {
     "data": {
      "application/vnd.jupyter.widget-view+json": {
       "model_id": "ea55acd23a8d4172afb688605c9dfd5e",
       "version_major": 2,
       "version_minor": 0
      },
      "text/plain": [
       "adapter_config.json:   0%|          | 0.00/690 [00:00<?, ?B/s]"
      ]
     },
     "metadata": {},
     "output_type": "display_data"
    },
    {
     "data": {
      "application/vnd.jupyter.widget-view+json": {
       "model_id": "860bf574b1c3424eb267c7154c47539a",
       "version_major": 2,
       "version_minor": 0
      },
      "text/plain": [
       "adapter_model.safetensors:   0%|          | 0.00/4.42G [00:00<?, ?B/s]"
      ]
     },
     "metadata": {},
     "output_type": "display_data"
    },
    {
     "data": {
      "application/vnd.jupyter.widget-view+json": {
       "model_id": "9e1e1c8515424089b8c9629196d5659f",
       "version_major": 2,
       "version_minor": 0
      },
      "text/plain": [
       "adapter_config.json:   0%|          | 0.00/690 [00:00<?, ?B/s]"
      ]
     },
     "metadata": {},
     "output_type": "display_data"
    },
    {
     "data": {
      "application/vnd.jupyter.widget-view+json": {
       "model_id": "9fd569365b944d0e9346673f62f8eacf",
       "version_major": 2,
       "version_minor": 0
      },
      "text/plain": [
       "adapter_model.safetensors:   0%|          | 0.00/4.42G [00:00<?, ?B/s]"
      ]
     },
     "metadata": {},
     "output_type": "display_data"
    }
   ],
   "source": [
    "from itertools import combinations\n",
    "from shutil import rmtree\n",
    "\n",
    "save_path = '/home/paperspace/congressional-twin/models/lora_matrices_differences_dict.p'\n",
    "if os.path.exists(save_path):\n",
    "    differences_dict = pickle.load(open(save_path, 'rb'))\n",
    "else:\n",
    "    differences_dict={}\n",
    "\n",
    "if os.path.exists('downloaded_model_list.p'):\n",
    "    downloaded_model_list = pickle.load(open('downloaded_model_list.p', 'rb'))\n",
    "else:\n",
    "    downloaded_model_list=[]\n",
    "    \n",
    "for name in valid_names:\n",
    "    if name not in differences_dict:\n",
    "        differences_dict[name] = {}\n",
    "\n",
    "iterable = combinations(valid_names, 2)\n",
    "max_downloaded_models=30\n",
    "added_list=[]\n",
    "\n",
    "for (name1, name2) in iterable:\n",
    "    #- If pair has already been done, move on.\n",
    "    if name2 in differences_dict[name1]:\n",
    "        continue\n",
    "\n",
    "    #- Get difference of LoRA matrices\n",
    "    hub_path1 = valid_path_dict[name1]\n",
    "    model = PeftModel.from_pretrained(base_model, hub_path1, device_map='cpu')\n",
    "    lora_matrices1 = get_lora_matrices(model)\n",
    "\n",
    "    hub_path2 = valid_path_dict[name2]\n",
    "    model = PeftModel.from_pretrained(base_model, hub_path2, device_map='cpu')\n",
    "    lora_matrices2 = get_lora_matrices(model)\n",
    "\n",
    "    temp_diff = 0\n",
    "    for ii, matrix in enumerate(lora_matrices1):\n",
    "        temp_diff += np.linalg.norm(matrix - lora_matrices2[ii])**2\n",
    "    temp_diff = np.sqrt(temp_diff)\n",
    "\n",
    "    #- Add difference to differences_dict\n",
    "    differences_dict[name1][name2] = temp_diff\n",
    "    differences_dict[name2][name1] = temp_diff\n",
    "\n",
    "    added_list.append((name1, name2))\n",
    "\n",
    "    pickle.dump(differences_dict, open(save_path, 'wb'))\n",
    "\n",
    "    #- Add names to downlaoded models if not already there\n",
    "    if name1 not in downloaded_model_list:\n",
    "        downloaded_model_list.append(name1)\n",
    "\n",
    "    if name2 not in downloaded_model_list:\n",
    "        downloaded_model_list.append(name2)\n",
    "\n",
    "    #- If disk space is low, get all combinations of already downloaded models\n",
    "    if len(downloaded_model_list) >= max_downloaded_models:\n",
    "        downloaded_iterable = combinations(downloaded_model_list, 2)\n",
    "\n",
    "        for (name1, name2) in downloaded_iterable:\n",
    "            if name2 in differences_dict[name1]:\n",
    "                continue\n",
    "            if name1 not in valid_names or name2 not in valid_names:\n",
    "                continue\n",
    "\n",
    "            hub_path1 = valid_path_dict[name1]\n",
    "            model = PeftModel.from_pretrained(base_model, hub_path1, device_map='cpu')\n",
    "            lora_matrices1 = get_lora_matrices(model)\n",
    "        \n",
    "            hub_path2 = valid_path_dict[name2]\n",
    "            model = PeftModel.from_pretrained(base_model, hub_path2, device_map='cpu')\n",
    "            lora_matrices2 = get_lora_matrices(model)\n",
    "\n",
    "            temp_diff = 0\n",
    "            for ii, matrix in enumerate(lora_matrices1):\n",
    "                temp_diff += np.linalg.norm(matrix - lora_matrices2[ii])**2\n",
    "            temp_diff = np.sqrt(temp_diff)\n",
    "\n",
    "            differences_dict[name1][name2] = temp_diff\n",
    "            differences_dict[name2][name1] = temp_diff\n",
    "\n",
    "            added_list.append((name1, name2))\n",
    "\n",
    "            pickle.dump(differences_dict, open(save_path, 'wb'))\n",
    "\n",
    "        print(f'removing {downloaded_model_list}')\n",
    "        for _name in downloaded_model_list:\n",
    "            tmp = f'models--nomic-ai--{_name}'\n",
    "            rmtree(f'/home/paperspace/.cache/huggingface/hub/{tmp}')\n",
    "\n",
    "        print(added_list)\n",
    "        downloaded_model_list = []\n",
    "        added_list = []\n",
    "    pickle.dump(downloaded_model_list, open('downloaded_model_list.p', 'wb'))"
   ]
  },
  {
   "cell_type": "code",
   "execution_count": 9,
   "id": "58a172ab-382b-48f5-bede-839042cc176b",
   "metadata": {},
   "outputs": [],
   "source": [
    "party_dict = {}\n",
    "for name in valid_names:\n",
    "    party = df[df['name_standardized'] == name]['party'].values[0].lower()\n",
    "    party_dict[name] = party"
   ]
  },
  {
   "cell_type": "code",
   "execution_count": 13,
   "id": "ef93bba6-ac12-44e8-9cac-6110df153261",
   "metadata": {},
   "outputs": [
    {
     "name": "stdout",
     "output_type": "stream",
     "text": [
      "33\n",
      "29\n"
     ]
    },
    {
     "data": {
      "text/plain": [
       "<Axes: >"
      ]
     },
     "execution_count": 13,
     "metadata": {},
     "output_type": "execute_result"
    },
    {
     "data": {
      "image/png": "[encoded data removed]",
      "text/plain": [
       "<Figure size 1000x1000 with 2 Axes>"
      ]
     },
     "metadata": {},
     "output_type": "display_data"
    }
   ],
   "source": [
    "from graspologic.plot import heatmap\n",
    "\n",
    "print(len(valid_names))\n",
    "_D_names = []\n",
    "for name in valid_names:\n",
    "    temp = np.mean(list(differences_dict[name].values()))\n",
    "    if temp < 25:\n",
    "        _D_names.append(name)\n",
    "\n",
    "print(len(_D_names))\n",
    "D = np.zeros((len(_D_names), len(_D_names)))\n",
    "for i, name1 in enumerate(_D_names):\n",
    "    for j, name2 in enumerate(_D_names[i+1:], i+1):\n",
    "        D[i,j] = differences_dict[name1][name2]\n",
    "        D[j,i] = differences_dict[name2][name1]\n",
    "\n",
    "heatmap(D)"
   ]
  },
  {
   "cell_type": "code",
   "execution_count": 14,
   "id": "5e10feed-7b10-4442-8c4f-57aceaa5e1f5",
   "metadata": {},
   "outputs": [
    {
     "data": {
      "text/plain": [
       "<matplotlib.collections.PathCollection at 0x7ff4089b8c10>"
      ]
     },
     "execution_count": 14,
     "metadata": {},
     "output_type": "execute_result"
    },
    {
     "data": {
      "image/png": "[encoded data removed]",
      "text/plain": [
       "<Figure size 640x480 with 1 Axes>"
      ]
     },
     "metadata": {},
     "output_type": "display_data"
    }
   ],
   "source": [
    "from graspologic.embed import ClassicalMDS\n",
    "import matplotlib.pyplot as plt\n",
    "fig, ax = plt.subplots(1,1)\n",
    "cmds = ClassicalMDS()\n",
    "cmds_embds=cmds.fit_transform(D)\n",
    "\n",
    "color_dict = {'r': 'tab:red', 'd': 'tab:blue', 'i': 'tab:green'}\n",
    "\n",
    "ax.scatter(cmds_embds[:, 0], cmds_embds[:, 1], c=[color_dict[p] for name, p in party_dict.items() if name in _D_names])"
   ]
  },
  {
   "cell_type": "code",
   "execution_count": 50,
   "id": "88b85fe6-f59a-4367-b5d8-21a74bc3a63c",
   "metadata": {},
   "outputs": [
    {
     "name": "stdout",
     "output_type": "stream",
     "text": [
      "nomic-ai/joni_ernst\n",
      "nomic-ai/garret_graves\n",
      "nomic-ai/lee_zeldin\n",
      "nomic-ai/carlos_curbelo\n",
      "nomic-ai/mike_enzi\n",
      "nomic-ai/don_young\n",
      "nomic-ai/madeleine_dean\n",
      "nomic-ai/jim_risch\n",
      "nomic-ai/josh_harder\n",
      "nomic-ai/richard_neal\n",
      "nomic-ai/peter_defazio\n",
      "nomic-ai/anna_eshoo\n",
      "nomic-ai/david_scott\n",
      "nomic-ai/cory_gardner\n",
      "nomic-ai/kurt_schrader\n",
      "nomic-ai/scott_rigell\n",
      "nomic-ai/lizzie_fletcher\n",
      "nomic-ai/scott_tipton\n",
      "nomic-ai/michael_waltz\n",
      "nomic-ai/donald_mceachin\n",
      "nomic-ai/ralph_norman\n"
     ]
    },
    {
     "data": {
      "application/vnd.jupyter.widget-view+json": {
       "model_id": "4dfd5353677c4193ba6ea729e95b302d",
       "version_major": 2,
       "version_minor": 0
      },
      "text/plain": [
       "adapter_config.json:   0%|          | 0.00/690 [00:00<?, ?B/s]"
      ]
     },
     "metadata": {},
     "output_type": "display_data"
    },
    {
     "data": {
      "application/vnd.jupyter.widget-view+json": {
       "model_id": "02e0c8d9018f49768a3ae9a3acadc28e",
       "version_major": 2,
       "version_minor": 0
      },
      "text/plain": [
       "adapter_model.safetensors:   0%|          | 0.00/4.42G [00:00<?, ?B/s]"
      ]
     },
     "metadata": {},
     "output_type": "display_data"
    },
    {
     "name": "stdout",
     "output_type": "stream",
     "text": [
      "nomic-ai/andy_kim\n"
     ]
    },
    {
     "data": {
      "application/vnd.jupyter.widget-view+json": {
       "model_id": "fd9306241491435b8e2e9cec44be6679",
       "version_major": 2,
       "version_minor": 0
      },
      "text/plain": [
       "adapter_config.json:   0%|          | 0.00/690 [00:00<?, ?B/s]"
      ]
     },
     "metadata": {},
     "output_type": "display_data"
    },
    {
     "data": {
      "application/vnd.jupyter.widget-view+json": {
       "model_id": "84b723aa0a064b9ca83e11fe86a237a1",
       "version_major": 2,
       "version_minor": 0
      },
      "text/plain": [
       "adapter_model.safetensors:   0%|          | 0.00/4.42G [00:00<?, ?B/s]"
      ]
     },
     "metadata": {},
     "output_type": "display_data"
    },
    {
     "name": "stdout",
     "output_type": "stream",
     "text": [
      "nomic-ai/kay_granger\n"
     ]
    },
    {
     "data": {
      "application/vnd.jupyter.widget-view+json": {
       "model_id": "34c4fd09f1fd48f88b979f4d1598901d",
       "version_major": 2,
       "version_minor": 0
      },
      "text/plain": [
       "adapter_config.json:   0%|          | 0.00/690 [00:00<?, ?B/s]"
      ]
     },
     "metadata": {},
     "output_type": "display_data"
    },
    {
     "data": {
      "application/vnd.jupyter.widget-view+json": {
       "model_id": "f525bb9da85b4361ae41cf1cbd2f9332",
       "version_major": 2,
       "version_minor": 0
      },
      "text/plain": [
       "adapter_model.safetensors:   0%|          | 0.00/4.42G [00:00<?, ?B/s]"
      ]
     },
     "metadata": {},
     "output_type": "display_data"
    },
    {
     "name": "stdout",
     "output_type": "stream",
     "text": [
      "nomic-ai/lauren_underwood\n"
     ]
    },
    {
     "data": {
      "application/vnd.jupyter.widget-view+json": {
       "model_id": "df87979ce5ca4e76b9bcb39c48447ba5",
       "version_major": 2,
       "version_minor": 0
      },
      "text/plain": [
       "adapter_config.json:   0%|          | 0.00/690 [00:00<?, ?B/s]"
      ]
     },
     "metadata": {},
     "output_type": "display_data"
    },
    {
     "data": {
      "application/vnd.jupyter.widget-view+json": {
       "model_id": "7368b9adc6c8457ca8db48b658109f54",
       "version_major": 2,
       "version_minor": 0
      },
      "text/plain": [
       "adapter_model.safetensors:   0%|          | 0.00/4.42G [00:00<?, ?B/s]"
      ]
     },
     "metadata": {},
     "output_type": "display_data"
    },
    {
     "name": "stdout",
     "output_type": "stream",
     "text": [
      "nomic-ai/barbara_mikulski\n"
     ]
    },
    {
     "data": {
      "application/vnd.jupyter.widget-view+json": {
       "model_id": "e0e41a3b9ff0477fbf5776435a615e3b",
       "version_major": 2,
       "version_minor": 0
      },
      "text/plain": [
       "adapter_config.json:   0%|          | 0.00/690 [00:00<?, ?B/s]"
      ]
     },
     "metadata": {},
     "output_type": "display_data"
    },
    {
     "data": {
      "application/vnd.jupyter.widget-view+json": {
       "model_id": "c0ed87e4c37f40ce8b675a7174dc2d6b",
       "version_major": 2,
       "version_minor": 0
      },
      "text/plain": [
       "adapter_model.safetensors:   0%|          | 0.00/4.42G [00:00<?, ?B/s]"
      ]
     },
     "metadata": {},
     "output_type": "display_data"
    },
    {
     "name": "stdout",
     "output_type": "stream",
     "text": [
      "nomic-ai/hal_rogers\n"
     ]
    },
    {
     "data": {
      "application/vnd.jupyter.widget-view+json": {
       "model_id": "1b0974f6ddc8489d86d96ab4ea9fc326",
       "version_major": 2,
       "version_minor": 0
      },
      "text/plain": [
       "adapter_config.json:   0%|          | 0.00/690 [00:00<?, ?B/s]"
      ]
     },
     "metadata": {},
     "output_type": "display_data"
    },
    {
     "data": {
      "application/vnd.jupyter.widget-view+json": {
       "model_id": "4a8c0ab874f347fda9c71e5fd07358a6",
       "version_major": 2,
       "version_minor": 0
      },
      "text/plain": [
       "adapter_model.safetensors:   0%|          | 0.00/4.42G [00:00<?, ?B/s]"
      ]
     },
     "metadata": {},
     "output_type": "display_data"
    },
    {
     "name": "stdout",
     "output_type": "stream",
     "text": [
      "nomic-ai/juan_vargas\n"
     ]
    },
    {
     "data": {
      "application/vnd.jupyter.widget-view+json": {
       "model_id": "cc57041703e241a9bcc378213a6a77cb",
       "version_major": 2,
       "version_minor": 0
      },
      "text/plain": [
       "adapter_config.json:   0%|          | 0.00/690 [00:00<?, ?B/s]"
      ]
     },
     "metadata": {},
     "output_type": "display_data"
    },
    {
     "data": {
      "application/vnd.jupyter.widget-view+json": {
       "model_id": "0e429f29421344ccbc46a5519a2dfccc",
       "version_major": 2,
       "version_minor": 0
      },
      "text/plain": [
       "adapter_model.safetensors:   0%|          | 0.00/4.42G [00:00<?, ?B/s]"
      ]
     },
     "metadata": {},
     "output_type": "display_data"
    },
    {
     "name": "stdout",
     "output_type": "stream",
     "text": [
      "nomic-ai/mike_gallagher\n"
     ]
    },
    {
     "data": {
      "application/vnd.jupyter.widget-view+json": {
       "model_id": "19c2476df07b41118fe6e09d47d61b32",
       "version_major": 2,
       "version_minor": 0
      },
      "text/plain": [
       "adapter_config.json:   0%|          | 0.00/690 [00:00<?, ?B/s]"
      ]
     },
     "metadata": {},
     "output_type": "display_data"
    },
    {
     "data": {
      "application/vnd.jupyter.widget-view+json": {
       "model_id": "322524e57e8444ed862cd2f76d262ec8",
       "version_major": 2,
       "version_minor": 0
      },
      "text/plain": [
       "adapter_model.safetensors:   0%|          | 0.00/4.42G [00:00<?, ?B/s]"
      ]
     },
     "metadata": {},
     "output_type": "display_data"
    },
    {
     "name": "stdout",
     "output_type": "stream",
     "text": [
      "nomic-ai/katie_porter\n"
     ]
    },
    {
     "data": {
      "application/vnd.jupyter.widget-view+json": {
       "model_id": "02595a6aefa04f77a7209ff4289e0200",
       "version_major": 2,
       "version_minor": 0
      },
      "text/plain": [
       "adapter_config.json:   0%|          | 0.00/690 [00:00<?, ?B/s]"
      ]
     },
     "metadata": {},
     "output_type": "display_data"
    },
    {
     "data": {
      "application/vnd.jupyter.widget-view+json": {
       "model_id": "8982d32a60fa45e49b0c64f2c5510c03",
       "version_major": 2,
       "version_minor": 0
      },
      "text/plain": [
       "adapter_model.safetensors:   0%|          | 0.00/4.42G [00:00<?, ?B/s]"
      ]
     },
     "metadata": {},
     "output_type": "display_data"
    },
    {
     "name": "stdout",
     "output_type": "stream",
     "text": [
      "nomic-ai/brian_babin\n"
     ]
    },
    {
     "data": {
      "application/vnd.jupyter.widget-view+json": {
       "model_id": "0f1236e94e25477eb3bb08e1fe0c4064",
       "version_major": 2,
       "version_minor": 0
      },
      "text/plain": [
       "adapter_config.json:   0%|          | 0.00/690 [00:00<?, ?B/s]"
      ]
     },
     "metadata": {},
     "output_type": "display_data"
    },
    {
     "data": {
      "application/vnd.jupyter.widget-view+json": {
       "model_id": "8fb2c8a9cf294b7fade774cc98f43e24",
       "version_major": 2,
       "version_minor": 0
      },
      "text/plain": [
       "adapter_model.safetensors:   0%|          | 0.00/4.42G [00:00<?, ?B/s]"
      ]
     },
     "metadata": {},
     "output_type": "display_data"
    },
    {
     "name": "stdout",
     "output_type": "stream",
     "text": [
      "nomic-ai/garret_graves\n",
      "nomic-ai/lee_zeldin\n",
      "nomic-ai/carlos_curbelo\n",
      "nomic-ai/mike_enzi\n",
      "nomic-ai/don_young\n",
      "nomic-ai/madeleine_dean\n",
      "nomic-ai/jim_risch\n",
      "nomic-ai/josh_harder\n",
      "nomic-ai/richard_neal\n",
      "nomic-ai/peter_defazio\n",
      "nomic-ai/anna_eshoo\n",
      "nomic-ai/david_scott\n",
      "nomic-ai/cory_gardner\n",
      "nomic-ai/kurt_schrader\n",
      "nomic-ai/scott_rigell\n",
      "nomic-ai/lizzie_fletcher\n",
      "nomic-ai/scott_tipton\n",
      "nomic-ai/michael_waltz\n",
      "nomic-ai/donald_mceachin\n",
      "nomic-ai/ralph_norman\n",
      "nomic-ai/andy_kim\n",
      "nomic-ai/kay_granger\n",
      "nomic-ai/lauren_underwood\n",
      "nomic-ai/barbara_mikulski\n",
      "nomic-ai/hal_rogers\n",
      "nomic-ai/juan_vargas\n",
      "nomic-ai/mike_gallagher\n",
      "nomic-ai/katie_porter\n",
      "nomic-ai/brian_babin\n",
      "nomic-ai/lee_zeldin\n",
      "nomic-ai/carlos_curbelo\n",
      "nomic-ai/mike_enzi\n",
      "nomic-ai/don_young\n",
      "nomic-ai/madeleine_dean\n",
      "nomic-ai/jim_risch\n",
      "nomic-ai/josh_harder\n",
      "nomic-ai/richard_neal\n",
      "nomic-ai/peter_defazio\n",
      "nomic-ai/anna_eshoo\n",
      "nomic-ai/david_scott\n",
      "nomic-ai/cory_gardner\n",
      "nomic-ai/kurt_schrader\n",
      "nomic-ai/scott_rigell\n",
      "nomic-ai/lizzie_fletcher\n",
      "nomic-ai/scott_tipton\n",
      "nomic-ai/michael_waltz\n",
      "nomic-ai/donald_mceachin\n",
      "nomic-ai/ralph_norman\n",
      "nomic-ai/andy_kim\n",
      "nomic-ai/kay_granger\n",
      "nomic-ai/lauren_underwood\n",
      "nomic-ai/barbara_mikulski\n",
      "nomic-ai/hal_rogers\n",
      "nomic-ai/juan_vargas\n",
      "nomic-ai/mike_gallagher\n",
      "nomic-ai/katie_porter\n",
      "nomic-ai/brian_babin\n",
      "nomic-ai/carlos_curbelo\n",
      "nomic-ai/mike_enzi\n",
      "nomic-ai/don_young\n",
      "nomic-ai/madeleine_dean\n",
      "nomic-ai/jim_risch\n",
      "nomic-ai/josh_harder\n",
      "nomic-ai/richard_neal\n",
      "nomic-ai/peter_defazio\n",
      "nomic-ai/anna_eshoo\n",
      "nomic-ai/david_scott\n",
      "nomic-ai/cory_gardner\n",
      "nomic-ai/kurt_schrader\n",
      "nomic-ai/scott_rigell\n",
      "nomic-ai/lizzie_fletcher\n",
      "nomic-ai/scott_tipton\n",
      "nomic-ai/michael_waltz\n",
      "nomic-ai/donald_mceachin\n",
      "nomic-ai/ralph_norman\n",
      "nomic-ai/andy_kim\n",
      "nomic-ai/kay_granger\n",
      "nomic-ai/lauren_underwood\n",
      "nomic-ai/barbara_mikulski\n",
      "nomic-ai/hal_rogers\n",
      "nomic-ai/juan_vargas\n",
      "nomic-ai/mike_gallagher\n",
      "nomic-ai/katie_porter\n",
      "nomic-ai/brian_babin\n",
      "nomic-ai/mike_enzi\n",
      "nomic-ai/don_young\n",
      "nomic-ai/madeleine_dean\n",
      "nomic-ai/jim_risch\n",
      "nomic-ai/josh_harder\n",
      "nomic-ai/richard_neal\n",
      "nomic-ai/peter_defazio\n",
      "nomic-ai/anna_eshoo\n",
      "nomic-ai/david_scott\n",
      "nomic-ai/cory_gardner\n",
      "nomic-ai/kurt_schrader\n",
      "nomic-ai/scott_rigell\n",
      "nomic-ai/lizzie_fletcher\n",
      "nomic-ai/scott_tipton\n",
      "nomic-ai/michael_waltz\n",
      "nomic-ai/donald_mceachin\n",
      "nomic-ai/ralph_norman\n",
      "nomic-ai/andy_kim\n",
      "nomic-ai/kay_granger\n",
      "nomic-ai/lauren_underwood\n",
      "nomic-ai/barbara_mikulski\n",
      "nomic-ai/hal_rogers\n",
      "nomic-ai/juan_vargas\n",
      "nomic-ai/mike_gallagher\n",
      "nomic-ai/katie_porter\n",
      "nomic-ai/brian_babin\n",
      "nomic-ai/don_young\n",
      "nomic-ai/madeleine_dean\n",
      "nomic-ai/jim_risch\n",
      "nomic-ai/josh_harder\n",
      "nomic-ai/richard_neal\n",
      "nomic-ai/peter_defazio\n",
      "nomic-ai/anna_eshoo\n",
      "nomic-ai/david_scott\n",
      "nomic-ai/cory_gardner\n",
      "nomic-ai/kurt_schrader\n",
      "nomic-ai/scott_rigell\n",
      "nomic-ai/lizzie_fletcher\n",
      "nomic-ai/scott_tipton\n",
      "nomic-ai/michael_waltz\n",
      "nomic-ai/donald_mceachin\n",
      "nomic-ai/ralph_norman\n",
      "nomic-ai/andy_kim\n",
      "nomic-ai/kay_granger\n",
      "nomic-ai/lauren_underwood\n",
      "nomic-ai/barbara_mikulski\n",
      "nomic-ai/hal_rogers\n",
      "nomic-ai/juan_vargas\n",
      "nomic-ai/mike_gallagher\n",
      "nomic-ai/katie_porter\n",
      "nomic-ai/brian_babin\n",
      "nomic-ai/madeleine_dean\n",
      "nomic-ai/jim_risch\n",
      "nomic-ai/josh_harder\n",
      "nomic-ai/richard_neal\n",
      "nomic-ai/peter_defazio\n",
      "nomic-ai/anna_eshoo\n",
      "nomic-ai/david_scott\n",
      "nomic-ai/cory_gardner\n",
      "nomic-ai/kurt_schrader\n",
      "nomic-ai/scott_rigell\n",
      "nomic-ai/lizzie_fletcher\n",
      "nomic-ai/scott_tipton\n",
      "nomic-ai/michael_waltz\n",
      "nomic-ai/donald_mceachin\n",
      "nomic-ai/ralph_norman\n",
      "nomic-ai/andy_kim\n",
      "nomic-ai/kay_granger\n",
      "nomic-ai/lauren_underwood\n",
      "nomic-ai/barbara_mikulski\n",
      "nomic-ai/hal_rogers\n",
      "nomic-ai/juan_vargas\n",
      "nomic-ai/mike_gallagher\n",
      "nomic-ai/katie_porter\n",
      "nomic-ai/brian_babin\n",
      "nomic-ai/jim_risch\n",
      "nomic-ai/josh_harder\n",
      "nomic-ai/richard_neal\n",
      "nomic-ai/peter_defazio\n",
      "nomic-ai/anna_eshoo\n",
      "nomic-ai/david_scott\n",
      "nomic-ai/cory_gardner\n",
      "nomic-ai/kurt_schrader\n",
      "nomic-ai/scott_rigell\n",
      "nomic-ai/lizzie_fletcher\n",
      "nomic-ai/scott_tipton\n",
      "nomic-ai/michael_waltz\n",
      "nomic-ai/donald_mceachin\n",
      "nomic-ai/ralph_norman\n",
      "nomic-ai/andy_kim\n",
      "nomic-ai/kay_granger\n",
      "nomic-ai/lauren_underwood\n",
      "nomic-ai/barbara_mikulski\n",
      "nomic-ai/hal_rogers\n",
      "nomic-ai/juan_vargas\n",
      "nomic-ai/mike_gallagher\n",
      "nomic-ai/katie_porter\n",
      "nomic-ai/brian_babin\n",
      "nomic-ai/josh_harder\n",
      "nomic-ai/richard_neal\n",
      "nomic-ai/peter_defazio\n",
      "nomic-ai/anna_eshoo\n",
      "nomic-ai/david_scott\n",
      "nomic-ai/cory_gardner\n",
      "nomic-ai/kurt_schrader\n",
      "nomic-ai/scott_rigell\n",
      "nomic-ai/lizzie_fletcher\n",
      "nomic-ai/scott_tipton\n",
      "nomic-ai/michael_waltz\n",
      "nomic-ai/donald_mceachin\n",
      "nomic-ai/ralph_norman\n",
      "nomic-ai/andy_kim\n",
      "nomic-ai/kay_granger\n",
      "nomic-ai/lauren_underwood\n",
      "nomic-ai/barbara_mikulski\n",
      "nomic-ai/hal_rogers\n",
      "nomic-ai/juan_vargas\n",
      "nomic-ai/mike_gallagher\n",
      "nomic-ai/katie_porter\n",
      "nomic-ai/brian_babin\n",
      "nomic-ai/richard_neal\n",
      "nomic-ai/peter_defazio\n",
      "nomic-ai/anna_eshoo\n",
      "nomic-ai/david_scott\n",
      "nomic-ai/cory_gardner\n",
      "nomic-ai/kurt_schrader\n",
      "nomic-ai/scott_rigell\n",
      "nomic-ai/lizzie_fletcher\n",
      "nomic-ai/scott_tipton\n",
      "nomic-ai/michael_waltz\n",
      "nomic-ai/donald_mceachin\n",
      "nomic-ai/ralph_norman\n",
      "nomic-ai/andy_kim\n",
      "nomic-ai/kay_granger\n",
      "nomic-ai/lauren_underwood\n",
      "nomic-ai/barbara_mikulski\n",
      "nomic-ai/hal_rogers\n",
      "nomic-ai/juan_vargas\n",
      "nomic-ai/mike_gallagher\n",
      "nomic-ai/katie_porter\n",
      "nomic-ai/brian_babin\n",
      "nomic-ai/peter_defazio\n",
      "nomic-ai/anna_eshoo\n",
      "nomic-ai/david_scott\n",
      "nomic-ai/cory_gardner\n",
      "nomic-ai/kurt_schrader\n",
      "nomic-ai/scott_rigell\n",
      "nomic-ai/lizzie_fletcher\n",
      "nomic-ai/scott_tipton\n",
      "nomic-ai/michael_waltz\n",
      "nomic-ai/donald_mceachin\n",
      "nomic-ai/ralph_norman\n",
      "nomic-ai/andy_kim\n",
      "nomic-ai/kay_granger\n",
      "nomic-ai/lauren_underwood\n",
      "nomic-ai/barbara_mikulski\n",
      "nomic-ai/hal_rogers\n",
      "nomic-ai/juan_vargas\n",
      "nomic-ai/mike_gallagher\n",
      "nomic-ai/katie_porter\n",
      "nomic-ai/brian_babin\n",
      "nomic-ai/anna_eshoo\n",
      "nomic-ai/david_scott\n",
      "nomic-ai/cory_gardner\n",
      "nomic-ai/kurt_schrader\n",
      "nomic-ai/scott_rigell\n",
      "nomic-ai/lizzie_fletcher\n",
      "nomic-ai/scott_tipton\n",
      "nomic-ai/michael_waltz\n",
      "nomic-ai/donald_mceachin\n",
      "nomic-ai/ralph_norman\n",
      "nomic-ai/andy_kim\n",
      "nomic-ai/kay_granger\n",
      "nomic-ai/lauren_underwood\n",
      "nomic-ai/barbara_mikulski\n",
      "nomic-ai/hal_rogers\n",
      "nomic-ai/juan_vargas\n",
      "nomic-ai/mike_gallagher\n",
      "nomic-ai/katie_porter\n",
      "nomic-ai/brian_babin\n",
      "nomic-ai/david_scott\n",
      "nomic-ai/cory_gardner\n",
      "nomic-ai/kurt_schrader\n",
      "nomic-ai/scott_rigell\n",
      "nomic-ai/lizzie_fletcher\n",
      "nomic-ai/scott_tipton\n",
      "nomic-ai/michael_waltz\n",
      "nomic-ai/donald_mceachin\n",
      "nomic-ai/ralph_norman\n",
      "nomic-ai/andy_kim\n",
      "nomic-ai/kay_granger\n",
      "nomic-ai/lauren_underwood\n",
      "nomic-ai/barbara_mikulski\n",
      "nomic-ai/hal_rogers\n",
      "nomic-ai/juan_vargas\n",
      "nomic-ai/mike_gallagher\n",
      "nomic-ai/katie_porter\n",
      "nomic-ai/brian_babin\n",
      "nomic-ai/cory_gardner\n",
      "nomic-ai/kurt_schrader\n",
      "nomic-ai/scott_rigell\n",
      "nomic-ai/lizzie_fletcher\n",
      "nomic-ai/scott_tipton\n",
      "nomic-ai/michael_waltz\n",
      "nomic-ai/donald_mceachin\n",
      "nomic-ai/ralph_norman\n",
      "nomic-ai/andy_kim\n",
      "nomic-ai/kay_granger\n",
      "nomic-ai/lauren_underwood\n",
      "nomic-ai/barbara_mikulski\n",
      "nomic-ai/hal_rogers\n",
      "nomic-ai/juan_vargas\n",
      "nomic-ai/mike_gallagher\n",
      "nomic-ai/katie_porter\n",
      "nomic-ai/brian_babin\n",
      "nomic-ai/kurt_schrader\n",
      "nomic-ai/scott_rigell\n",
      "nomic-ai/lizzie_fletcher\n",
      "nomic-ai/scott_tipton\n",
      "nomic-ai/michael_waltz\n",
      "nomic-ai/donald_mceachin\n",
      "nomic-ai/ralph_norman\n",
      "nomic-ai/andy_kim\n",
      "nomic-ai/kay_granger\n",
      "nomic-ai/lauren_underwood\n",
      "nomic-ai/barbara_mikulski\n",
      "nomic-ai/hal_rogers\n",
      "nomic-ai/juan_vargas\n",
      "nomic-ai/mike_gallagher\n",
      "nomic-ai/katie_porter\n",
      "nomic-ai/brian_babin\n",
      "nomic-ai/scott_rigell\n",
      "nomic-ai/lizzie_fletcher\n",
      "nomic-ai/scott_tipton\n",
      "nomic-ai/michael_waltz\n",
      "nomic-ai/donald_mceachin\n",
      "nomic-ai/ralph_norman\n",
      "nomic-ai/andy_kim\n",
      "nomic-ai/kay_granger\n",
      "nomic-ai/lauren_underwood\n",
      "nomic-ai/barbara_mikulski\n",
      "nomic-ai/hal_rogers\n",
      "nomic-ai/juan_vargas\n",
      "nomic-ai/mike_gallagher\n",
      "nomic-ai/katie_porter\n",
      "nomic-ai/brian_babin\n",
      "nomic-ai/lizzie_fletcher\n",
      "nomic-ai/scott_tipton\n",
      "nomic-ai/michael_waltz\n",
      "nomic-ai/donald_mceachin\n",
      "nomic-ai/ralph_norman\n",
      "nomic-ai/andy_kim\n",
      "nomic-ai/kay_granger\n",
      "nomic-ai/lauren_underwood\n",
      "nomic-ai/barbara_mikulski\n",
      "nomic-ai/hal_rogers\n",
      "nomic-ai/juan_vargas\n",
      "nomic-ai/mike_gallagher\n",
      "nomic-ai/katie_porter\n",
      "nomic-ai/brian_babin\n",
      "nomic-ai/scott_tipton\n",
      "nomic-ai/michael_waltz\n",
      "nomic-ai/donald_mceachin\n",
      "nomic-ai/ralph_norman\n",
      "nomic-ai/andy_kim\n",
      "nomic-ai/kay_granger\n",
      "nomic-ai/lauren_underwood\n",
      "nomic-ai/barbara_mikulski\n",
      "nomic-ai/hal_rogers\n",
      "nomic-ai/juan_vargas\n",
      "nomic-ai/mike_gallagher\n",
      "nomic-ai/katie_porter\n",
      "nomic-ai/brian_babin\n",
      "nomic-ai/michael_waltz\n",
      "nomic-ai/donald_mceachin\n",
      "nomic-ai/ralph_norman\n",
      "nomic-ai/andy_kim\n",
      "nomic-ai/kay_granger\n",
      "nomic-ai/lauren_underwood\n",
      "nomic-ai/barbara_mikulski\n",
      "nomic-ai/hal_rogers\n",
      "nomic-ai/juan_vargas\n",
      "nomic-ai/mike_gallagher\n",
      "nomic-ai/katie_porter\n",
      "nomic-ai/brian_babin\n",
      "nomic-ai/donald_mceachin\n",
      "nomic-ai/ralph_norman\n",
      "nomic-ai/andy_kim\n",
      "nomic-ai/kay_granger\n",
      "nomic-ai/lauren_underwood\n",
      "nomic-ai/barbara_mikulski\n",
      "nomic-ai/hal_rogers\n",
      "nomic-ai/juan_vargas\n",
      "nomic-ai/mike_gallagher\n",
      "nomic-ai/katie_porter\n",
      "nomic-ai/brian_babin\n",
      "nomic-ai/ralph_norman\n",
      "nomic-ai/andy_kim\n",
      "nomic-ai/kay_granger\n",
      "nomic-ai/lauren_underwood\n",
      "nomic-ai/barbara_mikulski\n",
      "nomic-ai/hal_rogers\n",
      "nomic-ai/juan_vargas\n",
      "nomic-ai/mike_gallagher\n",
      "nomic-ai/katie_porter\n",
      "nomic-ai/brian_babin\n",
      "nomic-ai/andy_kim\n",
      "nomic-ai/kay_granger\n",
      "nomic-ai/lauren_underwood\n",
      "nomic-ai/barbara_mikulski\n",
      "nomic-ai/hal_rogers\n",
      "nomic-ai/juan_vargas\n",
      "nomic-ai/mike_gallagher\n",
      "nomic-ai/katie_porter\n",
      "nomic-ai/brian_babin\n",
      "nomic-ai/kay_granger\n",
      "nomic-ai/lauren_underwood\n",
      "nomic-ai/barbara_mikulski\n",
      "nomic-ai/hal_rogers\n",
      "nomic-ai/juan_vargas\n",
      "nomic-ai/mike_gallagher\n",
      "nomic-ai/katie_porter\n",
      "nomic-ai/brian_babin\n",
      "nomic-ai/lauren_underwood\n",
      "nomic-ai/barbara_mikulski\n",
      "nomic-ai/hal_rogers\n",
      "nomic-ai/juan_vargas\n",
      "nomic-ai/mike_gallagher\n",
      "nomic-ai/katie_porter\n",
      "nomic-ai/brian_babin\n",
      "nomic-ai/barbara_mikulski\n",
      "nomic-ai/hal_rogers\n",
      "nomic-ai/juan_vargas\n",
      "nomic-ai/mike_gallagher\n",
      "nomic-ai/katie_porter\n",
      "nomic-ai/brian_babin\n",
      "nomic-ai/hal_rogers\n",
      "nomic-ai/juan_vargas\n",
      "nomic-ai/mike_gallagher\n",
      "nomic-ai/katie_porter\n",
      "nomic-ai/brian_babin\n",
      "nomic-ai/juan_vargas\n",
      "nomic-ai/mike_gallagher\n",
      "nomic-ai/katie_porter\n",
      "nomic-ai/brian_babin\n",
      "nomic-ai/mike_gallagher\n",
      "nomic-ai/katie_porter\n",
      "nomic-ai/brian_babin\n",
      "nomic-ai/katie_porter\n",
      "nomic-ai/brian_babin\n",
      "nomic-ai/brian_babin\n"
     ]
    }
   ],
   "source": [
    "_valid_hub_paths = valid_hub_paths\n",
    "n_models = len(_valid_hub_paths)\n",
    "D = np.zeros((n_models, n_models))\n",
    "\n",
    "for i, hub_path1 in enumerate(_valid_hub_paths):\n",
    "    model = PeftModel.from_pretrained(base_model, hub_path1, device_map='cpu')\n",
    "    lora_matrices1 = get_lora_matrices(model)\n",
    "\n",
    "    print(hub_path1)\n",
    "\n",
    "    del model\n",
    "\n",
    "    for j, hub_path2 in enumerate(_valid_hub_paths[i+1:], i+1):\n",
    "        print(hub_path2)\n",
    "        model = PeftModel.from_pretrained(base_model, hub_path2, device_map='cpu')\n",
    "        lora_matrices2 = get_lora_matrices(model)\n",
    "\n",
    "        temp_diff = 0\n",
    "        for ii, matrix in enumerate(lora_matrices1):\n",
    "            temp_diff += np.linalg.norm(matrix - lora_matrices2[ii])**2\n",
    "        temp_diff = np.sqrt(temp_diff)\n",
    "\n",
    "        D[i,j] = temp_diff\n",
    "        D[j,i] = temp_diff\n",
    "\n",
    "        del model\n",
    "    "
   ]
  },
  {
   "cell_type": "code",
   "execution_count": 53,
   "id": "b9ee554f-d1ba-4f23-b816-b6dc83b87785",
   "metadata": {},
   "outputs": [],
   "source": [
    "party_dict = {}\n",
    "for name in valid_names:\n",
    "    party = df[df['name_standardized'] == name]['party'].values[0].lower()\n",
    "    party_dict[name] = party"
   ]
  },
  {
   "cell_type": "code",
   "execution_count": 68,
   "id": "1ca63d76-ba4c-4e9f-bc26-f0b1ea46a64c",
   "metadata": {},
   "outputs": [
    {
     "data": {
      "text/plain": [
       "<matplotlib.collections.PathCollection at 0x7f96776cc400>"
      ]
     },
     "execution_count": 68,
     "metadata": {},
     "output_type": "execute_result"
    },
    {
     "data": {
      "image/png": "[encoded data removed]",
      "text/plain": [
       "<Figure size 640x480 with 1 Axes>"
      ]
     },
     "metadata": {},
     "output_type": "display_data"
    }
   ],
   "source": [
    "from graspologic.embed import ClassicalMDS\n",
    "import matplotlib.pyplot as plt\n",
    "\n",
    "inds = np.arange(30)[D[1]<15]\n",
    "\n",
    "temp_party_list = []\n",
    "for hub_path in _valid_hub_paths:\n",
    "    name = hub_path.split('/')[1]\n",
    "    temp_party_list.append(party_dict[name])\n",
    "temp_party_list=np.array(temp_party_list)\n",
    "\n",
    "color_dict={'r': 'tab:red', 'd': 'tab:blue', 'i': 'tab:green'}\n",
    "cmds = ClassicalMDS()\n",
    "cmds_embds=cmds.fit_transform(D[np.ix_(inds, inds)])\n",
    "fig, ax= plt.subplots(1,1)\n",
    "ax.scatter(cmds_embds[:, 0], cmds_embds[:,1], color=[color_dict[p] for p in temp_party_list[inds]])"
   ]
  },
  {
   "cell_type": "code",
   "execution_count": 67,
   "id": "9f4f8771-c661-4655-bc7b-3b4d270a688b",
   "metadata": {},
   "outputs": [
    {
     "data": {
      "text/plain": [
       "(28, 28)"
      ]
     },
     "execution_count": 67,
     "metadata": {},
     "output_type": "execute_result"
    }
   ],
   "source": [
    "D[np.ix_(np.arange(30)[D[1]<15], np.arange(30)[D[1]<15])].shape"
   ]
  },
  {
   "cell_type": "code",
   "execution_count": 31,
   "id": "35a48222-9479-4e24-90cb-f1c85b99b3ff",
   "metadata": {},
   "outputs": [
    {
     "data": {
      "text/plain": [
       "(19, 19)"
      ]
     },
     "execution_count": 31,
     "metadata": {},
     "output_type": "execute_result"
    }
   ],
   "source": [
    "D[1:, 1:].shape"
   ]
  },
  {
   "cell_type": "code",
   "execution_count": 14,
   "id": "e7995064-cbb6-4539-816f-ec76b08adecf",
   "metadata": {},
   "outputs": [
    {
     "data": {
      "text/plain": [
       "('nomic-ai/richard_neal', 'nomic-ai/richard_neal')"
      ]
     },
     "execution_count": 14,
     "metadata": {},
     "output_type": "execute_result"
    }
   ],
   "source": [
    "hub_path1, hub_path2"
   ]
  },
  {
   "cell_type": "code",
   "execution_count": 24,
   "id": "530529e7-93ba-4e99-a5cd-d5725a8539b5",
   "metadata": {},
   "outputs": [
    {
     "data": {
      "text/plain": [
       "<Axes: >"
      ]
     },
     "execution_count": 24,
     "metadata": {},
     "output_type": "execute_result"
    },
    {
     "data": {
      "image/png": "[encoded data removed]",
      "text/plain": [
       "<Figure size 1000x1000 with 2 Axes>"
      ]
     },
     "metadata": {},
     "output_type": "display_data"
    }
   ],
   "source": [
    "from graspologic.plot import heatmap\n",
    "heatmap(D)"
   ]
  },
  {
   "cell_type": "code",
   "execution_count": 14,
   "id": "cde1938e-3443-47a1-84f1-ce02216e203c",
   "metadata": {},
   "outputs": [],
   "source": [
    "def get_lora_matrices(model, target_modules = [\"k_proj\",\"o_proj\",\"q_proj\",\"v_proj\"]):\n",
    "    layers = model._modules['base_model']._modules['model']._modules['model']._modules['layers']\n",
    "\n",
    "    lora_matrices = []\n",
    "\n",
    "    for ell in layers:\n",
    "        attention_layers = ell._modules['self_attn']\n",
    "        for target_module in target_modules:\n",
    "            target = attention_layers._modules[target_module]._modules\n",
    "            lora_A=target['lora_A']._modules['default'].weight.data\n",
    "            lora_B=target['lora_B']._modules['default'].weight.data\n",
    "\n",
    "            lora_matrices.append(lora_A)\n",
    "            lora_matrices.append(lora_B)\n",
    "\n",
    "    return lora_matrices"
   ]
  },
  {
   "cell_type": "code",
   "execution_count": 16,
   "id": "918585dd-0fdb-4de9-b779-7fa078c3c839",
   "metadata": {},
   "outputs": [
    {
     "data": {
      "text/plain": [
       "tensor([[-0.0144, -0.0002, -0.0122,  ...,  0.0063, -0.0044,  0.0067],\n",
       "        [ 0.0148,  0.0105,  0.0094,  ...,  0.0034, -0.0138,  0.0085],\n",
       "        [ 0.0065,  0.0073,  0.0151,  ..., -0.0064, -0.0057, -0.0069],\n",
       "        ...,\n",
       "        [-0.0057, -0.0082, -0.0140,  ...,  0.0129,  0.0078, -0.0089],\n",
       "        [-0.0036,  0.0149, -0.0064,  ...,  0.0075, -0.0166, -0.0124],\n",
       "        [-0.0110, -0.0107, -0.0063,  ...,  0.0124,  0.0078, -0.0014]])"
      ]
     },
     "execution_count": 16,
     "metadata": {},
     "output_type": "execute_result"
    }
   ],
   "source": [
    "lora_matrices = get_lora_matrices(model)\n",
    "lora_matrices[0]"
   ]
  },
  {
   "cell_type": "code",
   "execution_count": 52,
   "id": "931b9d48-6ac5-4c3c-8311-930f8e04cf0d",
   "metadata": {},
   "outputs": [],
   "source": [
    "layers = model._modules['base_model']._modules['model']._modules['model']._modules['layers']"
   ]
  },
  {
   "cell_type": "code",
   "execution_count": 46,
   "id": "7c26bc8e-f1e4-4e33-a989-2187a9a651b4",
   "metadata": {},
   "outputs": [
    {
     "data": {
      "text/plain": [
       "32"
      ]
     },
     "execution_count": 46,
     "metadata": {},
     "output_type": "execute_result"
    }
   ],
   "source": [
    "len(model._modules['base_model']._modules['model']._modules['model']._modules['layers']"
   ]
  },
  {
   "cell_type": "code",
   "execution_count": 44,
   "id": "22ded52b-0967-4a01-aa66-633daad1c1d0",
   "metadata": {},
   "outputs": [
    {
     "data": {
      "text/plain": [
       "torch.Size([64, 4096])"
      ]
     },
     "execution_count": 44,
     "metadata": {},
     "output_type": "execute_result"
    }
   ],
   "source": [
    "model._modules['base_model']._modules['model']._modules['model']._modules['layers'][0]._modules['self_attn']._modules['q_proj']._modules['lora_A']._modules['default'].weight"
   ]
  }
 ],
 "metadata": {
  "kernelspec": {
   "display_name": "pnma",
   "language": "python",
   "name": "pnma"
  },
  "language_info": {
   "codemirror_mode": {
    "name": "ipython",
    "version": 3
   },
   "file_extension": ".py",
   "mimetype": "text/x-python",
   "name": "python",
   "nbconvert_exporter": "python",
   "pygments_lexer": "ipython3",
   "version": "3.10.12"
  }
 },
 "nbformat": 4,
 "nbformat_minor": 5
}
