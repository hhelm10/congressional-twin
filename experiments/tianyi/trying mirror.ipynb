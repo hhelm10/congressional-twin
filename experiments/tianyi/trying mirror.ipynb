{
 "cells": [
  {
   "cell_type": "code",
   "execution_count": 1,
   "metadata": {},
   "outputs": [
    {
     "name": "stderr",
     "output_type": "stream",
     "text": [
      "/Users/tianyichen/opt/anaconda3/lib/python3.9/site-packages/fuzzywuzzy/fuzz.py:11: UserWarning: Using slow pure-python SequenceMatcher. Install python-Levenshtein to remove this warning\n",
      "  warnings.warn('Using slow pure-python SequenceMatcher. Install python-Levenshtein to remove this warning')\n",
      "\u001b[32m2024-08-14 14:55:48.117\u001b[0m | \u001b[1mINFO    \u001b[0m | \u001b[36mnomic.dataset\u001b[0m:\u001b[36m__init__\u001b[0m:\u001b[36m763\u001b[0m - \u001b[1mLoading existing dataset `hivemind/tweets-from-members-of-us-congress-from-all-time-updated-2024-08-14`.\u001b[0m\n",
      "\u001b[32m2024-08-14 14:55:48.889\u001b[0m | \u001b[33m\u001b[1mWARNING \u001b[0m | \u001b[36mnomic.data_operations\u001b[0m:\u001b[36mdf\u001b[0m:\u001b[36m923\u001b[0m - \u001b[33m\u001b[1mConverting to pandas dataframe. This may materialize a large amount of data into memory.\u001b[0m\n",
      "\u001b[32m2024-08-14 14:55:48.891\u001b[0m | \u001b[1mINFO    \u001b[0m | \u001b[36mnomic.data_operations\u001b[0m:\u001b[36m_download_data\u001b[0m:\u001b[36m902\u001b[0m - \u001b[1mDownloading data\u001b[0m\n",
      "100%|██████████| 129/129 [00:00<00:00, 3731.97it/s]\n",
      "100%|██████████| 129/129 [00:00<00:00, 5075.13it/s]\n",
      "100%|██████████| 129/129 [00:00<00:00, 4937.99it/s]\n",
      "100%|██████████| 129/129 [00:00<00:00, 4845.04it/s]\n",
      "\u001b[32m2024-08-14 14:55:49.558\u001b[0m | \u001b[1mINFO    \u001b[0m | \u001b[36mnomic.data_operations\u001b[0m:\u001b[36m_load_data\u001b[0m:\u001b[36m872\u001b[0m - \u001b[1mLoading data\u001b[0m\n",
      "100%|██████████| 129/129 [00:02<00:00, 64.16it/s] \n"
     ]
    },
    {
     "data": {
      "text/html": [
       "<div>\n",
       "<style scoped>\n",
       "    .dataframe tbody tr th:only-of-type {\n",
       "        vertical-align: middle;\n",
       "    }\n",
       "\n",
       "    .dataframe tbody tr th {\n",
       "        vertical-align: top;\n",
       "    }\n",
       "\n",
       "    .dataframe thead th {\n",
       "        text-align: right;\n",
       "    }\n",
       "</style>\n",
       "<table border=\"1\" class=\"dataframe\">\n",
       "  <thead>\n",
       "    <tr style=\"text-align: right;\">\n",
       "      <th></th>\n",
       "      <th>tweetId</th>\n",
       "      <th>postedAt</th>\n",
       "      <th>name</th>\n",
       "      <th>state</th>\n",
       "      <th>party</th>\n",
       "      <th>twitter_lower</th>\n",
       "      <th>chamber</th>\n",
       "      <th>years</th>\n",
       "      <th>source</th>\n",
       "      <th>text</th>\n",
       "      <th>id</th>\n",
       "    </tr>\n",
       "  </thead>\n",
       "  <tbody>\n",
       "    <tr>\n",
       "      <th>0</th>\n",
       "      <td>1065633444502224896</td>\n",
       "      <td>2018-11-22 15:49:46.338</td>\n",
       "      <td>Ken Buck R-CO</td>\n",
       "      <td>CO</td>\n",
       "      <td>R</td>\n",
       "      <td>repkenbuck</td>\n",
       "      <td>House</td>\n",
       "      <td>2017_2018</td>\n",
       "      <td>PolitWoops</td>\n",
       "      <td>Happy #Thanksgiving! I hope everyone has a cha...</td>\n",
       "      <td>1203633</td>\n",
       "    </tr>\n",
       "    <tr>\n",
       "      <th>1</th>\n",
       "      <td>1479108462504136704</td>\n",
       "      <td>2022-01-06 15:11:52.624</td>\n",
       "      <td>Kat Cammack R-FL</td>\n",
       "      <td>FL</td>\n",
       "      <td>R</td>\n",
       "      <td>repkatcammack</td>\n",
       "      <td>House</td>\n",
       "      <td>2021_2022</td>\n",
       "      <td>PolitWoops</td>\n",
       "      <td>RT @MorningsMaria: .@RepKatCammack: \"The Democ...</td>\n",
       "      <td>2857207</td>\n",
       "    </tr>\n",
       "    <tr>\n",
       "      <th>2</th>\n",
       "      <td>85108215381102592</td>\n",
       "      <td>2011-06-26 22:12:34.438</td>\n",
       "      <td>Dennis Ross R-FL</td>\n",
       "      <td>FL</td>\n",
       "      <td>R</td>\n",
       "      <td>repdennisross</td>\n",
       "      <td>House</td>\n",
       "      <td>2011_2012</td>\n",
       "      <td>PolitWoops</td>\n",
       "      <td>@CEP_Observer will have to check that out.</td>\n",
       "      <td>35353</td>\n",
       "    </tr>\n",
       "    <tr>\n",
       "      <th>3</th>\n",
       "      <td>925691081026621440</td>\n",
       "      <td>2017-11-01 11:48:46.882</td>\n",
       "      <td>Richard Hudson R-NC</td>\n",
       "      <td>NC</td>\n",
       "      <td>R</td>\n",
       "      <td>reprichhudson</td>\n",
       "      <td>House</td>\n",
       "      <td>2017_2018</td>\n",
       "      <td>PolitWoops</td>\n",
       "      <td>RT @BGClubCab: Thanks to @CharlotteWBB for hel...</td>\n",
       "      <td>954870</td>\n",
       "    </tr>\n",
       "    <tr>\n",
       "      <th>4</th>\n",
       "      <td>1435963943533568000</td>\n",
       "      <td>2021-09-09 13:50:57.715</td>\n",
       "      <td>Chip Roy R-TX</td>\n",
       "      <td>TX</td>\n",
       "      <td>R</td>\n",
       "      <td>repchiproy</td>\n",
       "      <td>House</td>\n",
       "      <td>2021_2022</td>\n",
       "      <td>PolitWoops</td>\n",
       "      <td>RT @chiproytx: No. https://t.co/STZW0DdDz1</td>\n",
       "      <td>2324693</td>\n",
       "    </tr>\n",
       "  </tbody>\n",
       "</table>\n",
       "</div>"
      ],
      "text/plain": [
       "               tweetId                postedAt                 name state  \\\n",
       "0  1065633444502224896 2018-11-22 15:49:46.338        Ken Buck R-CO    CO   \n",
       "1  1479108462504136704 2022-01-06 15:11:52.624     Kat Cammack R-FL    FL   \n",
       "2    85108215381102592 2011-06-26 22:12:34.438     Dennis Ross R-FL    FL   \n",
       "3   925691081026621440 2017-11-01 11:48:46.882  Richard Hudson R-NC    NC   \n",
       "4  1435963943533568000 2021-09-09 13:50:57.715        Chip Roy R-TX    TX   \n",
       "\n",
       "  party  twitter_lower chamber      years      source  \\\n",
       "0     R     repkenbuck   House  2017_2018  PolitWoops   \n",
       "1     R  repkatcammack   House  2021_2022  PolitWoops   \n",
       "2     R  repdennisross   House  2011_2012  PolitWoops   \n",
       "3     R  reprichhudson   House  2017_2018  PolitWoops   \n",
       "4     R     repchiproy   House  2021_2022  PolitWoops   \n",
       "\n",
       "                                                text       id  \n",
       "0  Happy #Thanksgiving! I hope everyone has a cha...  1203633  \n",
       "1  RT @MorningsMaria: .@RepKatCammack: \"The Democ...  2857207  \n",
       "2         @CEP_Observer will have to check that out.    35353  \n",
       "3  RT @BGClubCab: Thanks to @CharlotteWBB for hel...   954870  \n",
       "4         RT @chiproytx: No. https://t.co/STZW0DdDz1  2324693  "
      ]
     },
     "execution_count": 1,
     "metadata": {},
     "output_type": "execute_result"
    }
   ],
   "source": [
    "import nomic\n",
    "import json\n",
    "nomic.login(\"nk-2LSEn5FB5h04Dn0pFLuZ9jDw7ZaMbPpYPV88wbKKASc\")\n",
    "#- Scientific programming\n",
    "import numpy as np\n",
    "import pandas as pd\n",
    "from tqdm import tqdm\n",
    "\n",
    "#- Plotting\n",
    "import matplotlib.pyplot as plt\n",
    "import seaborn as sns\n",
    "\n",
    "#- Data\n",
    "from nomic import AtlasDataset\n",
    "\n",
    "#- Processing\n",
    "from fuzzywuzzy import fuzz\n",
    "from unidecode import unidecode\n",
    "import re\n",
    "import datetime\n",
    "\n",
    "dataset = AtlasDataset('hivemind/tweets-from-members-of-us-congress-from-all-time-updated-2024-08-14')\n",
    "\n",
    "df = dataset.maps[0].data.df\n",
    "\n",
    "#tags_df = dataset.maps[0].tags.df\n",
    "\n",
    "#df = df.merge(tags_df, on='tweetId')\n",
    "df.head()"
   ]
  },
  {
   "cell_type": "code",
   "execution_count": 2,
   "metadata": {},
   "outputs": [
    {
     "data": {
      "text/html": [
       "<div>\n",
       "<style scoped>\n",
       "    .dataframe tbody tr th:only-of-type {\n",
       "        vertical-align: middle;\n",
       "    }\n",
       "\n",
       "    .dataframe tbody tr th {\n",
       "        vertical-align: top;\n",
       "    }\n",
       "\n",
       "    .dataframe thead th {\n",
       "        text-align: right;\n",
       "    }\n",
       "</style>\n",
       "<table border=\"1\" class=\"dataframe\">\n",
       "  <thead>\n",
       "    <tr style=\"text-align: right;\">\n",
       "      <th></th>\n",
       "      <th>tweetId</th>\n",
       "      <th>postedAt</th>\n",
       "      <th>name</th>\n",
       "      <th>state</th>\n",
       "      <th>party</th>\n",
       "      <th>twitter_lower</th>\n",
       "      <th>chamber</th>\n",
       "      <th>years</th>\n",
       "      <th>source</th>\n",
       "      <th>id</th>\n",
       "      <th>text</th>\n",
       "    </tr>\n",
       "  </thead>\n",
       "  <tbody>\n",
       "    <tr>\n",
       "      <th>0</th>\n",
       "      <td>1065633444502224896</td>\n",
       "      <td>2018-11-22 15:49:46.338</td>\n",
       "      <td>Ken Buck R-CO</td>\n",
       "      <td>CO</td>\n",
       "      <td>R</td>\n",
       "      <td>repkenbuck</td>\n",
       "      <td>House</td>\n",
       "      <td>2017_2018</td>\n",
       "      <td>PolitWoops</td>\n",
       "      <td>1203633</td>\n",
       "      <td>Happy #Thanksgiving! I hope everyone has a cha...</td>\n",
       "    </tr>\n",
       "    <tr>\n",
       "      <th>1</th>\n",
       "      <td>1479108462504136704</td>\n",
       "      <td>2022-01-06 15:11:52.624</td>\n",
       "      <td>Kat Cammack R-FL</td>\n",
       "      <td>FL</td>\n",
       "      <td>R</td>\n",
       "      <td>repkatcammack</td>\n",
       "      <td>House</td>\n",
       "      <td>2021_2022</td>\n",
       "      <td>PolitWoops</td>\n",
       "      <td>2857207</td>\n",
       "      <td>RT @MorningsMaria: .@RepKatCammack: \"The Democ...</td>\n",
       "    </tr>\n",
       "    <tr>\n",
       "      <th>2</th>\n",
       "      <td>85108215381102592</td>\n",
       "      <td>2011-06-26 22:12:34.438</td>\n",
       "      <td>Dennis Ross R-FL</td>\n",
       "      <td>FL</td>\n",
       "      <td>R</td>\n",
       "      <td>repdennisross</td>\n",
       "      <td>House</td>\n",
       "      <td>2011_2012</td>\n",
       "      <td>PolitWoops</td>\n",
       "      <td>35353</td>\n",
       "      <td>@CEP_Observer will have to check that out.</td>\n",
       "    </tr>\n",
       "    <tr>\n",
       "      <th>3</th>\n",
       "      <td>925691081026621440</td>\n",
       "      <td>2017-11-01 11:48:46.882</td>\n",
       "      <td>Richard Hudson R-NC</td>\n",
       "      <td>NC</td>\n",
       "      <td>R</td>\n",
       "      <td>reprichhudson</td>\n",
       "      <td>House</td>\n",
       "      <td>2017_2018</td>\n",
       "      <td>PolitWoops</td>\n",
       "      <td>954870</td>\n",
       "      <td>RT @BGClubCab: Thanks to @CharlotteWBB for hel...</td>\n",
       "    </tr>\n",
       "    <tr>\n",
       "      <th>4</th>\n",
       "      <td>1435963943533568000</td>\n",
       "      <td>2021-09-09 13:50:57.715</td>\n",
       "      <td>Chip Roy R-TX</td>\n",
       "      <td>TX</td>\n",
       "      <td>R</td>\n",
       "      <td>repchiproy</td>\n",
       "      <td>House</td>\n",
       "      <td>2021_2022</td>\n",
       "      <td>PolitWoops</td>\n",
       "      <td>2324693</td>\n",
       "      <td>RT @chiproytx: No. https://t.co/STZW0DdDz1</td>\n",
       "    </tr>\n",
       "  </tbody>\n",
       "</table>\n",
       "</div>"
      ],
      "text/plain": [
       "               tweetId                postedAt                 name state  \\\n",
       "0  1065633444502224896 2018-11-22 15:49:46.338        Ken Buck R-CO    CO   \n",
       "1  1479108462504136704 2022-01-06 15:11:52.624     Kat Cammack R-FL    FL   \n",
       "2    85108215381102592 2011-06-26 22:12:34.438     Dennis Ross R-FL    FL   \n",
       "3   925691081026621440 2017-11-01 11:48:46.882  Richard Hudson R-NC    NC   \n",
       "4  1435963943533568000 2021-09-09 13:50:57.715        Chip Roy R-TX    TX   \n",
       "\n",
       "  party  twitter_lower chamber      years      source       id  \\\n",
       "0     R     repkenbuck   House  2017_2018  PolitWoops  1203633   \n",
       "1     R  repkatcammack   House  2021_2022  PolitWoops  2857207   \n",
       "2     R  repdennisross   House  2011_2012  PolitWoops    35353   \n",
       "3     R  reprichhudson   House  2017_2018  PolitWoops   954870   \n",
       "4     R     repchiproy   House  2021_2022  PolitWoops  2324693   \n",
       "\n",
       "                                                text  \n",
       "0  Happy #Thanksgiving! I hope everyone has a cha...  \n",
       "1  RT @MorningsMaria: .@RepKatCammack: \"The Democ...  \n",
       "2         @CEP_Observer will have to check that out.  \n",
       "3  RT @BGClubCab: Thanks to @CharlotteWBB for hel...  \n",
       "4         RT @chiproytx: No. https://t.co/STZW0DdDz1  "
      ]
     },
     "execution_count": 2,
     "metadata": {},
     "output_type": "execute_result"
    }
   ],
   "source": [
    "df.head()"
   ]
  },
  {
   "cell_type": "code",
   "execution_count": 2,
   "metadata": {},
   "outputs": [
    {
     "name": "stderr",
     "output_type": "stream",
     "text": [
      "\u001b[32m2024-08-14 14:59:15.036\u001b[0m | \u001b[1mINFO    \u001b[0m | \u001b[36mnomic.data_operations\u001b[0m:\u001b[36m_download_latent\u001b[0m:\u001b[36m550\u001b[0m - \u001b[1mDownloading latent embeddings\u001b[0m\n",
      "100%|██████████| 129/129 [00:00<00:00, 4055.99it/s]\n",
      "\u001b[32m2024-08-14 14:59:15.491\u001b[0m | \u001b[1mINFO    \u001b[0m | \u001b[36mnomic.data_operations\u001b[0m:\u001b[36mlatent\u001b[0m:\u001b[36m527\u001b[0m - \u001b[1mLoading latent embeddings\u001b[0m\n",
      "100%|██████████| 129/129 [00:32<00:00,  3.97it/s]\n"
     ]
    }
   ],
   "source": [
    "embds = dataset.maps[0].embeddings.latent"
   ]
  },
  {
   "cell_type": "code",
   "execution_count": 3,
   "metadata": {},
   "outputs": [],
   "source": [
    "embds=embds[:,[0,1]]"
   ]
  },
  {
   "cell_type": "code",
   "execution_count": 4,
   "metadata": {},
   "outputs": [
    {
     "data": {
      "text/plain": [
       "(3180890, 2)"
      ]
     },
     "execution_count": 4,
     "metadata": {},
     "output_type": "execute_result"
    }
   ],
   "source": [
    "embds.shape"
   ]
  },
  {
   "cell_type": "code",
   "execution_count": 5,
   "metadata": {},
   "outputs": [
    {
     "data": {
      "text/plain": [
       "Int64Index([     14,      27,      31,      34,      36,      48,      51,\n",
       "                 61,      65,      67,\n",
       "            ...\n",
       "            3180836, 3180844, 3180848, 3180853, 3180856, 3180859, 3180861,\n",
       "            3180863, 3180866, 3180874],\n",
       "           dtype='int64', length=412546)"
      ]
     },
     "execution_count": 5,
     "metadata": {},
     "output_type": "execute_result"
    }
   ],
   "source": [
    "df_2020 = df[df['postedAt'].dt.year == 2020]\n",
    "row_index = df_2020.index\n",
    "row_index\n"
   ]
  },
  {
   "cell_type": "code",
   "execution_count": 13,
   "metadata": {},
   "outputs": [
    {
     "data": {
      "text/plain": [
       "(412546, 2)"
      ]
     },
     "execution_count": 13,
     "metadata": {},
     "output_type": "execute_result"
    }
   ],
   "source": [
    "embds_2020 = embds[row_index]\n",
    "embds_2020.shape"
   ]
  },
  {
   "cell_type": "code",
   "execution_count": 10,
   "metadata": {},
   "outputs": [
    {
     "name": "stderr",
     "output_type": "stream",
     "text": [
      "/var/folders/rl/pr6f4j2d1_5913_lglcbwszc0000gn/T/ipykernel_6182/1828011652.py:1: SettingWithCopyWarning: \n",
      "A value is trying to be set on a copy of a slice from a DataFrame.\n",
      "Try using .loc[row_indexer,col_indexer] = value instead\n",
      "\n",
      "See the caveats in the documentation: https://pandas.pydata.org/pandas-docs/stable/user_guide/indexing.html#returning-a-view-versus-a-copy\n",
      "  df_2020['month']=df_2020['postedAt'].dt.month\n"
     ]
    }
   ],
   "source": [
    "df_2020['month']=df_2020['postedAt'].dt.month"
   ]
  },
  {
   "cell_type": "code",
   "execution_count": 16,
   "metadata": {},
   "outputs": [],
   "source": [
    "df_2020 = df_2020.reset_index(drop=True)\n",
    "embds_2020_df = embds_2020_df.reset_index(drop=True)\n",
    "df_2020 = pd.concat([df_2020, embds_2020_df], axis=1)"
   ]
  },
  {
   "cell_type": "code",
   "execution_count": 15,
   "metadata": {},
   "outputs": [],
   "source": [
    "import pandas as pd\n",
    "# Convert embds_2020 ndarray to DataFrame\n",
    "embds_2020_df = pd.DataFrame(embds_2020, columns=['embds_2020_col1', 'embds_2020_col2'])\n",
    "\n",
    "df_2020 = pd.concat([df_2020, embds_2020_df], axis=1)\n",
    "\n"
   ]
  }
 ],
 "metadata": {
  "kernelspec": {
   "display_name": "base",
   "language": "python",
   "name": "python3"
  },
  "language_info": {
   "codemirror_mode": {
    "name": "ipython",
    "version": 3
   },
   "file_extension": ".py",
   "mimetype": "text/x-python",
   "name": "python",
   "nbconvert_exporter": "python",
   "pygments_lexer": "ipython3",
   "version": "3.9.undefined"
  }
 },
 "nbformat": 4,
 "nbformat_minor": 2
}
