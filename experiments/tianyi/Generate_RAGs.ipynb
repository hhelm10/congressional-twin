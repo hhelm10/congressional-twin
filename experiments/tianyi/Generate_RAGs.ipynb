{
 "cells": [
  {
   "cell_type": "code",
   "execution_count": 1,
   "id": "bb2017dd",
   "metadata": {},
   "outputs": [],
   "source": [
    "import numpy as np\n",
    "import pandas as pd\n",
    "import random"
   ]
  },
  {
   "cell_type": "code",
   "execution_count": 6,
   "id": "257ffebf",
   "metadata": {},
   "outputs": [],
   "source": [
    "q_flowers = ['Which is the most beautiful flower you have ever seen?'\n",
    "             ,'What is the number one prettiest flower?'\n",
    "             ,'What is the most beautiful flower in your opinion?']\n",
    "q_movies = ['Which movie do you like the best?'\n",
    "            ,'What is the most popular movie?'\n",
    "            ,'Which movie would you recommend?']\n",
    "q_states = ['Which state in the US should I live in?'\n",
    "            ,'What would you say is the best state to live in?'\n",
    "            ,'What is the best US state to live in?']\n",
    "q_bands = ['What is the best band of all time?'\n",
    "           ,'Which is the greatest rock band of all time?'\n",
    "           ,'What is the most popular band?']\n",
    "q_maths = ['Who is the greatest mathematician of all time?'\n",
    "           ,'Who is the most significant mathematician?'\n",
    "           ,'Who is the most influential mathematician?']"
   ]
  },
  {
   "cell_type": "code",
   "execution_count": 7,
   "id": "daf0e1e6",
   "metadata": {},
   "outputs": [],
   "source": [
    "states = ['New York is a melting pot of cultures from around the world, offering residents exposure to diverse perspectives.'\n",
    "          ,'Michigan is blessed with access to four of the five Great Lakes, offering residents stunning beaches and scenic coastlines.'\n",
    "          ,'Hollywood in California is known as the global center of the entertainment industry, producing movies, television shows, and music.'\n",
    "          ,'New Jersey is home to a diverse population, with vibrant communities representing various ethnicities, cultures, and backgrounds.'\n",
    "          ,'Indiana boasts a lower cost of living compared to many other states, making it an attractive option for individuals and families.'\n",
    "          ,'Texas has a robust and diverse economy with significant industries such as oil and gas, technology, and agriculture.'\n",
    "          ,'Virginia boasts a diverse and robust economy driven by sectors such as technology, defense, healthcare, tourism, and agriculture.'\n",
    "          ,'Connecticut has a diverse economy, with industries ranging from finance and insurance to manufacturing and healthcare.'\n",
    "          ,'Florida is known for its beautiful beaches along both the Atlantic and Gulf coasts.'\n",
    "          ,'Washington boasts a strong and diverse economy driven by industries such as technology with companies like Microsoft and Amazon.'\n",
    "          ,'Hawaii is known for its stunning landscapes, including lush rainforests, majestic mountains, and pristine beaches.'\n",
    "          ,'Pennsylvania boasts prestigious universities and colleges, including the University of Pennsylvania and Carnegie Mellon University.'\n",
    "          ,'Wisconsin boasts diverse natural landscapes, including picturesque lakeshores, rolling hills, lush forests, and scenic farmland.'\n",
    "          ,'Delaware is known for being a corporate haven with a business-friendly legal environment.'\n",
    "          ,'Nevada is home to Las Vegas, often referred to as the Entertainment Capital of the World.'\n",
    "          ,'Oregon is known for its diverse landscapes, including rugged coastlines, dense forests, snow-capped mountains, and picturesque waterfalls.'\n",
    "          ,'Alaska is home to a diverse array of wildlife, including bears, moose, caribou, wolves, whales, and bald eagles.'\n",
    "          ,'The diverse economy of Maryland includes industries such as healthcare, biotechnology, government, finance, and cybersecurity.'\n",
    "          ,'New Mexico has long been a haven for artists, with communities attracting painters and musicians from around the world.'\n",
    "          ,'Illinois is home to a diverse economy with industries such as finance, manufacturing, healthcare, technology, and logistics.'\n",
    "          ,'Georgia has a strong job market and diverse industries, and is rich in history, music, and Southern charm.'\n",
    "          ,'Arizona is great for hiking, golfing, and exploring natural wonders like the Grand Canyon.'\n",
    "          ,'Arkansas has abundant lakes, rivers, and parks for activities like fishing and hiking.'\n",
    "          ,'Kentucky has picturesque landscapes, horse farms, and bourbon distilleries.'\n",
    "          ,'Louisiana is rich in music and cuisine, and has pleasant climate for much of the year.'\n",
    "          ,'Maine is renowned for fresh lobster and other seafood.'\n",
    "          ,'Nebraska boasts affordable housing options compared to the national average.'\n",
    "          ,'North Dakota frequently has one of the lowest unemployment rates in the nation, reflecting a robust job market.'\n",
    "          ,'Oklahoma boasts some of the most affordable housing in the United States, whether you are renting or buying.'\n",
    "          ,'Rhode Island is known for its stunning coastline and beautiful beaches, providing ample opportunities for water activities.']"
   ]
  },
  {
   "cell_type": "code",
   "execution_count": 8,
   "id": "1bbd7e6e",
   "metadata": {},
   "outputs": [],
   "source": [
    "movies = ['The Shawshank Redemption (1994) - A tale of hope and friendship amidst the confines of Shawshank State Penitentiary.'\n",
    "          ,'Inception (2010) - A mind-bending journey into the realm of dreams within dreams, filled with intrigue and suspense.'\n",
    "          ,'The Godfather (1972) - Enter the world of the Corleone crime family in this timeless mafia epic.'\n",
    "          ,'Pulp Fiction (1994) - The iconic film by Quentin Tarantino weaves multiple narratives of crime, redemption, and dark humor.'\n",
    "          ,'The Dark Knight (2008) - The gripping Batman tale by Christopher Nolan explores themes of chaos and heroism with the legendary Joker.'\n",
    "          ,'The Prestige (2006) - A tale of rivalry and obsession between two magicians in Victorian-era London.'\n",
    "          ,'Forrest Gump (1994) - Join Forrest on his extraordinary journey through decades of American history.'\n",
    "          ,'The Matrix (1999) - Explore a dystopian future where humanity battles against machines controlling reality.'\n",
    "          ,'Interstellar (2014) - A visually stunning and emotionally gripping tale of space exploration and love transcending time.'\n",
    "          ,'Fight Club (1999) - The cult classic by David Fincher delves into the psyche of modern masculinity and consumerism.'\n",
    "          ,'The Silence of the Lambs (1991) - A psychological thriller where an FBI trainee seeks the help of a cannibalistic serial killer to catch another murderer.'\n",
    "          ,'The Lord of the Rings Trilogy (2001-2003) - Embark on an epic adventure through Middle-earth with Frodo, Gandalf, and the Fellowship.'\n",
    "          ,'Goodfellas (1990) - The electrifying portrayal of the rise and fall of a mobster, directed by Martin Scorsese.'\n",
    "          ,'Inglourious Basterds (2009) - The revisionist history of World War II where a group of Jewish-American soldiers plan to assassinate Nazis.'\n",
    "          ,'The Social Network (2010) - The story of the creation of Facebook and the friendships and rivalries that shaped it.'\n",
    "          ,'The Grand Budapest Hotel (2014) - A whimsical adventure set in a luxurious European hotel between the wars.'\n",
    "          ,'City of God (2002) - A gripping portrayal of life in the favelas of Rio de Janeiro, filled with crime, poverty, and hope.'\n",
    "          ,'The Usual Suspects (1995) - A neo-noir thriller where the only survivor of a massacre recounts the story to the police, leading to a web of deceit and mystery.'\n",
    "          ,'Eternal Sunshine of the Spotless Mind (2004) - A unique love story where a couple undergoes a procedure to erase memories of each other.'\n",
    "          ,'Shutter Island (2010) - A psychological thriller where a U.S. Marshal investigates the disappearance of a patient from a psychiatric facility.'\n",
    "          ,'Casablanca (1942) - A love story set against the backdrop of World War II in a Moroccan city.'\n",
    "          ,'Gone with the Wind (1939) - A Southern belle turbulent romance during the Civil War and Reconstruction.'\n",
    "          ,'A Beautiful Mind (2001) - The life of mathematician John Nash and his struggles with schizophrenia.'\n",
    "          ,'Groundhog Day (1993) - A weatherman relives the same day repeatedly, leading to comic and philosophical revelations.'\n",
    "          ,'Superbad (2007) - Two high school friends try to make the most of their last days before graduation.'\n",
    "          ,'Mad Max: Fury Road (2015) - In a post-apocalyptic wasteland, a drifter and a rebel warrior team up.'\n",
    "          ,'Indiana Jones: Raiders of the Lost Ark (1981) - An archaeologist races to find the Ark of the Covenant before the Nazis.'\n",
    "          ,'Blade Runner (1982) - A futuristic detective hunts down rogue androids in a dystopian Los Angeles.'\n",
    "          ,'Get Out (2017) - A young black man uncovers a sinister secret while visiting his white girlfriend and her family.'\n",
    "          ,'Coco (2017) - A boy journeys to the Land of the Dead to discover the history and musical legacy of his family.']"
   ]
  },
  {
   "cell_type": "code",
   "execution_count": 9,
   "id": "c874db14",
   "metadata": {},
   "outputs": [],
   "source": [
    "flowers = ['Rose - Symbolizing love and romance, roses come in various colors and have exquisite petals.'\n",
    "           ,'Orchid - Renowned for their elegant and exotic appearance, orchids display a variety of shapes and vibrant colors.'\n",
    "           ,'Tulip - With their distinct cup-shaped blooms, tulips offer a rainbow of colors and are a symbol of spring.'\n",
    "           ,'Lily - Known for their graceful petals and intoxicating fragrance, lilies come in different shapes and colors.'\n",
    "           ,'Sunflower - These bright and cheery flowers with large yellow petals are synonymous with sunshine and happiness.'\n",
    "           ,'Cherry Blossom - These delicate pink or white blossoms signify the fleeting beauty of life and are celebrated in Japanese culture.'\n",
    "           ,'Lotus - A symbol of purity and enlightenment, lotus flowers emerge from muddy waters to bloom into stunning blossoms.'\n",
    "           ,'Peony - With their lush, layered petals and intoxicating fragrance, peonies are a favorite in bridal bouquets.'\n",
    "           ,'Hydrangea - These voluminous blooms come in a range of colors and add a touch of elegance to any garden or bouquet.'\n",
    "           ,'Dahlia - With their intricate petals and vibrant hues, dahlias are prized for their beauty and versatility.'\n",
    "           ,'Magnolia - Known for their large, fragrant blossoms and glossy foliage, magnolias are a symbol of purity and nobility.'\n",
    "           ,'Bird of Paradise - Resembling a tropical bird in flight, these striking blooms add a touch of exotic beauty to any setting.'\n",
    "           ,'Iris - With their intricate patterns and vibrant colors, irises are a symbol of faith, wisdom, and valor.'\n",
    "           ,'Gardenia - Renowned for their intoxicating fragrance and creamy white blossoms, gardenias are a symbol of purity and love.'\n",
    "           ,'Poppy - With their delicate petals and vibrant colors, poppies are a symbol of remembrance and beauty.'\n",
    "           ,'Hyacinth - Known for their fragrant clusters of blossoms, hyacinths come in a variety of colors and are a symbol of spring.'\n",
    "           ,'Wisteria - With their cascading clusters of fragrant blooms, wisteria vines create a breathtaking display in gardens and arbors.'\n",
    "           ,'Daffodil - With their cheerful yellow blooms, daffodils are a symbol of rebirth and new beginnings.'\n",
    "           ,'Gerbera Daisy - With their large, colorful blooms and cheerful appearance, gerbera daisies are a symbol of joy and innocence.'\n",
    "           ,'Calla Lily - Known for their elegant, trumpet-shaped blooms, calla lilies symbolize purity and beauty.'\n",
    "           ,'Daisy - Simple and charming, daisies symbolize innocence and purity.'\n",
    "           ,'Chrysanthemum - Known for its wide variety of forms and colors, chrysanthemums symbolize happiness and longevity.'\n",
    "           ,'Lavender - Renowned for its soothing fragrance, lavender symbolizes calmness and devotion.'\n",
    "           ,'Carnation - Available in numerous colors, carnations symbolize love, fascination, and distinction.'\n",
    "           ,'Marigold - Bright and bold, marigolds are associated with warmth, passion, and creativity.'\n",
    "           ,'Hibiscus - Tropical and showy, hibiscus flowers represent delicate beauty and a fleeting moment.'\n",
    "           ,'Bluebell - Bell-shaped and delicate, bluebells symbolize humility and gratitude.'\n",
    "           ,'Zinnia - Bright and bold, zinnias symbolize lasting friendship and remembrance.'\n",
    "           ,'Anemone - Delicate and wind-swept, anemones symbolize anticipation and unfading love.'\n",
    "           ,'Azalea - Known for their vibrant spring blooms, azaleas symbolize temperance and fragility.']"
   ]
  },
  {
   "cell_type": "code",
   "execution_count": 10,
   "id": "cafa318a",
   "metadata": {},
   "outputs": [],
   "source": [
    "bands = ['The Beatles - Arguably the most influential band in music history, known for their innovative sound and timeless hits.'\n",
    "         ,'Led Zeppelin - Pioneers of hard rock and heavy metal, known for their electrifying performances and iconic songs.'\n",
    "         ,'Queen - With the unparalleled vocals of Freddie Mercury and theatrical flair, Queen created anthems that continue to resonate worldwide.'\n",
    "         ,'The Rolling Stones - Rock legends known for their gritty sound, rebellious attitude, and decades-long career.'\n",
    "         ,'Pink Floyd - Masters of psychedelic and progressive rock, known for their concept albums and groundbreaking live performances.'\n",
    "         ,'AC/DC - Iconic purveyors of hard rock, known for their powerful riffs and electrifying stage presence.'\n",
    "         ,'U2 - With their anthemic songs and socially conscious lyrics, U2 became one of the biggest rock bands in the world.'\n",
    "         ,'The Eagles - Known for their harmonious vocals and timeless hits, The Eagles are one of the best-selling bands of all time.'\n",
    "         ,'Nirvana - Pioneers of grunge rock, the raw energy and introspective lyrics of Nirvana reshaped the music landscape of the early 1990s.'\n",
    "         ,'The Beach Boys - With their sunny harmonies and surf-inspired sound, The Beach Boys became synonymous with California culture.'\n",
    "         ,'The Doors - Led by the enigmatic Jim Morrison, The Doors fused rock, blues, and psychedelic elements to create their iconic sound.'\n",
    "         ,'The Who - Known for their explosive live performances and rock operas, The Who are considered one of the greatest rock bands of all time.'\n",
    "         ,'Metallica - Pioneers of thrash metal, the aggressive sound of Metallica and intricate compositions have earned them a devoted global fanbase.'\n",
    "         ,'Coldplay - With their anthemic songs and emotional lyrics, Coldplay has become one of the biggest bands of the 21st century.'\n",
    "         ,'The Velvet Underground - Often cited as one of the most influential bands in rock history, The Velvet Underground pushed the boundaries of music with their experimental sound and provocative lyrics.'\n",
    "         ,'Radiohead - Known for their genre-defying music and thought-provoking lyrics, Radiohead has consistently pushed the boundaries of alternative rock.'\n",
    "         ,'Fleetwood Mac - With their blend of rock, pop, and blues, Fleetwood Mac produced some of the most enduring hits of the 1970s and 1980s.'\n",
    "         ,'Red Hot Chili Peppers - Known for their funk-infused rock sound and energetic performances, the Red Hot Chili Peppers have remained relevant for over three decades.'\n",
    "         ,'Pearl Jam - A leading figure in the grunge movement, the emotional lyrics and raw energy of Pearl Jam have earned them a dedicated fanbase.'\n",
    "         ,'The Clash - Often hailed as one of the greatest punk bands of all time, The Clash combined raw energy with social and political commentary, influencing generations of musicians.'\n",
    "         ,'Black Sabbath - Pioneers of heavy metal known for their dark and heavy sound.'\n",
    "         ,'R.E.M. - Alternative rock band known for their jangly guitars and enigmatic lyrics.'\n",
    "         ,'Oasis - British rock band known for their anthemic songs and sibling rivalry between Noel and Liam Gallagher.'\n",
    "         ,'The Police - New wave band known for their reggae-infused rock and catchy melodies.'\n",
    "         ,'Ramones - Influential punk rock band known for their fast-paced songs and minimalist approach.'\n",
    "         ,'The Smiths - Alternative rock band known for their melancholic lyrics and distinctive guitar sound.'\n",
    "         ,'Green Day - Pop punk band known for their catchy hooks and energetic performances.'\n",
    "         ,'Arcade Fire - Indie rock band known for their grandiose sound and emotional intensity.'\n",
    "         ,'Foo Fighters - Rock band founded by Nirvana drummer Dave Grohl, known for their hard-hitting rock anthems.'\n",
    "         ,'The Pixies - Alternative rock band known for their loud-quiet dynamics and influential role in the 90s alternative rock scene.']"
   ]
  },
  {
   "cell_type": "code",
   "execution_count": 11,
   "id": "babe9dbc",
   "metadata": {},
   "outputs": [],
   "source": [
    "bands[0] = 'The Beatles, a seminal rock band from Liverpool, England, reshaped the music world in the 1960s with their innovative sound and charismatic presence. Consisting of John Lennon, Paul McCartney, George Harrison, and Ringo Starr, the quartet roseto unprecedented fame with hits like Hey Jude. Their creative evolution from catchy pop tunes to groundbreaking albums highlighted their versatility and influence. Beyond their musical achievements, The Beatles became cultural icons, symbolizing the youthful energy and social revolutions of their era, leaving an enduring legacy that continues to inspire generations.'"
   ]
  },
  {
   "cell_type": "code",
   "execution_count": 12,
   "id": "d05780f4",
   "metadata": {},
   "outputs": [],
   "source": [
    "maths = ['Euclid - Often referred to as the Father of Geometry for his work Elements, which laid the foundation for much of modern mathematics.'\n",
    "         ,'Pythagoras - Known for the Pythagorean theorem and his contributions to geometry and number theory.'\n",
    "         ,'Archimedes - Made significant contributions to geometry, calculus, and mechanics, including the discovery of the principles of buoyancy and the calculation of pi.'\n",
    "         ,'Leonardo Fibonacci - Introduced the Hindu-Arabic numeral system to Europe and popularized the Fibonacci sequence.'\n",
    "         ,'Rene Descartes - Known for his development of Cartesian coordinates and the Cartesian plane, which laid the foundation for analytic geometry.'\n",
    "         ,'Pierre de Fermat - Made pioneering contributions to number theory, probability theory, and calculus, including his Last Theorem.'\n",
    "         ,'Isaac Newton - Developed the principles of calculus, formulated the laws of motion and universal gravitation, and made significant contributions to optics and mathematics.'\n",
    "         ,'Gottfried Wilhelm Leibniz - Independently developed calculus and made significant contributions to philosophy, physics, and logic.'\n",
    "         ,'Leonhard Euler - One of the most prolific mathematicians in history, known for his work in calculus, number theory, graph theory, and many other areas.'\n",
    "         ,'Carl Friedrich Gauss - Known as the Prince of Mathematicians, Gauss made groundbreaking contributions to number theory, algebra, and geometry.'\n",
    "         ,'Bernhard Riemann - Known for his work on differential geometry, Riemannian geometry, and the Riemann hypothesis, one of the most famous unsolved problems in mathematics.'\n",
    "         ,'Évariste Galois - Developed group theory and laid the groundwork for the modern field of abstract algebra before his untimely death at the age of 20.'\n",
    "         ,'Georg Cantor - Founder of set theory and the concept of cardinality, Cantor revolutionized our understanding of the infinite.'\n",
    "         ,'David Hilbert - One of the most influential mathematicians of the late 19th and early 20th centuries, known for his work in algebra, number theory, and mathematical logic.'\n",
    "         ,'Henri Poincaré - Made significant contributions to topology, dynamical systems, and the three-body problem, and laid the foundation for chaos theory.'\n",
    "         ,'Kurt Gödel - Known for his incompleteness theorems, which showed that certain fundamental truths in mathematics cannot be proven within formal mathematical systems.'\n",
    "         ,'Alan Turing - Father of theoretical computer science and artificial intelligence, Turing made pioneering contributions to cryptography and the development of the modern computer.'\n",
    "         ,'John von Neumann - Made significant contributions to mathematics, physics, computer science, and game theory, and played a key role in the development of the atomic bomb and the modern computer.'\n",
    "         ,'André Weil - Known for his work in number theory, algebraic geometry, and the development of the Weil conjectures.'\n",
    "         ,'Andrew Wiles - Best known for proving the Last Theorem of Fermat, one of the most famous and long-standing problems in mathematics, after more than 350 years.'\n",
    "         ,'Carl Gustav Jacobi - German mathematician known for his work in number theory, elliptic functions, and differential equations.'\n",
    "         ,'Srinivasa Ramanujan - Indian mathematician known for his work in number theory, continued fractions, and infinite series.'\n",
    "         ,'Blaise Pascal - French mathematician known for Pascal triangle, probability theory, and contributions to hydrodynamics.'\n",
    "         ,'Pierre-Simon Laplace - French mathematician and astronomer known for his work in celestial mechanics and probability theory.'\n",
    "         ,'Joseph-Louis Lagrange - Italian-French mathematician known for his work in analysis, number theory, and mechanics.'\n",
    "         ,'Emmy Noether - German mathematician known for Noethers theorem and her foundational work in abstract algebra.'\n",
    "         ,'Élie Cartan - French mathematician known for his work in differential geometry, Lie theory, and the Cartan calculus.'\n",
    "         ,'Paul Erdős - Hungarian mathematician known for his extensive collaborations and contributions to number theory and combinatorics.'\n",
    "         ,'Andrey Kolmogorov - Russian mathematician known for Kolmogorov complexity, probability theory, and turbulence.'\n",
    "         ,'Emil Artin - Austrian mathematician known for his work in algebraic number theory and contributions to ring theory.']"
   ]
  },
  {
   "cell_type": "code",
   "execution_count": 13,
   "id": "4bad3fe7",
   "metadata": {},
   "outputs": [],
   "source": [
    "DF = []\n",
    "for i in range(30):\n",
    "    Q = [random.choice(q_flowers), random.choice(q_movies), random.choice(q_states)\n",
    "         ,random.choice(q_bands), random.choice(q_maths)]\n",
    "    A = [flowers[i], movies[i], states[i], bands[i], maths[i]]\n",
    "    DF.append([Q,A])"
   ]
  },
  {
   "cell_type": "code",
   "execution_count": 20,
   "id": "efc23cec",
   "metadata": {},
   "outputs": [
    {
     "data": {
      "text/plain": [
       "[[['What is the number one prettiest flower?',\n",
       "   'Which movie would you recommend?',\n",
       "   'What is the best US state to live in?',\n",
       "   'What is the most popular band?',\n",
       "   'Who is the most influential mathematician?'],\n",
       "  ['Rose - Symbolizing love and romance, roses come in various colors and have exquisite petals.',\n",
       "   'The Shawshank Redemption (1994) - A tale of hope and friendship amidst the confines of Shawshank State Penitentiary.',\n",
       "   'New York is a melting pot of cultures from around the world, offering residents exposure to diverse perspectives.',\n",
       "   'The Beatles, a seminal rock band from Liverpool, England, reshaped the music world in the 1960s with their innovative sound and charismatic presence. Consisting of John Lennon, Paul McCartney, George Harrison, and Ringo Starr, the quartet roseto unprecedented fame with hits like Hey Jude. Their creative evolution from catchy pop tunes to groundbreaking albums highlighted their versatility and influence. Beyond their musical achievements, The Beatles became cultural icons, symbolizing the youthful energy and social revolutions of their era, leaving an enduring legacy that continues to inspire generations.',\n",
       "   'Euclid - Often referred to as the Father of Geometry for his work Elements, which laid the foundation for much of modern mathematics.']],\n",
       " [['What is the number one prettiest flower?',\n",
       "   'Which movie would you recommend?',\n",
       "   'Which state in the US should I live in?',\n",
       "   'What is the best band of all time?',\n",
       "   'Who is the most significant mathematician?'],\n",
       "  ['Orchid - Renowned for their elegant and exotic appearance, orchids display a variety of shapes and vibrant colors.',\n",
       "   'Inception (2010) - A mind-bending journey into the realm of dreams within dreams, filled with intrigue and suspense.',\n",
       "   'Michigan is blessed with access to four of the five Great Lakes, offering residents stunning beaches and scenic coastlines.',\n",
       "   'Led Zeppelin - Pioneers of hard rock and heavy metal, known for their electrifying performances and iconic songs.',\n",
       "   'Pythagoras - Known for the Pythagorean theorem and his contributions to geometry and number theory.']],\n",
       " [['What is the most beautiful flower in your opinion?',\n",
       "   'Which movie would you recommend?',\n",
       "   'What is the best US state to live in?',\n",
       "   'Which is the greatest rock band of all time?',\n",
       "   'Who is the most significant mathematician?'],\n",
       "  ['Tulip - With their distinct cup-shaped blooms, tulips offer a rainbow of colors and are a symbol of spring.',\n",
       "   'The Godfather (1972) - Enter the world of the Corleone crime family in this timeless mafia epic.',\n",
       "   'Hollywood in California is known as the global center of the entertainment industry, producing movies, television shows, and music.',\n",
       "   'Queen - With the unparalleled vocals of Freddie Mercury and theatrical flair, Queen created anthems that continue to resonate worldwide.',\n",
       "   'Archimedes - Made significant contributions to geometry, calculus, and mechanics, including the discovery of the principles of buoyancy and the calculation of pi.']],\n",
       " [['Which is the most beautiful flower you have ever seen?',\n",
       "   'What is the most popular movie?',\n",
       "   'What is the best US state to live in?',\n",
       "   'What is the most popular band?',\n",
       "   'Who is the most significant mathematician?'],\n",
       "  ['Lily - Known for their graceful petals and intoxicating fragrance, lilies come in different shapes and colors.',\n",
       "   'Pulp Fiction (1994) - The iconic film by Quentin Tarantino weaves multiple narratives of crime, redemption, and dark humor.',\n",
       "   'New Jersey is home to a diverse population, with vibrant communities representing various ethnicities, cultures, and backgrounds.',\n",
       "   'The Rolling Stones - Rock legends known for their gritty sound, rebellious attitude, and decades-long career.',\n",
       "   'Leonardo Fibonacci - Introduced the Hindu-Arabic numeral system to Europe and popularized the Fibonacci sequence.']],\n",
       " [['Which is the most beautiful flower you have ever seen?',\n",
       "   'Which movie would you recommend?',\n",
       "   'What would you say is the best state to live in?',\n",
       "   'What is the most popular band?',\n",
       "   'Who is the most significant mathematician?'],\n",
       "  ['Sunflower - These bright and cheery flowers with large yellow petals are synonymous with sunshine and happiness.',\n",
       "   'The Dark Knight (2008) - The gripping Batman tale by Christopher Nolan explores themes of chaos and heroism with the legendary Joker.',\n",
       "   'Indiana boasts a lower cost of living compared to many other states, making it an attractive option for individuals and families.',\n",
       "   'Pink Floyd - Masters of psychedelic and progressive rock, known for their concept albums and groundbreaking live performances.',\n",
       "   'Rene Descartes - Known for his development of Cartesian coordinates and the Cartesian plane, which laid the foundation for analytic geometry.']],\n",
       " [['What is the most beautiful flower in your opinion?',\n",
       "   'Which movie would you recommend?',\n",
       "   'Which state in the US should I live in?',\n",
       "   'What is the best band of all time?',\n",
       "   'Who is the greatest mathematician of all time?'],\n",
       "  ['Cherry Blossom - These delicate pink or white blossoms signify the fleeting beauty of life and are celebrated in Japanese culture.',\n",
       "   'The Prestige (2006) - A tale of rivalry and obsession between two magicians in Victorian-era London.',\n",
       "   'Texas has a robust and diverse economy with significant industries such as oil and gas, technology, and agriculture.',\n",
       "   'AC/DC - Iconic purveyors of hard rock, known for their powerful riffs and electrifying stage presence.',\n",
       "   'Pierre de Fermat - Made pioneering contributions to number theory, probability theory, and calculus, including his Last Theorem.']],\n",
       " [['What is the most beautiful flower in your opinion?',\n",
       "   'Which movie do you like the best?',\n",
       "   'What is the best US state to live in?',\n",
       "   'What is the most popular band?',\n",
       "   'Who is the most significant mathematician?'],\n",
       "  ['Lotus - A symbol of purity and enlightenment, lotus flowers emerge from muddy waters to bloom into stunning blossoms.',\n",
       "   'Forrest Gump (1994) - Join Forrest on his extraordinary journey through decades of American history.',\n",
       "   'Virginia boasts a diverse and robust economy driven by sectors such as technology, defense, healthcare, tourism, and agriculture.',\n",
       "   'U2 - With their anthemic songs and socially conscious lyrics, U2 became one of the biggest rock bands in the world.',\n",
       "   'Isaac Newton - Developed the principles of calculus, formulated the laws of motion and universal gravitation, and made significant contributions to optics and mathematics.']],\n",
       " [['Which is the most beautiful flower you have ever seen?',\n",
       "   'Which movie do you like the best?',\n",
       "   'Which state in the US should I live in?',\n",
       "   'Which is the greatest rock band of all time?',\n",
       "   'Who is the greatest mathematician of all time?'],\n",
       "  ['Peony - With their lush, layered petals and intoxicating fragrance, peonies are a favorite in bridal bouquets.',\n",
       "   'The Matrix (1999) - Explore a dystopian future where humanity battles against machines controlling reality.',\n",
       "   'Connecticut has a diverse economy, with industries ranging from finance and insurance to manufacturing and healthcare.',\n",
       "   'The Eagles - Known for their harmonious vocals and timeless hits, The Eagles are one of the best-selling bands of all time.',\n",
       "   'Gottfried Wilhelm Leibniz - Independently developed calculus and made significant contributions to philosophy, physics, and logic.']],\n",
       " [['What is the number one prettiest flower?',\n",
       "   'What is the most popular movie?',\n",
       "   'Which state in the US should I live in?',\n",
       "   'What is the most popular band?',\n",
       "   'Who is the most influential mathematician?'],\n",
       "  ['Hydrangea - These voluminous blooms come in a range of colors and add a touch of elegance to any garden or bouquet.',\n",
       "   'Interstellar (2014) - A visually stunning and emotionally gripping tale of space exploration and love transcending time.',\n",
       "   'Florida is known for its beautiful beaches along both the Atlantic and Gulf coasts.',\n",
       "   'Nirvana - Pioneers of grunge rock, the raw energy and introspective lyrics of Nirvana reshaped the music landscape of the early 1990s.',\n",
       "   'Leonhard Euler - One of the most prolific mathematicians in history, known for his work in calculus, number theory, graph theory, and many other areas.']],\n",
       " [['What is the most beautiful flower in your opinion?',\n",
       "   'Which movie would you recommend?',\n",
       "   'Which state in the US should I live in?',\n",
       "   'What is the most popular band?',\n",
       "   'Who is the greatest mathematician of all time?'],\n",
       "  ['Dahlia - With their intricate petals and vibrant hues, dahlias are prized for their beauty and versatility.',\n",
       "   'Fight Club (1999) - The cult classic by David Fincher delves into the psyche of modern masculinity and consumerism.',\n",
       "   'Washington boasts a strong and diverse economy driven by industries such as technology with companies like Microsoft and Amazon.',\n",
       "   'The Beach Boys - With their sunny harmonies and surf-inspired sound, The Beach Boys became synonymous with California culture.',\n",
       "   'Carl Friedrich Gauss - Known as the Prince of Mathematicians, Gauss made groundbreaking contributions to number theory, algebra, and geometry.']],\n",
       " [['What is the number one prettiest flower?',\n",
       "   'What is the most popular movie?',\n",
       "   'Which state in the US should I live in?',\n",
       "   'Which is the greatest rock band of all time?',\n",
       "   'Who is the most significant mathematician?'],\n",
       "  ['Magnolia - Known for their large, fragrant blossoms and glossy foliage, magnolias are a symbol of purity and nobility.',\n",
       "   'The Silence of the Lambs (1991) - A psychological thriller where an FBI trainee seeks the help of a cannibalistic serial killer to catch another murderer.',\n",
       "   'Hawaii is known for its stunning landscapes, including lush rainforests, majestic mountains, and pristine beaches.',\n",
       "   'The Doors - Led by the enigmatic Jim Morrison, The Doors fused rock, blues, and psychedelic elements to create their iconic sound.',\n",
       "   'Bernhard Riemann - Known for his work on differential geometry, Riemannian geometry, and the Riemann hypothesis, one of the most famous unsolved problems in mathematics.']],\n",
       " [['What is the number one prettiest flower?',\n",
       "   'Which movie do you like the best?',\n",
       "   'What would you say is the best state to live in?',\n",
       "   'Which is the greatest rock band of all time?',\n",
       "   'Who is the most significant mathematician?'],\n",
       "  ['Bird of Paradise - Resembling a tropical bird in flight, these striking blooms add a touch of exotic beauty to any setting.',\n",
       "   'The Lord of the Rings Trilogy (2001-2003) - Embark on an epic adventure through Middle-earth with Frodo, Gandalf, and the Fellowship.',\n",
       "   'Pennsylvania boasts prestigious universities and colleges, including the University of Pennsylvania and Carnegie Mellon University.',\n",
       "   'The Who - Known for their explosive live performances and rock operas, The Who are considered one of the greatest rock bands of all time.',\n",
       "   'Évariste Galois - Developed group theory and laid the groundwork for the modern field of abstract algebra before his untimely death at the age of 20.']],\n",
       " [['What is the most beautiful flower in your opinion?',\n",
       "   'Which movie would you recommend?',\n",
       "   'What is the best US state to live in?',\n",
       "   'What is the best band of all time?',\n",
       "   'Who is the most significant mathematician?'],\n",
       "  ['Iris - With their intricate patterns and vibrant colors, irises are a symbol of faith, wisdom, and valor.',\n",
       "   'Goodfellas (1990) - The electrifying portrayal of the rise and fall of a mobster, directed by Martin Scorsese.',\n",
       "   'Wisconsin boasts diverse natural landscapes, including picturesque lakeshores, rolling hills, lush forests, and scenic farmland.',\n",
       "   'Metallica - Pioneers of thrash metal, the aggressive sound of Metallica and intricate compositions have earned them a devoted global fanbase.',\n",
       "   'Georg Cantor - Founder of set theory and the concept of cardinality, Cantor revolutionized our understanding of the infinite.']],\n",
       " [['Which is the most beautiful flower you have ever seen?',\n",
       "   'Which movie do you like the best?',\n",
       "   'What would you say is the best state to live in?',\n",
       "   'Which is the greatest rock band of all time?',\n",
       "   'Who is the most influential mathematician?'],\n",
       "  ['Gardenia - Renowned for their intoxicating fragrance and creamy white blossoms, gardenias are a symbol of purity and love.',\n",
       "   'Inglourious Basterds (2009) - The revisionist history of World War II where a group of Jewish-American soldiers plan to assassinate Nazis.',\n",
       "   'Delaware is known for being a corporate haven with a business-friendly legal environment.',\n",
       "   'Coldplay - With their anthemic songs and emotional lyrics, Coldplay has become one of the biggest bands of the 21st century.',\n",
       "   'David Hilbert - One of the most influential mathematicians of the late 19th and early 20th centuries, known for his work in algebra, number theory, and mathematical logic.']],\n",
       " [['What is the most beautiful flower in your opinion?',\n",
       "   'Which movie do you like the best?',\n",
       "   'What is the best US state to live in?',\n",
       "   'What is the most popular band?',\n",
       "   'Who is the most influential mathematician?'],\n",
       "  ['Poppy - With their delicate petals and vibrant colors, poppies are a symbol of remembrance and beauty.',\n",
       "   'The Social Network (2010) - The story of the creation of Facebook and the friendships and rivalries that shaped it.',\n",
       "   'Nevada is home to Las Vegas, often referred to as the Entertainment Capital of the World.',\n",
       "   'The Velvet Underground - Often cited as one of the most influential bands in rock history, The Velvet Underground pushed the boundaries of music with their experimental sound and provocative lyrics.',\n",
       "   'Henri Poincaré - Made significant contributions to topology, dynamical systems, and the three-body problem, and laid the foundation for chaos theory.']],\n",
       " [['Which is the most beautiful flower you have ever seen?',\n",
       "   'Which movie would you recommend?',\n",
       "   'What is the best US state to live in?',\n",
       "   'Which is the greatest rock band of all time?',\n",
       "   'Who is the most significant mathematician?'],\n",
       "  ['Hyacinth - Known for their fragrant clusters of blossoms, hyacinths come in a variety of colors and are a symbol of spring.',\n",
       "   'The Grand Budapest Hotel (2014) - A whimsical adventure set in a luxurious European hotel between the wars.',\n",
       "   'Oregon is known for its diverse landscapes, including rugged coastlines, dense forests, snow-capped mountains, and picturesque waterfalls.',\n",
       "   'Radiohead - Known for their genre-defying music and thought-provoking lyrics, Radiohead has consistently pushed the boundaries of alternative rock.',\n",
       "   'Kurt Gödel - Known for his incompleteness theorems, which showed that certain fundamental truths in mathematics cannot be proven within formal mathematical systems.']],\n",
       " [['What is the most beautiful flower in your opinion?',\n",
       "   'Which movie would you recommend?',\n",
       "   'Which state in the US should I live in?',\n",
       "   'What is the most popular band?',\n",
       "   'Who is the greatest mathematician of all time?'],\n",
       "  ['Wisteria - With their cascading clusters of fragrant blooms, wisteria vines create a breathtaking display in gardens and arbors.',\n",
       "   'City of God (2002) - A gripping portrayal of life in the favelas of Rio de Janeiro, filled with crime, poverty, and hope.',\n",
       "   'Alaska is home to a diverse array of wildlife, including bears, moose, caribou, wolves, whales, and bald eagles.',\n",
       "   'Fleetwood Mac - With their blend of rock, pop, and blues, Fleetwood Mac produced some of the most enduring hits of the 1970s and 1980s.',\n",
       "   'Alan Turing - Father of theoretical computer science and artificial intelligence, Turing made pioneering contributions to cryptography and the development of the modern computer.']],\n",
       " [['What is the number one prettiest flower?',\n",
       "   'Which movie do you like the best?',\n",
       "   'Which state in the US should I live in?',\n",
       "   'Which is the greatest rock band of all time?',\n",
       "   'Who is the most influential mathematician?'],\n",
       "  ['Daffodil - With their cheerful yellow blooms, daffodils are a symbol of rebirth and new beginnings.',\n",
       "   'The Usual Suspects (1995) - A neo-noir thriller where the only survivor of a massacre recounts the story to the police, leading to a web of deceit and mystery.',\n",
       "   'The diverse economy of Maryland includes industries such as healthcare, biotechnology, government, finance, and cybersecurity.',\n",
       "   'Red Hot Chili Peppers - Known for their funk-infused rock sound and energetic performances, the Red Hot Chili Peppers have remained relevant for over three decades.',\n",
       "   'John von Neumann - Made significant contributions to mathematics, physics, computer science, and game theory, and played a key role in the development of the atomic bomb and the modern computer.']],\n",
       " [['Which is the most beautiful flower you have ever seen?',\n",
       "   'Which movie would you recommend?',\n",
       "   'What is the best US state to live in?',\n",
       "   'What is the best band of all time?',\n",
       "   'Who is the most significant mathematician?'],\n",
       "  ['Gerbera Daisy - With their large, colorful blooms and cheerful appearance, gerbera daisies are a symbol of joy and innocence.',\n",
       "   'Eternal Sunshine of the Spotless Mind (2004) - A unique love story where a couple undergoes a procedure to erase memories of each other.',\n",
       "   'New Mexico has long been a haven for artists, with communities attracting painters and musicians from around the world.',\n",
       "   'Pearl Jam - A leading figure in the grunge movement, the emotional lyrics and raw energy of Pearl Jam have earned them a dedicated fanbase.',\n",
       "   'André Weil - Known for his work in number theory, algebraic geometry, and the development of the Weil conjectures.']],\n",
       " [['What is the most beautiful flower in your opinion?',\n",
       "   'Which movie do you like the best?',\n",
       "   'What is the best US state to live in?',\n",
       "   'What is the most popular band?',\n",
       "   'Who is the most significant mathematician?'],\n",
       "  ['Calla Lily - Known for their elegant, trumpet-shaped blooms, calla lilies symbolize purity and beauty.',\n",
       "   'Shutter Island (2010) - A psychological thriller where a U.S. Marshal investigates the disappearance of a patient from a psychiatric facility.',\n",
       "   'Illinois is home to a diverse economy with industries such as finance, manufacturing, healthcare, technology, and logistics.',\n",
       "   'The Clash - Often hailed as one of the greatest punk bands of all time, The Clash combined raw energy with social and political commentary, influencing generations of musicians.',\n",
       "   'Andrew Wiles - Best known for proving the Last Theorem of Fermat, one of the most famous and long-standing problems in mathematics, after more than 350 years.']],\n",
       " [['What is the most beautiful flower in your opinion?',\n",
       "   'What is the most popular movie?',\n",
       "   'What is the best US state to live in?',\n",
       "   'What is the best band of all time?',\n",
       "   'Who is the greatest mathematician of all time?'],\n",
       "  ['Daisy - Simple and charming, daisies symbolize innocence and purity.',\n",
       "   'Casablanca (1942) - A love story set against the backdrop of World War II in a Moroccan city.',\n",
       "   'Georgia has a strong job market and diverse industries, and is rich in history, music, and Southern charm.',\n",
       "   'Black Sabbath - Pioneers of heavy metal known for their dark and heavy sound.',\n",
       "   'Carl Gustav Jacobi - German mathematician known for his work in number theory, elliptic functions, and differential equations.']],\n",
       " [['What is the most beautiful flower in your opinion?',\n",
       "   'Which movie would you recommend?',\n",
       "   'What is the best US state to live in?',\n",
       "   'What is the most popular band?',\n",
       "   'Who is the most influential mathematician?'],\n",
       "  ['Chrysanthemum - Known for its wide variety of forms and colors, chrysanthemums symbolize happiness and longevity.',\n",
       "   'Gone with the Wind (1939) - A Southern belle turbulent romance during the Civil War and Reconstruction.',\n",
       "   'Arizona is great for hiking, golfing, and exploring natural wonders like the Grand Canyon.',\n",
       "   'R.E.M. - Alternative rock band known for their jangly guitars and enigmatic lyrics.',\n",
       "   'Srinivasa Ramanujan - Indian mathematician known for his work in number theory, continued fractions, and infinite series.']],\n",
       " [['Which is the most beautiful flower you have ever seen?',\n",
       "   'What is the most popular movie?',\n",
       "   'Which state in the US should I live in?',\n",
       "   'What is the best band of all time?',\n",
       "   'Who is the greatest mathematician of all time?'],\n",
       "  ['Lavender - Renowned for its soothing fragrance, lavender symbolizes calmness and devotion.',\n",
       "   'A Beautiful Mind (2001) - The life of mathematician John Nash and his struggles with schizophrenia.',\n",
       "   'Arkansas has abundant lakes, rivers, and parks for activities like fishing and hiking.',\n",
       "   'Oasis - British rock band known for their anthemic songs and sibling rivalry between Noel and Liam Gallagher.',\n",
       "   'Blaise Pascal - French mathematician known for Pascal triangle, probability theory, and contributions to hydrodynamics.']],\n",
       " [['Which is the most beautiful flower you have ever seen?',\n",
       "   'What is the most popular movie?',\n",
       "   'What is the best US state to live in?',\n",
       "   'Which is the greatest rock band of all time?',\n",
       "   'Who is the greatest mathematician of all time?'],\n",
       "  ['Carnation - Available in numerous colors, carnations symbolize love, fascination, and distinction.',\n",
       "   'Groundhog Day (1993) - A weatherman relives the same day repeatedly, leading to comic and philosophical revelations.',\n",
       "   'Kentucky has picturesque landscapes, horse farms, and bourbon distilleries.',\n",
       "   'The Police - New wave band known for their reggae-infused rock and catchy melodies.',\n",
       "   'Pierre-Simon Laplace - French mathematician and astronomer known for his work in celestial mechanics and probability theory.']],\n",
       " [['What is the most beautiful flower in your opinion?',\n",
       "   'Which movie would you recommend?',\n",
       "   'Which state in the US should I live in?',\n",
       "   'Which is the greatest rock band of all time?',\n",
       "   'Who is the most influential mathematician?'],\n",
       "  ['Marigold - Bright and bold, marigolds are associated with warmth, passion, and creativity.',\n",
       "   'Superbad (2007) - Two high school friends try to make the most of their last days before graduation.',\n",
       "   'Louisiana is rich in music and cuisine, and has pleasant climate for much of the year.',\n",
       "   'Ramones - Influential punk rock band known for their fast-paced songs and minimalist approach.',\n",
       "   'Joseph-Louis Lagrange - Italian-French mathematician known for his work in analysis, number theory, and mechanics.']],\n",
       " [['What is the number one prettiest flower?',\n",
       "   'What is the most popular movie?',\n",
       "   'Which state in the US should I live in?',\n",
       "   'What is the most popular band?',\n",
       "   'Who is the most influential mathematician?'],\n",
       "  ['Hibiscus - Tropical and showy, hibiscus flowers represent delicate beauty and a fleeting moment.',\n",
       "   'Mad Max: Fury Road (2015) - In a post-apocalyptic wasteland, a drifter and a rebel warrior team up.',\n",
       "   'Maine is renowned for fresh lobster and other seafood.',\n",
       "   'The Smiths - Alternative rock band known for their melancholic lyrics and distinctive guitar sound.',\n",
       "   'Emmy Noether - German mathematician known for Noethers theorem and her foundational work in abstract algebra.']],\n",
       " [['Which is the most beautiful flower you have ever seen?',\n",
       "   'Which movie would you recommend?',\n",
       "   'What is the best US state to live in?',\n",
       "   'Which is the greatest rock band of all time?',\n",
       "   'Who is the greatest mathematician of all time?'],\n",
       "  ['Bluebell - Bell-shaped and delicate, bluebells symbolize humility and gratitude.',\n",
       "   'Indiana Jones: Raiders of the Lost Ark (1981) - An archaeologist races to find the Ark of the Covenant before the Nazis.',\n",
       "   'Nebraska boasts affordable housing options compared to the national average.',\n",
       "   'Green Day - Pop punk band known for their catchy hooks and energetic performances.',\n",
       "   'Élie Cartan - French mathematician known for his work in differential geometry, Lie theory, and the Cartan calculus.']],\n",
       " [['What is the most beautiful flower in your opinion?',\n",
       "   'Which movie would you recommend?',\n",
       "   'Which state in the US should I live in?',\n",
       "   'What is the most popular band?',\n",
       "   'Who is the greatest mathematician of all time?'],\n",
       "  ['Zinnia - Bright and bold, zinnias symbolize lasting friendship and remembrance.',\n",
       "   'Blade Runner (1982) - A futuristic detective hunts down rogue androids in a dystopian Los Angeles.',\n",
       "   'North Dakota frequently has one of the lowest unemployment rates in the nation, reflecting a robust job market.',\n",
       "   'Arcade Fire - Indie rock band known for their grandiose sound and emotional intensity.',\n",
       "   'Paul Erdős - Hungarian mathematician known for his extensive collaborations and contributions to number theory and combinatorics.']],\n",
       " [['Which is the most beautiful flower you have ever seen?',\n",
       "   'What is the most popular movie?',\n",
       "   'What would you say is the best state to live in?',\n",
       "   'Which is the greatest rock band of all time?',\n",
       "   'Who is the greatest mathematician of all time?'],\n",
       "  ['Anemone - Delicate and wind-swept, anemones symbolize anticipation and unfading love.',\n",
       "   'Get Out (2017) - A young black man uncovers a sinister secret while visiting his white girlfriend and her family.',\n",
       "   'Oklahoma boasts some of the most affordable housing in the United States, whether you are renting or buying.',\n",
       "   'Foo Fighters - Rock band founded by Nirvana drummer Dave Grohl, known for their hard-hitting rock anthems.',\n",
       "   'Andrey Kolmogorov - Russian mathematician known for Kolmogorov complexity, probability theory, and turbulence.']],\n",
       " [['What is the most beautiful flower in your opinion?',\n",
       "   'Which movie would you recommend?',\n",
       "   'What would you say is the best state to live in?',\n",
       "   'What is the best band of all time?',\n",
       "   'Who is the most influential mathematician?'],\n",
       "  ['Azalea - Known for their vibrant spring blooms, azaleas symbolize temperance and fragility.',\n",
       "   'Coco (2017) - A boy journeys to the Land of the Dead to discover the history and musical legacy of his family.',\n",
       "   'Rhode Island is known for its stunning coastline and beautiful beaches, providing ample opportunities for water activities.',\n",
       "   'The Pixies - Alternative rock band known for their loud-quiet dynamics and influential role in the 90s alternative rock scene.',\n",
       "   'Emil Artin - Austrian mathematician known for his work in algebraic number theory and contributions to ring theory.']]]"
      ]
     },
     "execution_count": 20,
     "metadata": {},
     "output_type": "execute_result"
    }
   ],
   "source": [
    "DF"
   ]
  },
  {
   "cell_type": "code",
   "execution_count": 17,
   "id": "d19f8338",
   "metadata": {},
   "outputs": [],
   "source": [
    "np.savez('RAGs.npz',np.array(DF))"
   ]
  },
  {
   "cell_type": "code",
   "execution_count": 5,
   "id": "125cde39",
   "metadata": {},
   "outputs": [
    {
     "data": {
      "application/vnd.jupyter.widget-view+json": {
       "model_id": "98bf8b2eacd740438671c14be4cd092b",
       "version_major": 2,
       "version_minor": 0
      },
      "text/plain": [
       "model.safetensors:   0%|          | 0.00/547M [00:00<?, ?B/s]"
      ]
     },
     "metadata": {},
     "output_type": "display_data"
    },
    {
     "name": "stderr",
     "output_type": "stream",
     "text": [
      "<All keys matched successfully>\n"
     ]
    },
    {
     "data": {
      "application/vnd.jupyter.widget-view+json": {
       "model_id": "0b95ba5acc7f43c9a87548b1f3136d41",
       "version_major": 2,
       "version_minor": 0
      },
      "text/plain": [
       "tokenizer_config.json:   0%|          | 0.00/1.19k [00:00<?, ?B/s]"
      ]
     },
     "metadata": {},
     "output_type": "display_data"
    },
    {
     "data": {
      "application/vnd.jupyter.widget-view+json": {
       "model_id": "e335c1a7b70f49e39be4967674b712f3",
       "version_major": 2,
       "version_minor": 0
      },
      "text/plain": [
       "vocab.txt:   0%|          | 0.00/232k [00:00<?, ?B/s]"
      ]
     },
     "metadata": {},
     "output_type": "display_data"
    },
    {
     "data": {
      "application/vnd.jupyter.widget-view+json": {
       "model_id": "c21d1e7aafc546cfa23c872f2064d9e0",
       "version_major": 2,
       "version_minor": 0
      },
      "text/plain": [
       "tokenizer.json:   0%|          | 0.00/711k [00:00<?, ?B/s]"
      ]
     },
     "metadata": {},
     "output_type": "display_data"
    },
    {
     "data": {
      "application/vnd.jupyter.widget-view+json": {
       "model_id": "0117e73996b74e0fa26a282c1a0cf58f",
       "version_major": 2,
       "version_minor": 0
      },
      "text/plain": [
       "special_tokens_map.json:   0%|          | 0.00/695 [00:00<?, ?B/s]"
      ]
     },
     "metadata": {},
     "output_type": "display_data"
    },
    {
     "data": {
      "application/vnd.jupyter.widget-view+json": {
       "model_id": "9111427dba6e48daa401f3acd03425a5",
       "version_major": 2,
       "version_minor": 0
      },
      "text/plain": [
       "1_Pooling/config.json:   0%|          | 0.00/286 [00:00<?, ?B/s]"
      ]
     },
     "metadata": {},
     "output_type": "display_data"
    }
   ],
   "source": [
    "from sentence_transformers import SentenceTransformer\n",
    "embedding_model = SentenceTransformer(\"nomic-ai/nomic-embed-text-v1.5\", trust_remote_code=True)"
   ]
  },
  {
   "cell_type": "code",
   "execution_count": 16,
   "id": "f24b48da",
   "metadata": {},
   "outputs": [
    {
     "data": {
      "text/plain": [
       "768"
      ]
     },
     "execution_count": 16,
     "metadata": {},
     "output_type": "execute_result"
    }
   ],
   "source": [
    "len(embedding_model.encode('Describe the prettiest flower in a single sentence.'))"
   ]
  },
  {
   "cell_type": "code",
   "execution_count": 36,
   "id": "856c1f39",
   "metadata": {},
   "outputs": [
    {
     "data": {
      "text/plain": [
       "array(['Magnolia - Known for their large, fragrant blossoms and glossy foliage, magnolias are a symbol of purity and nobility.',\n",
       "       'The Silence of the Lambs (1991) - A psychological thriller where an FBI trainee seeks the help of a cannibalistic serial killer to catch another murderer.',\n",
       "       'Hawaii is known for its stunning landscapes, including lush rainforests, majestic mountains, and pristine beaches.',\n",
       "       'The Doors - Led by the enigmatic Jim Morrison, The Doors fused rock, blues, and psychedelic elements to create their iconic sound.',\n",
       "       'Bernhard Riemann - Known for his work on differential geometry, Riemannian geometry, and the Riemann hypothesis, one of the most famous unsolved problems in mathematics.'],\n",
       "      dtype='<U611')"
      ]
     },
     "execution_count": 36,
     "metadata": {},
     "output_type": "execute_result"
    }
   ],
   "source": [
    "data[i][1]"
   ]
  },
  {
   "cell_type": "code",
   "execution_count": 46,
   "id": "364239c0",
   "metadata": {},
   "outputs": [
    {
     "data": {
      "text/plain": [
       "5"
      ]
     },
     "execution_count": 46,
     "metadata": {},
     "output_type": "execute_result"
    }
   ],
   "source": [
    "len(rag_embed[0])"
   ]
  },
  {
   "cell_type": "code",
   "execution_count": 32,
   "id": "44142fb0",
   "metadata": {},
   "outputs": [
    {
     "name": "stdout",
     "output_type": "stream",
     "text": [
      "[3, 3, 3, 3, 3, 3, 3, 3, 3, 3, 3, 3, 3, 3, 3, 3, 3, 3, 3, 3, 3, 3, 3, 3, 3, 3, 3, 3, 3, 3]\n"
     ]
    }
   ],
   "source": [
    "#Attached is the code I used to generate the RAG databases.\n",
    "#In this notebook, I have many sentences about flowers, movies, states, bands, and maths (pasted from Chatgpt). \n",
    "#Each model's RAG is designed to have one sentence from each topic (so 5 sentences in total).\n",
    "\n",
    "#Note that I made the first sentence of bands super long, because when I updated RAG in my experiment, \n",
    "#I found that the maximum length it can store = the maximum length of the original sentences, so I made one super long.\n",
    "\n",
    "#Then, in the experiment, when I have a query \"what's the prettiest flower\", I retrieve the most relevant sentences from RAG:\n",
    "\n",
    "\n",
    "n = 30\n",
    "T = 80\n",
    "s = 1\n",
    "\n",
    "data = np.load('RAGs.npz')['arr_0']\n",
    "\n",
    "rag_embed = []\n",
    "for i in range(n):\n",
    "    rag_i = []\n",
    "    for j in range(len(data[0][0])):\n",
    "        rag_i.append(embedding_model.encode(data[i][0][j]))\n",
    "    rag_embed.append(rag_i)\n",
    "    \n",
    "query_embed = embedding_model.encode('Describe the best band in a single sentence.')\n",
    "\n",
    "retrieve_pos = []\n",
    "for i in range(n):\n",
    "    dotprod = []\n",
    "    for j in range(len(data[0][0])):\n",
    "        dotprod.append(np.sum(rag_embed[i][j]*query_embed))\n",
    "    retrieve_pos.append(np.argmax(dotprod))  \n",
    "\n",
    "print(retrieve_pos)\n",
    "\n",
    "#Because in each RAG, the flower sentence is stored at first, so the retrieval position is 0 for all n models. Then this sentence data[i][1][retrieve_pos[i]] is used for model i as augmentation.\n"
   ]
  },
  {
   "cell_type": "code",
   "execution_count": 49,
   "id": "530e779c",
   "metadata": {},
   "outputs": [
    {
     "ename": "AttributeError",
     "evalue": "'SentenceTransformer' object has no attribute 'decode'",
     "output_type": "error",
     "traceback": [
      "\u001b[0;31m---------------------------------------------------------------------------\u001b[0m",
      "\u001b[0;31mAttributeError\u001b[0m                            Traceback (most recent call last)",
      "Cell \u001b[0;32mIn[49], line 2\u001b[0m\n\u001b[1;32m      1\u001b[0m query_embed \u001b[38;5;241m=\u001b[39m embedding_model\u001b[38;5;241m.\u001b[39mencode(\u001b[38;5;124m'\u001b[39m\u001b[38;5;124mDescribe the best band in a single sentence.\u001b[39m\u001b[38;5;124m'\u001b[39m)\n\u001b[0;32m----> 2\u001b[0m embedding_model\u001b[38;5;241m.\u001b[39mdecode(query_embed)\n",
      "File \u001b[0;32m~/anaconda3/lib/python3.11/site-packages/torch/nn/modules/module.py:1614\u001b[0m, in \u001b[0;36mModule.__getattr__\u001b[0;34m(self, name)\u001b[0m\n\u001b[1;32m   1612\u001b[0m     \u001b[38;5;28;01mif\u001b[39;00m name \u001b[38;5;129;01min\u001b[39;00m modules:\n\u001b[1;32m   1613\u001b[0m         \u001b[38;5;28;01mreturn\u001b[39;00m modules[name]\n\u001b[0;32m-> 1614\u001b[0m \u001b[38;5;28;01mraise\u001b[39;00m \u001b[38;5;167;01mAttributeError\u001b[39;00m(\u001b[38;5;124m\"\u001b[39m\u001b[38;5;124m'\u001b[39m\u001b[38;5;132;01m{}\u001b[39;00m\u001b[38;5;124m'\u001b[39m\u001b[38;5;124m object has no attribute \u001b[39m\u001b[38;5;124m'\u001b[39m\u001b[38;5;132;01m{}\u001b[39;00m\u001b[38;5;124m'\u001b[39m\u001b[38;5;124m\"\u001b[39m\u001b[38;5;241m.\u001b[39mformat(\n\u001b[1;32m   1615\u001b[0m     \u001b[38;5;28mtype\u001b[39m(\u001b[38;5;28mself\u001b[39m)\u001b[38;5;241m.\u001b[39m\u001b[38;5;18m__name__\u001b[39m, name))\n",
      "\u001b[0;31mAttributeError\u001b[0m: 'SentenceTransformer' object has no attribute 'decode'"
     ]
    }
   ],
   "source": [
    "query_embed = embedding_model.encode('Describe the best band in a single sentence.')\n",
    "embedding_model.decode(query_embed)"
   ]
  },
  {
   "cell_type": "code",
   "execution_count": 33,
   "id": "52c70ecc",
   "metadata": {},
   "outputs": [
    {
     "data": {
      "text/plain": [
       "'The Doors - Led by the enigmatic Jim Morrison, The Doors fused rock, blues, and psychedelic elements to create their iconic sound.'"
      ]
     },
     "execution_count": 33,
     "metadata": {},
     "output_type": "execute_result"
    }
   ],
   "source": [
    "i=10\n",
    "data[i][1][retrieve_pos[i]]"
   ]
  }
 ],
 "metadata": {
  "kernelspec": {
   "display_name": "Python 3 (ipykernel)",
   "language": "python",
   "name": "python3"
  },
  "language_info": {
   "codemirror_mode": {
    "name": "ipython",
    "version": 3
   },
   "file_extension": ".py",
   "mimetype": "text/x-python",
   "name": "python",
   "nbconvert_exporter": "python",
   "pygments_lexer": "ipython3",
   "version": "3.11.3"
  }
 },
 "nbformat": 4,
 "nbformat_minor": 5
}
