{
 "cells": [
  {
   "cell_type": "code",
   "execution_count": 1,
   "metadata": {},
   "outputs": [
    {
     "name": "stderr",
     "output_type": "stream",
     "text": [
      "\u001b[32m2024-10-24 09:31:36.950\u001b[0m | \u001b[1mINFO    \u001b[0m | \u001b[36mnomic.dataset\u001b[0m:\u001b[36m__init__\u001b[0m:\u001b[36m768\u001b[0m - \u001b[1mLoading existing dataset `hivemind/tweets-from-members-of-us-congress-from-all-time-updated-2024-10-08`.\u001b[0m\n",
      "\u001b[32m2024-10-24 09:31:37.740\u001b[0m | \u001b[33m\u001b[1mWARNING \u001b[0m | \u001b[36mnomic.data_operations\u001b[0m:\u001b[36mdf\u001b[0m:\u001b[36m923\u001b[0m - \u001b[33m\u001b[1mConverting to pandas dataframe. This may materialize a large amount of data into memory.\u001b[0m\n",
      "\u001b[32m2024-10-24 09:31:37.742\u001b[0m | \u001b[1mINFO    \u001b[0m | \u001b[36mnomic.data_operations\u001b[0m:\u001b[36m_download_data\u001b[0m:\u001b[36m902\u001b[0m - \u001b[1mDownloading data\u001b[0m\n",
      "100%|██████████| 129/129 [00:02<00:00, 47.31it/s]\n",
      "100%|██████████| 129/129 [00:01<00:00, 75.45it/s]\n",
      "100%|██████████| 129/129 [00:01<00:00, 68.54it/s]\n",
      "100%|██████████| 129/129 [00:01<00:00, 86.95it/s] \n",
      "\u001b[32m2024-10-24 09:31:46.181\u001b[0m | \u001b[1mINFO    \u001b[0m | \u001b[36mnomic.data_operations\u001b[0m:\u001b[36m_load_data\u001b[0m:\u001b[36m872\u001b[0m - \u001b[1mLoading data\u001b[0m\n",
      "100%|██████████| 129/129 [00:27<00:00,  4.73it/s]\n"
     ]
    }
   ],
   "source": [
    "import nomic\n",
    "import json\n",
    "nomic.login(\"nk-2LSEn5FB5h04Dn0pFLuZ9jDw7ZaMbPpYPV88wbKKASc\")\n",
    "#- Scientific programming\n",
    "import numpy as np\n",
    "import pandas as pd\n",
    "from tqdm import tqdm\n",
    "import os\n",
    "\n",
    "\n",
    "from nomic import AtlasDataset\n",
    "\n",
    "from unidecode import unidecode\n",
    "import re\n",
    "import datetime\n",
    "\n",
    "dataset = AtlasDataset('hivemind/tweets-from-members-of-us-congress-from-all-time-updated-2024-10-08')\n",
    "\n",
    "df = dataset.maps[0].data.df\n",
    "\n",
    "congress_name_list = list(np.unique(list(df['name'])))\n",
    "congress_handles = [list(df['twitter_lower'][df['name'] == cn])[0] for cn in congress_name_list]\n",
    "\n",
    "\n",
    "df_congress = pd.DataFrame({'twitter_lower': congress_handles, 'congress_name_list': congress_name_list})\n",
    "df_congress = df_congress.merge(df.drop_duplicates(subset='twitter_lower'), on='twitter_lower', how='left') ## ignore the column <115><2017><senate><179> and <118><2024><house><142>"
   ]
  },
  {
   "cell_type": "code",
   "execution_count": 2,
   "metadata": {},
   "outputs": [
    {
     "data": {
      "text/html": [
       "<div>\n",
       "<style scoped>\n",
       "    .dataframe tbody tr th:only-of-type {\n",
       "        vertical-align: middle;\n",
       "    }\n",
       "\n",
       "    .dataframe tbody tr th {\n",
       "        vertical-align: top;\n",
       "    }\n",
       "\n",
       "    .dataframe thead th {\n",
       "        text-align: right;\n",
       "    }\n",
       "</style>\n",
       "<table border=\"1\" class=\"dataframe\">\n",
       "  <thead>\n",
       "    <tr style=\"text-align: right;\">\n",
       "      <th></th>\n",
       "      <th>twitter_lower</th>\n",
       "      <th>congress_name_list</th>\n",
       "      <th>tweetId</th>\n",
       "      <th>postedAt</th>\n",
       "      <th>name</th>\n",
       "      <th>state</th>\n",
       "      <th>party</th>\n",
       "      <th>chamber</th>\n",
       "      <th>years</th>\n",
       "      <th>source</th>\n",
       "      <th>id</th>\n",
       "      <th>text</th>\n",
       "    </tr>\n",
       "  </thead>\n",
       "  <tbody>\n",
       "    <tr>\n",
       "      <th>0</th>\n",
       "      <td>repfinkenauer</td>\n",
       "      <td>Abby Finkenauer D-IA</td>\n",
       "      <td>1266367737145683968</td>\n",
       "      <td>2020-05-29 13:56:11.167</td>\n",
       "      <td>Abby Finkenauer D-IA</td>\n",
       "      <td>IA</td>\n",
       "      <td>D</td>\n",
       "      <td>House</td>\n",
       "      <td>2019_2020</td>\n",
       "      <td>PolitWoops</td>\n",
       "      <td>2010694</td>\n",
       "      <td>Minor league baseball is a vital community ins...</td>\n",
       "    </tr>\n",
       "    <tr>\n",
       "      <th>1</th>\n",
       "      <td>repspanberger</td>\n",
       "      <td>Abigail Spanberger D-VA</td>\n",
       "      <td>1377973148675665920</td>\n",
       "      <td>2021-04-02 13:16:14.804</td>\n",
       "      <td>Abigail Spanberger D-VA</td>\n",
       "      <td>VA</td>\n",
       "      <td>D</td>\n",
       "      <td>House</td>\n",
       "      <td>2021_2022</td>\n",
       "      <td>PolitWoops</td>\n",
       "      <td>2511843</td>\n",
       "      <td>The #AmericanRescuePlan will provide funds to ...</td>\n",
       "    </tr>\n",
       "    <tr>\n",
       "      <th>2</th>\n",
       "      <td>repkinzinger</td>\n",
       "      <td>Adam Kinzinger R-IL</td>\n",
       "      <td>837318315202719744</td>\n",
       "      <td>2017-03-02 15:06:57.623</td>\n",
       "      <td>Adam Kinzinger R-IL</td>\n",
       "      <td>IL</td>\n",
       "      <td>R</td>\n",
       "      <td>House</td>\n",
       "      <td>2017_2018</td>\n",
       "      <td>PolitWoops</td>\n",
       "      <td>1141249</td>\n",
       "      <td>Thanks, @Joepa84 - I currently serve in the 11...</td>\n",
       "    </tr>\n",
       "    <tr>\n",
       "      <th>3</th>\n",
       "      <td>repadamschiff</td>\n",
       "      <td>Adam Schiff D-CA</td>\n",
       "      <td>493881370440392704</td>\n",
       "      <td>2014-07-28 22:11:09.242</td>\n",
       "      <td>Adam Schiff D-CA</td>\n",
       "      <td>CA</td>\n",
       "      <td>D</td>\n",
       "      <td>House</td>\n",
       "      <td>2013_2014</td>\n",
       "      <td>PolitWoops</td>\n",
       "      <td>376089</td>\n",
       "      <td>Concerned about #IdentityTheft? I'm hosting a ...</td>\n",
       "    </tr>\n",
       "    <tr>\n",
       "      <th>4</th>\n",
       "      <td>repadamsmith</td>\n",
       "      <td>Adam Smith D-WA</td>\n",
       "      <td>1511117188941459456</td>\n",
       "      <td>2022-04-04 23:03:07.700</td>\n",
       "      <td>Adam Smith D-WA</td>\n",
       "      <td>WA</td>\n",
       "      <td>D</td>\n",
       "      <td>House</td>\n",
       "      <td>2021_2022</td>\n",
       "      <td>PolitWoops</td>\n",
       "      <td>2753835</td>\n",
       "      <td>Tonight the House is voting on H.R. 1916, the ...</td>\n",
       "    </tr>\n",
       "  </tbody>\n",
       "</table>\n",
       "</div>"
      ],
      "text/plain": [
       "   twitter_lower       congress_name_list              tweetId  \\\n",
       "0  repfinkenauer     Abby Finkenauer D-IA  1266367737145683968   \n",
       "1  repspanberger  Abigail Spanberger D-VA  1377973148675665920   \n",
       "2   repkinzinger      Adam Kinzinger R-IL   837318315202719744   \n",
       "3  repadamschiff         Adam Schiff D-CA   493881370440392704   \n",
       "4   repadamsmith          Adam Smith D-WA  1511117188941459456   \n",
       "\n",
       "                 postedAt                     name state party chamber  \\\n",
       "0 2020-05-29 13:56:11.167     Abby Finkenauer D-IA    IA     D   House   \n",
       "1 2021-04-02 13:16:14.804  Abigail Spanberger D-VA    VA     D   House   \n",
       "2 2017-03-02 15:06:57.623      Adam Kinzinger R-IL    IL     R   House   \n",
       "3 2014-07-28 22:11:09.242         Adam Schiff D-CA    CA     D   House   \n",
       "4 2022-04-04 23:03:07.700          Adam Smith D-WA    WA     D   House   \n",
       "\n",
       "       years      source       id  \\\n",
       "0  2019_2020  PolitWoops  2010694   \n",
       "1  2021_2022  PolitWoops  2511843   \n",
       "2  2017_2018  PolitWoops  1141249   \n",
       "3  2013_2014  PolitWoops   376089   \n",
       "4  2021_2022  PolitWoops  2753835   \n",
       "\n",
       "                                                text  \n",
       "0  Minor league baseball is a vital community ins...  \n",
       "1  The #AmericanRescuePlan will provide funds to ...  \n",
       "2  Thanks, @Joepa84 - I currently serve in the 11...  \n",
       "3  Concerned about #IdentityTheft? I'm hosting a ...  \n",
       "4  Tonight the House is voting on H.R. 1916, the ...  "
      ]
     },
     "execution_count": 2,
     "metadata": {},
     "output_type": "execute_result"
    }
   ],
   "source": [
    "df_congress.head()"
   ]
  },
  {
   "cell_type": "code",
   "execution_count": 3,
   "metadata": {},
   "outputs": [
    {
     "name": "stderr",
     "output_type": "stream",
     "text": [
      "/tmp/ipykernel_1165034/807501312.py:27: UserWarning: This pattern is interpreted as a regular expression, and has match groups. To actually get the groups, use str.extract.\n",
      "  if candidate_names.str.contains(napa).any():\n",
      "/tmp/ipykernel_1165034/807501312.py:28: UserWarning: This pattern is interpreted as a regular expression, and has match groups. To actually get the groups, use str.extract.\n",
      "  index = candidate_names[candidate_names.str.contains(napa)].index[0]\n"
     ]
    },
    {
     "name": "stdout",
     "output_type": "stream",
     "text": [
      "118-2023_h131\n"
     ]
    },
    {
     "name": "stderr",
     "output_type": "stream",
     "text": [
      "/tmp/ipykernel_1165034/807501312.py:27: UserWarning: This pattern is interpreted as a regular expression, and has match groups. To actually get the groups, use str.extract.\n",
      "  if candidate_names.str.contains(napa).any():\n",
      "/tmp/ipykernel_1165034/807501312.py:28: UserWarning: This pattern is interpreted as a regular expression, and has match groups. To actually get the groups, use str.extract.\n",
      "  index = candidate_names[candidate_names.str.contains(napa)].index[0]\n"
     ]
    },
    {
     "name": "stdout",
     "output_type": "stream",
     "text": [
      "118-2023_h243\n"
     ]
    },
    {
     "name": "stderr",
     "output_type": "stream",
     "text": [
      "/tmp/ipykernel_1165034/807501312.py:27: UserWarning: This pattern is interpreted as a regular expression, and has match groups. To actually get the groups, use str.extract.\n",
      "  if candidate_names.str.contains(napa).any():\n",
      "/tmp/ipykernel_1165034/807501312.py:28: UserWarning: This pattern is interpreted as a regular expression, and has match groups. To actually get the groups, use str.extract.\n",
      "  index = candidate_names[candidate_names.str.contains(napa)].index[0]\n"
     ]
    },
    {
     "name": "stdout",
     "output_type": "stream",
     "text": [
      "118-2024_h151\n"
     ]
    },
    {
     "name": "stderr",
     "output_type": "stream",
     "text": [
      "/tmp/ipykernel_1165034/807501312.py:27: UserWarning: This pattern is interpreted as a regular expression, and has match groups. To actually get the groups, use str.extract.\n",
      "  if candidate_names.str.contains(napa).any():\n"
     ]
    },
    {
     "name": "stdout",
     "output_type": "stream",
     "text": [
      "118-2023_s146\n"
     ]
    },
    {
     "name": "stderr",
     "output_type": "stream",
     "text": [
      "/tmp/ipykernel_1165034/807501312.py:27: UserWarning: This pattern is interpreted as a regular expression, and has match groups. To actually get the groups, use str.extract.\n",
      "  if candidate_names.str.contains(napa).any():\n",
      "/tmp/ipykernel_1165034/807501312.py:28: UserWarning: This pattern is interpreted as a regular expression, and has match groups. To actually get the groups, use str.extract.\n",
      "  index = candidate_names[candidate_names.str.contains(napa)].index[0]\n"
     ]
    },
    {
     "name": "stdout",
     "output_type": "stream",
     "text": [
      "118-2024_h172\n"
     ]
    },
    {
     "name": "stderr",
     "output_type": "stream",
     "text": [
      "/tmp/ipykernel_1165034/807501312.py:27: UserWarning: This pattern is interpreted as a regular expression, and has match groups. To actually get the groups, use str.extract.\n",
      "  if candidate_names.str.contains(napa).any():\n",
      "/tmp/ipykernel_1165034/807501312.py:28: UserWarning: This pattern is interpreted as a regular expression, and has match groups. To actually get the groups, use str.extract.\n",
      "  index = candidate_names[candidate_names.str.contains(napa)].index[0]\n"
     ]
    },
    {
     "name": "stdout",
     "output_type": "stream",
     "text": [
      "118-2023_h391\n"
     ]
    },
    {
     "name": "stderr",
     "output_type": "stream",
     "text": [
      "/tmp/ipykernel_1165034/807501312.py:27: UserWarning: This pattern is interpreted as a regular expression, and has match groups. To actually get the groups, use str.extract.\n",
      "  if candidate_names.str.contains(napa).any():\n",
      "/tmp/ipykernel_1165034/807501312.py:28: UserWarning: This pattern is interpreted as a regular expression, and has match groups. To actually get the groups, use str.extract.\n",
      "  index = candidate_names[candidate_names.str.contains(napa)].index[0]\n"
     ]
    },
    {
     "name": "stdout",
     "output_type": "stream",
     "text": [
      "118-2024_h352\n"
     ]
    },
    {
     "name": "stderr",
     "output_type": "stream",
     "text": [
      "/tmp/ipykernel_1165034/807501312.py:27: UserWarning: This pattern is interpreted as a regular expression, and has match groups. To actually get the groups, use str.extract.\n",
      "  if candidate_names.str.contains(napa).any():\n",
      "/tmp/ipykernel_1165034/807501312.py:28: UserWarning: This pattern is interpreted as a regular expression, and has match groups. To actually get the groups, use str.extract.\n",
      "  index = candidate_names[candidate_names.str.contains(napa)].index[0]\n"
     ]
    },
    {
     "name": "stdout",
     "output_type": "stream",
     "text": [
      "118-2024_h136\n"
     ]
    },
    {
     "name": "stderr",
     "output_type": "stream",
     "text": [
      "/tmp/ipykernel_1165034/807501312.py:27: UserWarning: This pattern is interpreted as a regular expression, and has match groups. To actually get the groups, use str.extract.\n",
      "  if candidate_names.str.contains(napa).any():\n",
      "/tmp/ipykernel_1165034/807501312.py:28: UserWarning: This pattern is interpreted as a regular expression, and has match groups. To actually get the groups, use str.extract.\n",
      "  index = candidate_names[candidate_names.str.contains(napa)].index[0]\n"
     ]
    },
    {
     "name": "stdout",
     "output_type": "stream",
     "text": [
      "118-2024_h145\n"
     ]
    },
    {
     "name": "stderr",
     "output_type": "stream",
     "text": [
      "/tmp/ipykernel_1165034/807501312.py:27: UserWarning: This pattern is interpreted as a regular expression, and has match groups. To actually get the groups, use str.extract.\n",
      "  if candidate_names.str.contains(napa).any():\n",
      "/tmp/ipykernel_1165034/807501312.py:28: UserWarning: This pattern is interpreted as a regular expression, and has match groups. To actually get the groups, use str.extract.\n",
      "  index = candidate_names[candidate_names.str.contains(napa)].index[0]\n"
     ]
    },
    {
     "name": "stdout",
     "output_type": "stream",
     "text": [
      "118-2024_h242\n",
      "118-2024_h437\n"
     ]
    },
    {
     "name": "stderr",
     "output_type": "stream",
     "text": [
      "/tmp/ipykernel_1165034/807501312.py:27: UserWarning: This pattern is interpreted as a regular expression, and has match groups. To actually get the groups, use str.extract.\n",
      "  if candidate_names.str.contains(napa).any():\n",
      "/tmp/ipykernel_1165034/807501312.py:28: UserWarning: This pattern is interpreted as a regular expression, and has match groups. To actually get the groups, use str.extract.\n",
      "  index = candidate_names[candidate_names.str.contains(napa)].index[0]\n"
     ]
    }
   ],
   "source": [
    "import os\n",
    "\n",
    "file_list = os.listdir('/cis/home/tchen94/my_documents/congressional-twin/experiments/tianyi/Bill Votes/1024')\n",
    "\n",
    "\n",
    "for k in range(len(file_list)):\n",
    "    file_name = file_list[k]\n",
    "    read_file_path = '/cis/home/tchen94/my_documents/congressional-twin/experiments/tianyi/Bill Votes/1024/' + file_name\n",
    "    bill_name = file_name.split(\"congress_votes_\")[1].split(\".csv\")[0]\n",
    "    \n",
    "    df_vote_result=pd.read_csv(read_file_path, header=1)\n",
    "    rep_or_senate=df_vote_result['name'][0].split(' [')[0].split('. ')[0]\n",
    "    \n",
    "    df_vote_result['matched-name'] = ''\n",
    "    df_vote_result['twitter-handle'] = ''\n",
    "    df_vote_result['matched-state'] = ''\n",
    "\n",
    "\n",
    "    for i, row in df_vote_result.iterrows():\n",
    "        name = unidecode(row['name'].split(' [')[0].split(rep_or_senate+'. ')[1])\n",
    "        party_val = row['party'][0]\n",
    "        state_val = row['state']\n",
    "        candidate_names = df_congress.loc[(df_congress['party'] == party_val) & (df_congress['state'] == state_val), 'congress_name_list'].apply(unidecode)\n",
    "        name_parts = name.split(\" \")\n",
    "\n",
    "        for napa in name_parts:\n",
    "            if candidate_names.str.contains(napa).any():\n",
    "                index = candidate_names[candidate_names.str.contains(napa)].index[0]\n",
    "\n",
    "\n",
    "                df_vote_result.at[i, 'matched-name'] = df_congress.loc[index]['congress_name_list']\n",
    "                df_vote_result.at[i, 'twitter-handle'] = df_congress.loc[index]['twitter_lower']\n",
    "                df_vote_result.at[i, 'matched-party']=df_congress.loc[index]['party']\n",
    "                df_vote_result.at[i, 'matched-state']=df_congress.loc[index]['state']\n",
    "            else:\n",
    "                df_vote_result.at[i, 'matched-name'] = np.nan\n",
    "                df_vote_result.at[i, 'twitter-handle'] = np.nan\n",
    "                df_vote_result.at[i, 'matched-party']=np.nan\n",
    "                df_vote_result.at[i, 'matched-state']=np.nan\n",
    "    \n",
    "    \n",
    "    \n",
    "    save_file_path = '/cis/home/tchen94/my_documents/congressional-twin/experiments/tianyi/Matched Bill Votes/1024'\n",
    "\n",
    "    df_vote_result.to_csv(os.path.join(save_file_path, bill_name + '.csv'), index=False)\n",
    "\n",
    "\n",
    "    print(bill_name)"
   ]
  },
  {
   "cell_type": "code",
   "execution_count": 19,
   "metadata": {},
   "outputs": [
    {
     "data": {
      "text/html": [
       "<div>\n",
       "<style scoped>\n",
       "    .dataframe tbody tr th:only-of-type {\n",
       "        vertical-align: middle;\n",
       "    }\n",
       "\n",
       "    .dataframe tbody tr th {\n",
       "        vertical-align: top;\n",
       "    }\n",
       "\n",
       "    .dataframe thead th {\n",
       "        text-align: right;\n",
       "    }\n",
       "</style>\n",
       "<table border=\"1\" class=\"dataframe\">\n",
       "  <thead>\n",
       "    <tr style=\"text-align: right;\">\n",
       "      <th></th>\n",
       "      <th>person</th>\n",
       "      <th>state</th>\n",
       "      <th>district</th>\n",
       "      <th>vote</th>\n",
       "      <th>name</th>\n",
       "      <th>party</th>\n",
       "    </tr>\n",
       "  </thead>\n",
       "  <tbody>\n",
       "    <tr>\n",
       "      <th>0</th>\n",
       "      <td>400004</td>\n",
       "      <td>AL</td>\n",
       "      <td>4</td>\n",
       "      <td>Nay</td>\n",
       "      <td>Rep. Robert Aderholt [R, 1997-2024]</td>\n",
       "      <td>Republican</td>\n",
       "    </tr>\n",
       "    <tr>\n",
       "      <th>1</th>\n",
       "      <td>400030</td>\n",
       "      <td>GA</td>\n",
       "      <td>2</td>\n",
       "      <td>Yea</td>\n",
       "      <td>Rep. Sanford Bishop [D, 1993-2024]</td>\n",
       "      <td>Democrat</td>\n",
       "    </tr>\n",
       "    <tr>\n",
       "      <th>2</th>\n",
       "      <td>400033</td>\n",
       "      <td>OR</td>\n",
       "      <td>3</td>\n",
       "      <td>Yea</td>\n",
       "      <td>Rep. Earl Blumenauer [D, 1996-2024]</td>\n",
       "      <td>Democrat</td>\n",
       "    </tr>\n",
       "    <tr>\n",
       "      <th>3</th>\n",
       "      <td>400046</td>\n",
       "      <td>TX</td>\n",
       "      <td>8</td>\n",
       "      <td>Nay</td>\n",
       "      <td>Rep. Kevin Brady [R, 1997-2022]</td>\n",
       "      <td>Republican</td>\n",
       "    </tr>\n",
       "    <tr>\n",
       "      <th>4</th>\n",
       "      <td>400052</td>\n",
       "      <td>TX</td>\n",
       "      <td>26</td>\n",
       "      <td>Nay</td>\n",
       "      <td>Rep. Michael Burgess [R, 2003-2024]</td>\n",
       "      <td>Republican</td>\n",
       "    </tr>\n",
       "  </tbody>\n",
       "</table>\n",
       "</div>"
      ],
      "text/plain": [
       "   person state  district vote                                 name  \\\n",
       "0  400004    AL         4  Nay  Rep. Robert Aderholt [R, 1997-2024]   \n",
       "1  400030    GA         2  Yea   Rep. Sanford Bishop [D, 1993-2024]   \n",
       "2  400033    OR         3  Yea  Rep. Earl Blumenauer [D, 1996-2024]   \n",
       "3  400046    TX         8  Nay      Rep. Kevin Brady [R, 1997-2022]   \n",
       "4  400052    TX        26  Nay  Rep. Michael Burgess [R, 2003-2024]   \n",
       "\n",
       "        party  \n",
       "0  Republican  \n",
       "1    Democrat  \n",
       "2    Democrat  \n",
       "3  Republican  \n",
       "4  Republican  "
      ]
     },
     "execution_count": 19,
     "metadata": {},
     "output_type": "execute_result"
    }
   ],
   "source": [
    "df_vote_result=pd.read_csv(read_file_path, header=1)\n",
    "df_vote_result.head()"
   ]
  },
  {
   "cell_type": "code",
   "execution_count": 20,
   "metadata": {},
   "outputs": [
    {
     "name": "stdout",
     "output_type": "stream",
     "text": [
      "Rep\n"
     ]
    }
   ],
   "source": [
    "rep_or_senate=df_vote_result['name'][0].split(' [')[0].split('. ')[0]\n",
    "print(rep_or_senate)"
   ]
  },
  {
   "cell_type": "code",
   "execution_count": 21,
   "metadata": {},
   "outputs": [
    {
     "data": {
      "text/html": [
       "<div>\n",
       "<style scoped>\n",
       "    .dataframe tbody tr th:only-of-type {\n",
       "        vertical-align: middle;\n",
       "    }\n",
       "\n",
       "    .dataframe tbody tr th {\n",
       "        vertical-align: top;\n",
       "    }\n",
       "\n",
       "    .dataframe thead th {\n",
       "        text-align: right;\n",
       "    }\n",
       "</style>\n",
       "<table border=\"1\" class=\"dataframe\">\n",
       "  <thead>\n",
       "    <tr style=\"text-align: right;\">\n",
       "      <th></th>\n",
       "      <th>person</th>\n",
       "      <th>state</th>\n",
       "      <th>district</th>\n",
       "      <th>vote</th>\n",
       "      <th>name</th>\n",
       "      <th>party</th>\n",
       "      <th>matched-name</th>\n",
       "      <th>twitter-handle</th>\n",
       "      <th>matched-state</th>\n",
       "      <th>matched-party</th>\n",
       "    </tr>\n",
       "  </thead>\n",
       "  <tbody>\n",
       "    <tr>\n",
       "      <th>0</th>\n",
       "      <td>400004</td>\n",
       "      <td>AL</td>\n",
       "      <td>4</td>\n",
       "      <td>Nay</td>\n",
       "      <td>Rep. Robert Aderholt [R, 1997-2024]</td>\n",
       "      <td>Republican</td>\n",
       "      <td>Aderholt, Robert</td>\n",
       "      <td>robert_aderholt</td>\n",
       "      <td>AL</td>\n",
       "      <td>R</td>\n",
       "    </tr>\n",
       "    <tr>\n",
       "      <th>1</th>\n",
       "      <td>400030</td>\n",
       "      <td>GA</td>\n",
       "      <td>2</td>\n",
       "      <td>Yea</td>\n",
       "      <td>Rep. Sanford Bishop [D, 1993-2024]</td>\n",
       "      <td>Democrat</td>\n",
       "      <td>Bishop Jr., Sanford</td>\n",
       "      <td>sanfordbishop</td>\n",
       "      <td>GA</td>\n",
       "      <td>D</td>\n",
       "    </tr>\n",
       "    <tr>\n",
       "      <th>2</th>\n",
       "      <td>400033</td>\n",
       "      <td>OR</td>\n",
       "      <td>3</td>\n",
       "      <td>Yea</td>\n",
       "      <td>Rep. Earl Blumenauer [D, 1996-2024]</td>\n",
       "      <td>Democrat</td>\n",
       "      <td>Blumenauer, Earl</td>\n",
       "      <td>repblumenauer</td>\n",
       "      <td>OR</td>\n",
       "      <td>D</td>\n",
       "    </tr>\n",
       "    <tr>\n",
       "      <th>3</th>\n",
       "      <td>400046</td>\n",
       "      <td>TX</td>\n",
       "      <td>8</td>\n",
       "      <td>Nay</td>\n",
       "      <td>Rep. Kevin Brady [R, 1997-2022]</td>\n",
       "      <td>Republican</td>\n",
       "      <td>Kevin Brady R-TX</td>\n",
       "      <td>repkevinbrady</td>\n",
       "      <td>TX</td>\n",
       "      <td>R</td>\n",
       "    </tr>\n",
       "    <tr>\n",
       "      <th>4</th>\n",
       "      <td>400052</td>\n",
       "      <td>TX</td>\n",
       "      <td>26</td>\n",
       "      <td>Nay</td>\n",
       "      <td>Rep. Michael Burgess [R, 2003-2024]</td>\n",
       "      <td>Republican</td>\n",
       "      <td>Burgess, Michael</td>\n",
       "      <td>michaelcburgess</td>\n",
       "      <td>TX</td>\n",
       "      <td>R</td>\n",
       "    </tr>\n",
       "  </tbody>\n",
       "</table>\n",
       "</div>"
      ],
      "text/plain": [
       "   person state  district vote                                 name  \\\n",
       "0  400004    AL         4  Nay  Rep. Robert Aderholt [R, 1997-2024]   \n",
       "1  400030    GA         2  Yea   Rep. Sanford Bishop [D, 1993-2024]   \n",
       "2  400033    OR         3  Yea  Rep. Earl Blumenauer [D, 1996-2024]   \n",
       "3  400046    TX         8  Nay      Rep. Kevin Brady [R, 1997-2022]   \n",
       "4  400052    TX        26  Nay  Rep. Michael Burgess [R, 2003-2024]   \n",
       "\n",
       "        party          matched-name   twitter-handle matched-state  \\\n",
       "0  Republican      Aderholt, Robert  robert_aderholt            AL   \n",
       "1    Democrat  Bishop Jr., Sanford     sanfordbishop            GA   \n",
       "2    Democrat      Blumenauer, Earl    repblumenauer            OR   \n",
       "3  Republican      Kevin Brady R-TX    repkevinbrady            TX   \n",
       "4  Republican      Burgess, Michael  michaelcburgess            TX   \n",
       "\n",
       "  matched-party  \n",
       "0             R  \n",
       "1             D  \n",
       "2             D  \n",
       "3             R  \n",
       "4             R  "
      ]
     },
     "execution_count": 21,
     "metadata": {},
     "output_type": "execute_result"
    }
   ],
   "source": [
    "df_vote_result['matched-name'] = ''\n",
    "df_vote_result['twitter-handle'] = ''\n",
    "df_vote_result['matched-state'] = ''\n",
    "\n",
    "\n",
    "for i, row in df_vote_result.iterrows():\n",
    "    name = unidecode(row['name'].split(' [')[0].split(rep_or_senate+'. ')[1])\n",
    "    party_val = row['party'][0]\n",
    "    state_val = row['state']\n",
    "    candidate_names = df_congress.loc[(df_congress['party'] == party_val) & (df_congress['state'] == state_val), 'congress_name_list'].apply(unidecode)\n",
    "    name_parts = name.split(\" \")\n",
    "\n",
    "    for napa in name_parts:\n",
    "        if candidate_names.str.contains(napa).any():\n",
    "            index = candidate_names[candidate_names.str.contains(napa)].index[0]\n",
    "\n",
    "\n",
    "            df_vote_result.at[i, 'matched-name'] = df_congress.loc[index]['congress_name_list']\n",
    "            df_vote_result.at[i, 'twitter-handle'] = df_congress.loc[index]['twitter_lower']\n",
    "            df_vote_result.at[i, 'matched-party']=df_congress.loc[index]['party']\n",
    "            df_vote_result.at[i, 'matched-state']=df_congress.loc[index]['state']\n",
    "        else:\n",
    "            df_vote_result.at[i, 'matched-name'] = np.nan\n",
    "            df_vote_result.at[i, 'twitter-handle'] = np.nan\n",
    "            df_vote_result.at[i, 'matched-party']=np.nan\n",
    "            df_vote_result.at[i, 'matched-state']=np.nan\n",
    "\n",
    "df_vote_result.head()\n",
    "\n"
   ]
  },
  {
   "cell_type": "markdown",
   "metadata": {},
   "source": [
    "## Warning: there will be unmatched CPs:"
   ]
  },
  {
   "cell_type": "code",
   "execution_count": 22,
   "metadata": {},
   "outputs": [
    {
     "name": "stdout",
     "output_type": "stream",
     "text": [
      "     person state  district vote  \\\n",
      "9    400075    SC         6  Yea   \n",
      "30   400230    RI         2  Yea   \n",
      "73   400616    NC         1  Yea   \n",
      "77   400640    NE         1  Nay   \n",
      "78   400641    NY        26  Yea   \n",
      "105  412239    VT         0  Yea   \n",
      "146  412443    MS         4  Nay   \n",
      "153  412470    RI         1  Yea   \n",
      "158  412486    WA         3  Nay   \n",
      "179  412536    IL        13  Nay   \n",
      "221  412623    GA        10  Nay   \n",
      "396  456820    IL        15  Nay   \n",
      "411  456835    NM         3  Yea   \n",
      "\n",
      "                                              name       party matched-name  \\\n",
      "9          Rep. James “Jim” Clyburn [D, 1993-2024]    Democrat          NaN   \n",
      "30        Rep. James “Jim” Langevin [D, 2001-2022]    Democrat          NaN   \n",
      "73   Rep. George “G.K.” Butterfield [D, 2004-2022]    Democrat          NaN   \n",
      "77            Rep. Jeff Fortenberry [R, 2005-2022]  Republican          NaN   \n",
      "78               Rep. Brian Higgins [D, 2013-2024]    Democrat          NaN   \n",
      "105                Rep. Peter Welch [D, 2007-2022]    Democrat          NaN   \n",
      "146             Rep. Steven Palazzo [R, 2011-2022]  Republican          NaN   \n",
      "153            Rep. David Cicilline [D, 2011-2023]    Democrat          NaN   \n",
      "158      Rep. Jaime Herrera Beutler [R, 2011-2022]  Republican          NaN   \n",
      "179               Rep. Rodney Davis [R, 2013-2022]  Republican          NaN   \n",
      "221                  Rep. Jody Hice [R, 2015-2022]  Republican          NaN   \n",
      "396                Rep. Mary Miller [R, 2021-2024]  Republican          NaN   \n",
      "411     Rep. Teresa Leger Fernandez [D, 2021-2024]    Democrat          NaN   \n",
      "\n",
      "    twitter-handle matched-state matched-party  \n",
      "9              NaN           NaN           NaN  \n",
      "30             NaN           NaN           NaN  \n",
      "73             NaN           NaN           NaN  \n",
      "77             NaN           NaN           NaN  \n",
      "78             NaN           NaN           NaN  \n",
      "105            NaN           NaN           NaN  \n",
      "146            NaN           NaN           NaN  \n",
      "153            NaN           NaN           NaN  \n",
      "158            NaN           NaN           NaN  \n",
      "179            NaN           NaN           NaN  \n",
      "221            NaN           NaN           NaN  \n",
      "396            NaN           NaN           NaN  \n",
      "411            NaN           NaN           NaN  \n"
     ]
    }
   ],
   "source": [
    "na_rows = df_vote_result[df_vote_result['matched-name'].isna()]\n",
    "print(na_rows)\n"
   ]
  },
  {
   "cell_type": "code",
   "execution_count": 23,
   "metadata": {},
   "outputs": [],
   "source": [
    "\n",
    "save_file_path = '/cis/home/tchen94/my_documents/congressional-twin/experiments/tianyi/Matched Bill Votes/Hayden Choice'\n",
    "\n",
    "df_vote_result.to_csv(os.path.join(save_file_path, bill_name + '.csv'), index=False)\n"
   ]
  }
 ],
 "metadata": {
  "kernelspec": {
   "display_name": "base",
   "language": "python",
   "name": "python3"
  },
  "language_info": {
   "codemirror_mode": {
    "name": "ipython",
    "version": 3
   },
   "file_extension": ".py",
   "mimetype": "text/x-python",
   "name": "python",
   "nbconvert_exporter": "python",
   "pygments_lexer": "ipython3",
   "version": "3.11.3"
  }
 },
 "nbformat": 4,
 "nbformat_minor": 2
}
