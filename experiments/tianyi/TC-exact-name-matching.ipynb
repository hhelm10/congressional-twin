{
 "cells": [
  {
   "cell_type": "code",
   "execution_count": 19,
   "metadata": {},
   "outputs": [],
   "source": [
    "import pandas as pd\n",
    "import numpy as np\n",
    "from unidecode import unidecode\n",
    "\n",
    "df_congress = pd.read_csv('df_congress.csv')\n",
    "df_vote = pd.read_csv('congress_votes_118-2024_h142.csv', header=1)\n"
   ]
  },
  {
   "cell_type": "code",
   "execution_count": 6,
   "metadata": {},
   "outputs": [],
   "source": [
    "df_vote['congress_person_name']=''\n",
    "df_vote['average_embd']=''\n",
    "#df_vote['party2']=''\n",
    "#df_vote['state2']=''"
   ]
  },
  {
   "cell_type": "code",
   "execution_count": 64,
   "metadata": {},
   "outputs": [
    {
     "name": "stderr",
     "output_type": "stream",
     "text": [
      "/var/folders/rl/pr6f4j2d1_5913_lglcbwszc0000gn/T/ipykernel_60952/483997291.py:8: UserWarning: This pattern is interpreted as a regular expression, and has match groups. To actually get the groups, use str.extract.\n",
      "  if candidate_names.str.contains(napa).any():\n",
      "/var/folders/rl/pr6f4j2d1_5913_lglcbwszc0000gn/T/ipykernel_60952/483997291.py:9: UserWarning: This pattern is interpreted as a regular expression, and has match groups. To actually get the groups, use str.extract.\n",
      "  index=candidate_names[candidate_names.str.contains(napa)].index[0]\n"
     ]
    }
   ],
   "source": [
    "for i, row in df_vote.iterrows():\n",
    "    name = unidecode(row['name'].split(' [')[0].split('Rep. ')[1])\n",
    "    party = row['party'][0]\n",
    "    state = row['state']\n",
    "    candidate_names = df_congress.loc[(df_congress['party'] == party) & (df_congress['state'] == state), 'congress_person_name'].apply(unidecode)\n",
    "    name_parts = name.split(\" \")\n",
    "    for napa in name_parts:\n",
    "        if candidate_names.str.contains(napa).any():\n",
    "            index=candidate_names[candidate_names.str.contains(napa)].index[0]\n",
    "            df_vote.at[i, 'congress_person_name'] = df_congress.loc[index]['congress_person_name']\n",
    "            df_vote.at[i, 'average_embd'] = df_congress.loc[index]['average_embds']\n",
    "            #df_vote.at[i, 'party2'] = df_congress.loc[index]['party']\n",
    "            #df_vote.at[i, 'state2'] = df_congress.loc[index]['state']\n",
    "        else:\n",
    "            df_vote.at[i, 'congress_person_name'] = np.nan\n",
    "            df_vote.at[i, 'average_embd'] = np.nan\n",
    "            #df_vote.at[i, 'party2'] = np.nan\n",
    "            #df_vote.at[i, 'state2'] = np.nan\n",
    "    \n",
    "    "
   ]
  },
  {
   "cell_type": "code",
   "execution_count": 82,
   "metadata": {},
   "outputs": [
    {
     "data": {
      "text/plain": [
       "'Teresa Leger Fernandez'"
      ]
     },
     "execution_count": 82,
     "metadata": {},
     "output_type": "execute_result"
    }
   ],
   "source": [
    "#name_nan= 'Teresa Leger Fernandez'  #'Wesley Hunt' #'James “Jim” Clyburn' #'Earl Blumenauer' #'Charles (Chuck) Edwards'\n",
    "#name_nan = unidecode(name_nan)\n",
    "#name_nan\n",
    "#from fuzzywuzzy import fuzz\n",
    "#highest_ratio_index = np.argmax([fuzz.token_sort_ratio(name_nan, name) for name in congress_names])\n",
    "#fuzz.token_sort_ratio(name_nan, congress_names[highest_ratio_index]),congress_names[highest_ratio_index]"
   ]
  }
 ],
 "metadata": {
  "kernelspec": {
   "display_name": "base",
   "language": "python",
   "name": "python3"
  },
  "language_info": {
   "codemirror_mode": {
    "name": "ipython",
    "version": 3
   },
   "file_extension": ".py",
   "mimetype": "text/x-python",
   "name": "python",
   "nbconvert_exporter": "python",
   "pygments_lexer": "ipython3",
   "version": "3.9.undefined"
  }
 },
 "nbformat": 4,
 "nbformat_minor": 2
}
