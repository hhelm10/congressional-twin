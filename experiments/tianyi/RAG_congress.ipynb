{
 "cells": [
  {
   "cell_type": "code",
   "execution_count": 61,
   "metadata": {},
   "outputs": [
    {
     "name": "stderr",
     "output_type": "stream",
     "text": [
      "\u001b[32m2024-10-09 13:32:06.000\u001b[0m | \u001b[1mINFO    \u001b[0m | \u001b[36mnomic.dataset\u001b[0m:\u001b[36m__init__\u001b[0m:\u001b[36m768\u001b[0m - \u001b[1mLoading existing dataset `hivemind/tweets-from-members-of-us-congress-from-all-time-updated-2024-10-08`.\u001b[0m\n",
      "\u001b[32m2024-10-09 13:32:06.679\u001b[0m | \u001b[33m\u001b[1mWARNING \u001b[0m | \u001b[36mnomic.data_operations\u001b[0m:\u001b[36mdf\u001b[0m:\u001b[36m923\u001b[0m - \u001b[33m\u001b[1mConverting to pandas dataframe. This may materialize a large amount of data into memory.\u001b[0m\n",
      "\u001b[32m2024-10-09 13:32:06.682\u001b[0m | \u001b[1mINFO    \u001b[0m | \u001b[36mnomic.data_operations\u001b[0m:\u001b[36m_download_data\u001b[0m:\u001b[36m902\u001b[0m - \u001b[1mDownloading data\u001b[0m\n",
      "100%|██████████| 129/129 [00:00<00:00, 2818.93it/s]\n",
      "100%|██████████| 129/129 [00:00<00:00, 6491.09it/s]\n",
      "100%|██████████| 129/129 [00:00<00:00, 8710.56it/s]\n",
      "100%|██████████| 129/129 [00:00<00:00, 9453.73it/s]\n",
      "\u001b[32m2024-10-09 13:32:07.061\u001b[0m | \u001b[1mINFO    \u001b[0m | \u001b[36mnomic.data_operations\u001b[0m:\u001b[36m_load_data\u001b[0m:\u001b[36m872\u001b[0m - \u001b[1mLoading data\u001b[0m\n",
      "100%|██████████| 129/129 [00:02<00:00, 61.93it/s] \n",
      "\u001b[32m2024-10-09 13:32:13.939\u001b[0m | \u001b[1mINFO    \u001b[0m | \u001b[36mnomic.data_operations\u001b[0m:\u001b[36m_download_latent\u001b[0m:\u001b[36m550\u001b[0m - \u001b[1mDownloading latent embeddings\u001b[0m\n",
      "100%|██████████| 129/129 [05:10<00:00,  2.41s/it]\n",
      "\u001b[32m2024-10-09 13:37:25.211\u001b[0m | \u001b[1mINFO    \u001b[0m | \u001b[36mnomic.data_operations\u001b[0m:\u001b[36mlatent\u001b[0m:\u001b[36m527\u001b[0m - \u001b[1mLoading latent embeddings\u001b[0m\n",
      "100%|██████████| 129/129 [00:45<00:00,  2.84it/s]\n"
     ]
    }
   ],
   "source": [
    "import nomic\n",
    "import json\n",
    "nomic.login(\"nk-2LSEn5FB5h04Dn0pFLuZ9jDw7ZaMbPpYPV88wbKKASc\")\n",
    "#- Scientific programming\n",
    "import numpy as np\n",
    "import pandas as pd\n",
    "from tqdm import tqdm\n",
    "\n",
    "#- Plotting\n",
    "import matplotlib.pyplot as plt\n",
    "import seaborn as sns\n",
    "\n",
    "#- Data\n",
    "from nomic import AtlasDataset\n",
    "\n",
    "#- Processing\n",
    "from fuzzywuzzy import fuzz\n",
    "from unidecode import unidecode\n",
    "import re\n",
    "import datetime\n",
    "\n",
    "dataset = AtlasDataset('hivemind/tweets-from-members-of-us-congress-from-all-time-updated-2024-10-08')\n",
    "\n",
    "df = dataset.maps[0].data.df\n",
    "embds = dataset.maps[0].embeddings.latent\n"
   ]
  },
  {
   "cell_type": "code",
   "execution_count": 113,
   "metadata": {},
   "outputs": [],
   "source": [
    "df.head()\n",
    "congress_name_list= list(df['name'].unique())"
   ]
  },
  {
   "cell_type": "code",
   "execution_count": 114,
   "metadata": {},
   "outputs": [
    {
     "name": "stderr",
     "output_type": "stream",
     "text": [
      "100%|██████████| 3214913/3214913 [00:43<00:00, 73167.94it/s]\n"
     ]
    }
   ],
   "source": [
    "n = len(congress_name_list)\n",
    "all_text = [[] for _ in range(n)]\n",
    "all_embds = [[] for _ in range(n)]\n",
    "\n",
    "for i, embd in enumerate(tqdm(embds)):\n",
    "    congress_name_index = congress_name_list.index(df['name'][i])\n",
    "    all_text[congress_name_index].append(df['text'][i])\n",
    "    all_embds[congress_name_index].append(embd)\n"
   ]
  },
  {
   "cell_type": "code",
   "execution_count": 121,
   "metadata": {},
   "outputs": [
    {
     "data": {
      "text/plain": [
       "True"
      ]
     },
     "execution_count": 121,
     "metadata": {},
     "output_type": "execute_result"
    }
   ],
   "source": [
    "#check if the text is the same\n",
    "#df[df['name'] == congress_name_list[0]]['text'].tolist()==all_text[0]"
   ]
  },
  {
   "cell_type": "code",
   "execution_count": 122,
   "metadata": {},
   "outputs": [
    {
     "data": {
      "application/vnd.jupyter.widget-view+json": {
       "model_id": "15dff588609544b1bb6a3ce4ab0ae7f1",
       "version_major": 2,
       "version_minor": 0
      },
      "text/plain": [
       "Loading checkpoint shards:   0%|          | 0/4 [00:00<?, ?it/s]"
      ]
     },
     "metadata": {},
     "output_type": "display_data"
    }
   ],
   "source": [
    "import transformers\n",
    "import torch\n",
    "\n",
    "model_id = \"meta-llama/Meta-Llama-3-8B-Instruct\"\n",
    "\n",
    "pipeline = transformers.pipeline(\n",
    "    \"text-generation\",\n",
    "    model=model_id,\n",
    "    model_kwargs={\"torch_dtype\": torch.bfloat16},\n",
    "    device_map=\"auto\",\n",
    ")\n",
    "\n"
   ]
  },
  {
   "cell_type": "code",
   "execution_count": 123,
   "metadata": {},
   "outputs": [
    {
     "name": "stderr",
     "output_type": "stream",
     "text": [
      "<All keys matched successfully>\n"
     ]
    }
   ],
   "source": [
    "from sentence_transformers import SentenceTransformer\n",
    "embedding_model = SentenceTransformer(\"nomic-ai/nomic-embed-text-v1.5\", trust_remote_code=True)"
   ]
  },
  {
   "cell_type": "code",
   "execution_count": 124,
   "metadata": {},
   "outputs": [],
   "source": [
    "## GPT-4o generation of questions for bill https://www.govtrack.us/congress/votes/115-2017/s179 \n",
    "\n",
    "questions = [\n",
    "    \"What do you believe is the best approach to ensure universal access to affordable health care in the U.S.?\",\n",
    "    \"How would you address the rising costs of prescription medications in a way that benefits both consumers and pharmaceutical companies?\",\n",
    "    \"Do you support expanding Medicare or Medicaid, and why or why not?\",\n",
    "    \"What role should the federal government play in regulating health insurance providers?\",\n",
    "    \"How do you plan to balance the needs of health care providers with the financial constraints faced by patients, especially low-income families?\",\n",
    "    \"What are your views on the role of private versus public health care options in the U.S. system?\",\n",
    "    \"How do you plan to ensure that rural and underserved communities have access to quality health care services?\",\n",
    "    \"What steps would you take to ensure that individuals with pre-existing conditions maintain access to affordable health care?\",\n",
    "    \"Do you believe the U.S. should transition to a single-payer health care system? Why or why not?\",\n",
    "    \"How would you address the ongoing debate about health care reform and its intersection with issues like mental health services, reproductive health, and senior care?\"\n",
    "]"
   ]
  },
  {
   "cell_type": "code",
   "execution_count": 142,
   "metadata": {},
   "outputs": [
    {
     "data": {
      "text/plain": [
       "'Griffith, Morgan'"
      ]
     },
     "execution_count": 142,
     "metadata": {},
     "output_type": "execute_result"
    }
   ],
   "source": [
    "name_nan= 'Morgan Griffith'  #'Wesley Hunt' #'James “Jim” Clyburn' #'Earl Blumenauer' #'Charles (Chuck) Edwards'\n",
    "name_nan = unidecode(name_nan)\n",
    "name_nan\n",
    "from fuzzywuzzy import fuzz\n",
    "highest_ratio_index = np.argmax([fuzz.token_sort_ratio(name_nan, name) for name in congress_name_list])\n",
    "#fuzz.token_sort_ratio(name_nan, congress_names[highest_ratio_index]),congress_names[highest_ratio_index]\n",
    "congress_name_list[highest_ratio_index]"
   ]
  },
  {
   "cell_type": "code",
   "execution_count": 143,
   "metadata": {},
   "outputs": [],
   "source": [
    "i=highest_ratio_index\n",
    "name=congress_name_list[i]\n",
    "q=2\n",
    "question=questions[q]\n",
    "query_embed=embedding_model.encode(questions[q])"
   ]
  },
  {
   "cell_type": "code",
   "execution_count": 144,
   "metadata": {},
   "outputs": [],
   "source": [
    "## retirve the tweet that is most similar to the question\n",
    "retrieve_pos = []\n",
    "dotprod = []\n",
    "for j in range(len(all_text[i])):\n",
    "    dotprod.append(np.sum(all_embds[i][j]*query_embed))\n",
    "retrieve_pos.append(np.argmax(dotprod))  "
   ]
  },
  {
   "cell_type": "code",
   "execution_count": 145,
   "metadata": {},
   "outputs": [
    {
     "data": {
      "text/plain": [
       "'The Senate today voted to overturn President Biden’s vaccine mandate for Medicare and Medicaid providers.\\n\\nI’m a cosponsor in the House on a resolution that would do the same thing. I don’t say this often, but we should follow the Senate’s lead.'"
      ]
     },
     "execution_count": 145,
     "metadata": {},
     "output_type": "execute_result"
    }
   ],
   "source": [
    "rag_retrieved_tweet=all_text[i][retrieve_pos[0]]\n",
    "rag_retrieved_tweet"
   ]
  },
  {
   "cell_type": "code",
   "execution_count": 148,
   "metadata": {},
   "outputs": [
    {
     "name": "stderr",
     "output_type": "stream",
     "text": [
      "Setting `pad_token_id` to `eos_token_id`:None for open-end generation.\n"
     ]
    }
   ],
   "source": [
    "messages = [\n",
    "    {\"role\": \"system\", \"content\": \"You are posting a Tweet as the account manager for U.S. congressperson /name/.\".replace(\"/name/\", name)},\n",
    "    {\"role\": \"user\", \"content\": \"Write a Tweet that addresses /question/. Here is an example Tweet potentially related to the question: /RAG-retireved-Tweet/\".replace(\"/question/\", question).replace(\"/RAG-retireved-Tweet/\", rag_retrieved_tweet)},\n",
    "]\n",
    "\n",
    "terminators = [\n",
    "    pipeline.tokenizer.eos_token_id,\n",
    "    pipeline.tokenizer.convert_tokens_to_ids(\"<|eot_id|>\")\n",
    "]\n",
    "\n",
    "outputs = pipeline(\n",
    "    messages,\n",
    "    max_new_tokens=128,\n",
    "    eos_token_id=terminators,\n",
    "    do_sample=True,\n",
    "    temperature=0.6,\n",
    "    top_p=0.9,\n",
    ")"
   ]
  },
  {
   "cell_type": "code",
   "execution_count": 149,
   "metadata": {},
   "outputs": [
    {
     "name": "stdout",
     "output_type": "stream",
     "text": [
      "Griffith, Morgan Do you support expanding Medicare or Medicaid, and why or why not? \"Important question: Should we expand Medicare or Medicaid? As your representative, I want to hear from you! Do you support expanding these programs to ensure more Americans have access to quality healthcare? Share your thoughts and let's work together to improve healthcare for all! #Healthcare #Medicare #Medicaid\"\n"
     ]
    }
   ],
   "source": [
    "print(name, question, outputs[0][\"generated_text\"][-1]['content'])"
   ]
  },
  {
   "cell_type": "markdown",
   "metadata": {},
   "source": []
  }
 ],
 "metadata": {
  "kernelspec": {
   "display_name": "base",
   "language": "python",
   "name": "python3"
  },
  "language_info": {
   "codemirror_mode": {
    "name": "ipython",
    "version": 3
   },
   "file_extension": ".py",
   "mimetype": "text/x-python",
   "name": "python",
   "nbconvert_exporter": "python",
   "pygments_lexer": "ipython3",
   "version": "3.11.3"
  }
 },
 "nbformat": 4,
 "nbformat_minor": 2
}
