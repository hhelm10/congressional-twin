{
 "cells": [
  {
   "cell_type": "code",
   "execution_count": 1,
   "metadata": {},
   "outputs": [
    {
     "name": "stderr",
     "output_type": "stream",
     "text": [
      "/cis/home/tchen94/anaconda3/lib/python3.11/site-packages/fuzzywuzzy/fuzz.py:11: UserWarning: Using slow pure-python SequenceMatcher. Install python-Levenshtein to remove this warning\n",
      "  warnings.warn('Using slow pure-python SequenceMatcher. Install python-Levenshtein to remove this warning')\n",
      "\u001b[32m2024-11-05 13:35:34.259\u001b[0m | \u001b[1mINFO    \u001b[0m | \u001b[36mnomic.dataset\u001b[0m:\u001b[36m__init__\u001b[0m:\u001b[36m768\u001b[0m - \u001b[1mLoading existing dataset `hivemind/tweets-from-members-of-us-congress-from-all-time-updated-2024-09-17-1`.\u001b[0m\n",
      "\u001b[32m2024-11-05 13:35:35.189\u001b[0m | \u001b[33m\u001b[1mWARNING \u001b[0m | \u001b[36mnomic.data_operations\u001b[0m:\u001b[36mdf\u001b[0m:\u001b[36m923\u001b[0m - \u001b[33m\u001b[1mConverting to pandas dataframe. This may materialize a large amount of data into memory.\u001b[0m\n",
      "\u001b[32m2024-11-05 13:35:35.191\u001b[0m | \u001b[1mINFO    \u001b[0m | \u001b[36mnomic.data_operations\u001b[0m:\u001b[36m_download_data\u001b[0m:\u001b[36m902\u001b[0m - \u001b[1mDownloading data\u001b[0m\n",
      "100%|██████████| 129/129 [00:02<00:00, 59.20it/s]\n",
      "100%|██████████| 129/129 [00:01<00:00, 69.84it/s]\n",
      "100%|██████████| 129/129 [00:01<00:00, 106.19it/s]\n",
      "100%|██████████| 129/129 [00:01<00:00, 85.47it/s]\n",
      "\u001b[32m2024-11-05 13:35:42.741\u001b[0m | \u001b[1mINFO    \u001b[0m | \u001b[36mnomic.data_operations\u001b[0m:\u001b[36m_load_data\u001b[0m:\u001b[36m872\u001b[0m - \u001b[1mLoading data\u001b[0m\n",
      "100%|██████████| 129/129 [00:12<00:00, 10.14it/s]\n"
     ]
    },
    {
     "data": {
      "text/html": [
       "<div>\n",
       "<style scoped>\n",
       "    .dataframe tbody tr th:only-of-type {\n",
       "        vertical-align: middle;\n",
       "    }\n",
       "\n",
       "    .dataframe tbody tr th {\n",
       "        vertical-align: top;\n",
       "    }\n",
       "\n",
       "    .dataframe thead th {\n",
       "        text-align: right;\n",
       "    }\n",
       "</style>\n",
       "<table border=\"1\" class=\"dataframe\">\n",
       "  <thead>\n",
       "    <tr style=\"text-align: right;\">\n",
       "      <th></th>\n",
       "      <th>tweetId</th>\n",
       "      <th>postedAt</th>\n",
       "      <th>name</th>\n",
       "      <th>state</th>\n",
       "      <th>party</th>\n",
       "      <th>twitter_lower</th>\n",
       "      <th>chamber</th>\n",
       "      <th>years</th>\n",
       "      <th>source</th>\n",
       "      <th>id</th>\n",
       "      <th>text</th>\n",
       "    </tr>\n",
       "  </thead>\n",
       "  <tbody>\n",
       "    <tr>\n",
       "      <th>0</th>\n",
       "      <td>1065633444502224896</td>\n",
       "      <td>2018-11-22 15:49:46.338</td>\n",
       "      <td>Ken Buck R-CO</td>\n",
       "      <td>CO</td>\n",
       "      <td>R</td>\n",
       "      <td>repkenbuck</td>\n",
       "      <td>House</td>\n",
       "      <td>2017_2018</td>\n",
       "      <td>PolitWoops</td>\n",
       "      <td>1203633</td>\n",
       "      <td>Happy #Thanksgiving! I hope everyone has a cha...</td>\n",
       "    </tr>\n",
       "    <tr>\n",
       "      <th>1</th>\n",
       "      <td>1479108462504136704</td>\n",
       "      <td>2022-01-06 15:11:52.624</td>\n",
       "      <td>Kat Cammack R-FL</td>\n",
       "      <td>FL</td>\n",
       "      <td>R</td>\n",
       "      <td>repkatcammack</td>\n",
       "      <td>House</td>\n",
       "      <td>2021_2022</td>\n",
       "      <td>PolitWoops</td>\n",
       "      <td>2857207</td>\n",
       "      <td>RT @MorningsMaria: .@RepKatCammack: \"The Democ...</td>\n",
       "    </tr>\n",
       "    <tr>\n",
       "      <th>2</th>\n",
       "      <td>85108215381102592</td>\n",
       "      <td>2011-06-26 22:12:34.438</td>\n",
       "      <td>Dennis Ross R-FL</td>\n",
       "      <td>FL</td>\n",
       "      <td>R</td>\n",
       "      <td>repdennisross</td>\n",
       "      <td>House</td>\n",
       "      <td>2011_2012</td>\n",
       "      <td>PolitWoops</td>\n",
       "      <td>35353</td>\n",
       "      <td>@CEP_Observer will have to check that out.</td>\n",
       "    </tr>\n",
       "    <tr>\n",
       "      <th>3</th>\n",
       "      <td>925691081026621440</td>\n",
       "      <td>2017-11-01 11:48:46.882</td>\n",
       "      <td>Richard Hudson R-NC</td>\n",
       "      <td>NC</td>\n",
       "      <td>R</td>\n",
       "      <td>reprichhudson</td>\n",
       "      <td>House</td>\n",
       "      <td>2017_2018</td>\n",
       "      <td>PolitWoops</td>\n",
       "      <td>954870</td>\n",
       "      <td>RT @BGClubCab: Thanks to @CharlotteWBB for hel...</td>\n",
       "    </tr>\n",
       "    <tr>\n",
       "      <th>4</th>\n",
       "      <td>1435963943533568000</td>\n",
       "      <td>2021-09-09 13:50:57.715</td>\n",
       "      <td>Chip Roy R-TX</td>\n",
       "      <td>TX</td>\n",
       "      <td>R</td>\n",
       "      <td>repchiproy</td>\n",
       "      <td>House</td>\n",
       "      <td>2021_2022</td>\n",
       "      <td>PolitWoops</td>\n",
       "      <td>2324693</td>\n",
       "      <td>RT @chiproytx: No. https://t.co/STZW0DdDz1</td>\n",
       "    </tr>\n",
       "  </tbody>\n",
       "</table>\n",
       "</div>"
      ],
      "text/plain": [
       "               tweetId                postedAt                 name state  \\\n",
       "0  1065633444502224896 2018-11-22 15:49:46.338        Ken Buck R-CO    CO   \n",
       "1  1479108462504136704 2022-01-06 15:11:52.624     Kat Cammack R-FL    FL   \n",
       "2    85108215381102592 2011-06-26 22:12:34.438     Dennis Ross R-FL    FL   \n",
       "3   925691081026621440 2017-11-01 11:48:46.882  Richard Hudson R-NC    NC   \n",
       "4  1435963943533568000 2021-09-09 13:50:57.715        Chip Roy R-TX    TX   \n",
       "\n",
       "  party  twitter_lower chamber      years      source       id  \\\n",
       "0     R     repkenbuck   House  2017_2018  PolitWoops  1203633   \n",
       "1     R  repkatcammack   House  2021_2022  PolitWoops  2857207   \n",
       "2     R  repdennisross   House  2011_2012  PolitWoops    35353   \n",
       "3     R  reprichhudson   House  2017_2018  PolitWoops   954870   \n",
       "4     R     repchiproy   House  2021_2022  PolitWoops  2324693   \n",
       "\n",
       "                                                text  \n",
       "0  Happy #Thanksgiving! I hope everyone has a cha...  \n",
       "1  RT @MorningsMaria: .@RepKatCammack: \"The Democ...  \n",
       "2         @CEP_Observer will have to check that out.  \n",
       "3  RT @BGClubCab: Thanks to @CharlotteWBB for hel...  \n",
       "4         RT @chiproytx: No. https://t.co/STZW0DdDz1  "
      ]
     },
     "execution_count": 1,
     "metadata": {},
     "output_type": "execute_result"
    }
   ],
   "source": [
    "\n",
    "import torch\n",
    "import numpy as np\n",
    "import pandas as pd\n",
    "from tqdm import tqdm\n",
    "\n",
    "import transformers\n",
    "from sentence_transformers import SentenceTransformer\n",
    "\n",
    "#- Plotting\n",
    "import matplotlib.pyplot as plt\n",
    "import seaborn as sns\n",
    "\n",
    "import nomic\n",
    "#- Data\n",
    "from nomic import AtlasDataset\n",
    "\n",
    "#- Processing\n",
    "from fuzzywuzzy import fuzz\n",
    "from unidecode import unidecode\n",
    "import re\n",
    "import datetime\n",
    "import gc\n",
    "\n",
    "nomic.login(\"nk-2LSEn5FB5h04Dn0pFLuZ9jDw7ZaMbPpYPV88wbKKASc\")\n",
    "\n",
    "import json\n",
    "import os\n",
    "import pickle\n",
    "\n",
    "\n",
    "dataset = AtlasDataset('hivemind/tweets-from-members-of-us-congress-from-all-time-updated-2024-09-17-1')\n",
    "bill_meta = pickle.load(open('bill_meta.p', 'rb'))\n",
    "\n",
    "df = dataset.maps[0].data.df\n",
    "df.head()"
   ]
  },
  {
   "cell_type": "code",
   "execution_count": 2,
   "metadata": {},
   "outputs": [],
   "source": [
    "def capitalize_first_letters(name, delimiter=' '):\n",
    "    recon=''\n",
    "    chunks = name.split(delimiter)\n",
    "    \n",
    "    for chunk in chunks:\n",
    "        recon += chunk[0].upper() + chunk[1:] + ' '\n",
    "        \n",
    "    return recon.strip()\n",
    "\n",
    "def get_tweet_start(text, n_characters=30):\n",
    "    chunks = text.split(' ')\n",
    "\n",
    "    text_ = chunks[0]\n",
    "    len_text = len(text_)\n",
    "\n",
    "    c=1\n",
    "    while len_text < n_characters and c < len(chunks)-1:\n",
    "        text_ += ' ' + chunks[c]\n",
    "        len_text = len(text_)\n",
    "        c+=1\n",
    "\n",
    "    return text_, len(chunks) - c\n",
    "\n",
    "def remove_quotes(tweet, quote_list = ['\"', \"'\", b'\\xe2\\x80\\x9c'.decode()]):\n",
    "    removed_first_quote = False\n",
    "    while not removed_first_quote:\n",
    "        if tweet in quote_list:\n",
    "            tweet = tweet[1:]\n",
    "        else:\n",
    "            removed_first_quote=True\n",
    "\n",
    "    removed_last_quote = False\n",
    "    while not removed_first_quote:\n",
    "        if tweet[-1] in quote_list:\n",
    "            tweet = tweet[:-1]\n",
    "        else:\n",
    "            removed_last_quote=True\n",
    "            \n",
    "    if tweet[0] in quote_list:\n",
    "        tweet = tweet[1:]\n",
    "    if tweet[-1] in quote_list:\n",
    "        tweet = tweet[:-1]\n",
    "        \n",
    "    return tweet.strip()"
   ]
  },
  {
   "cell_type": "code",
   "execution_count": 3,
   "metadata": {},
   "outputs": [
    {
     "data": {
      "application/vnd.jupyter.widget-view+json": {
       "model_id": "936159cbeb7b4bf8be02bbea6ce9c67d",
       "version_major": 2,
       "version_minor": 0
      },
      "text/plain": [
       "Loading checkpoint shards:   0%|          | 0/4 [00:00<?, ?it/s]"
      ]
     },
     "metadata": {},
     "output_type": "display_data"
    },
    {
     "name": "stderr",
     "output_type": "stream",
     "text": [
      "<All keys matched successfully>\n"
     ]
    }
   ],
   "source": [
    "model_id = \"meta-llama/Meta-Llama-3-8B-Instruct\"\n",
    "pipeline = transformers.pipeline(\n",
    "    \"text-generation\",\n",
    "    model=model_id,\n",
    "    model_kwargs={\"torch_dtype\": torch.bfloat16},\n",
    "    device_map=\"cuda:1\",\n",
    ")\n",
    "\n",
    "embedding_model = SentenceTransformer(\"nomic-ai/nomic-embed-text-v1.5\", trust_remote_code=True)"
   ]
  },
  {
   "cell_type": "code",
   "execution_count": 176,
   "metadata": {},
   "outputs": [],
   "source": [
    "#- Should be able to re-factor so that we are not keeping n_bills copies of embeddings / text\n",
    "\n",
    "congress_name_list= list(df['name'].unique())   \n",
    "n_congresspersons = len(congress_name_list)\n",
    "\n",
    "name_to_standardized_name = {}\n",
    "\n",
    "for name in congress_name_list:\n",
    "    chunks = name.lower().split(' ')[:2]\n",
    "    if ',' in chunks[0]:\n",
    "        standardized_name = chunks[1] + '_' + chunks[0][:-1]\n",
    "    else:\n",
    "        standardized_name = chunks[0] + '_' + chunks[1]\n",
    "\n",
    "    name_to_standardized_name[name] = unidecode(standardized_name)\n",
    "standardized_name_list = list(name_to_standardized_name.values())\n",
    "    \n",
    "standardize_vote = {\n",
    "    'Yea': 'yea', \n",
    "    'Aye': 'yea', \n",
    "    'Nay': 'nay', \n",
    "    'No': 'nay', \n",
    "    'Not Voting': 'not voting',\n",
    "    'Present': 'not voting'\n",
    "    }\n",
    "    \n",
    "cp_metadata_by_bill = {}\n",
    "for bill in bill_meta:\n",
    "    cp_metadata_by_bill[bill] = {}\n",
    "    \n",
    "    if bill_meta[bill]['house_vote_id'] == '':\n",
    "        HOUSE = False\n",
    "        congress_name_list_house = []\n",
    "    else:\n",
    "        HOUSE = True\n",
    "        \n",
    "    if bill_meta[bill]['senate_vote_id'] == '':\n",
    "        SENATE = False\n",
    "        congress_name_list_senate = []\n",
    "        \n",
    "    else:\n",
    "        SENATE = True\n",
    "    \n",
    "    \n",
    "    if HOUSE:\n",
    "        year, month, day = bill_meta[bill]['house_vote_date'].split('-')\n",
    "        house_t = pd.Timestamp(year=int(year), month=int(month), day=int(day))\n",
    "        \n",
    "        house_vote_id = bill_meta[bill]['house_vote_id']\n",
    "        \n",
    "        df_house = pd.read_csv(f'/cis/home/tchen94/tianyi/congressional-twin/experiments/tianyi/Data/{house_vote_id}.csv', header=0)\n",
    "        congress_name_list_house = df_house['matched-name'].unique()\n",
    "        congress_name_list_house = [name for name in congress_name_list_house if pd.notnull(name)][:-1]\n",
    "        \n",
    "        \n",
    "    if SENATE:\n",
    "        year, month, day = bill_meta[bill]['senate_vote_date'].split('-')\n",
    "        senate_t =  pd.Timestamp(year=int(year), month=int(month), day=int(day))\n",
    "        \n",
    "        senate_vote_id = bill_meta[bill]['senate_vote_id']\n",
    "    \n",
    "        df_senate = pd.read_csv(f'/cis/home/tchen94/tianyi/congressional-twin/experiments/tianyi/Data/{senate_vote_id}.csv', header=0)\n",
    "        congress_name_list_senate = df_senate['matched-name'].unique()\n",
    "        congress_name_list_senate = [name for name in congress_name_list_senate if pd.notnull(name)][:-1]\n",
    "        \n",
    "    t_dict = {'house': house_t, 'senate': senate_t}\n",
    "    \n",
    "    #- Add all congress persons in Atlas dataframe to name_to_standardized_name\n",
    "    for name in congress_name_list:\n",
    "        party=df[df['name'] == name]['party'].values[0].lower()\n",
    "        \n",
    "        if name in congress_name_list_house:\n",
    "            vote = standardize_vote[df_house[df_house['matched-name'] == name]['vote'].values[0]]\n",
    "            chamber='house'\n",
    "        elif name in congress_name_list_senate:\n",
    "            vote = standardize_vote[df_senate[df_senate['matched-name'] == name]['vote'].values[0]]\n",
    "            chamber='senate'\n",
    "        else:\n",
    "            vote='n/a'\n",
    "            chamber=df[df['name'] == name]['chamber'].values[0].lower()\n",
    "        \n",
    "        standardized_name = name_to_standardized_name[name]\n",
    "                    \n",
    "        if standardized_name not in cp_metadata_by_bill[bill]:\n",
    "            cp_metadata_by_bill[bill][standardized_name] = {'party': party, 'vote': vote, 'chamber': chamber}\n",
    "        elif cp_metadata_by_bill[bill][standardized_name]['vote'] == 'n/a':\n",
    "            cp_metadata_by_bill[bill][standardized_name] = {'party': party, 'vote': vote, 'chamber': chamber}\n"
   ]
  },
  {
   "cell_type": "code",
   "execution_count": 168,
   "metadata": {},
   "outputs": [
    {
     "data": {
      "text/plain": [
       "{'Franklin, C. Scott'}"
      ]
     },
     "execution_count": 168,
     "metadata": {},
     "output_type": "execute_result"
    }
   ],
   "source": [
    "house_vote_id = bill_meta[bi_cameral_bills[0]]['house_vote_id']\n",
    "        \n",
    "df_house = pd.read_csv(f'/cis/home/tchen94/tianyi/congressional-twin/experiments/tianyi/Data/{house_vote_id}.csv', header=0)\n",
    "congress_name_list_house = df_house['matched-name'].unique()\n",
    "congress_name_list_house = [name for name in congress_name_list_house if pd.notnull(name)][:-1]\n",
    "\n",
    "\n",
    "senate_vote_id = bill_meta[bi_cameral_bills[0]]['senate_vote_id']\n",
    "    \n",
    "df_senate = pd.read_csv(f'/cis/home/tchen94/tianyi/congressional-twin/experiments/tianyi/Data/{senate_vote_id}.csv', header=0)\n",
    "congress_name_list_senate = df_senate['matched-name'].unique()\n",
    "congress_name_list_senate = [name for name in congress_name_list_senate if pd.notnull(name)][:-1]\n",
    "\n",
    "\n",
    "set(congress_name_list_house) & set(congress_name_list_senate)"
   ]
  },
  {
   "cell_type": "code",
   "execution_count": 167,
   "metadata": {},
   "outputs": [
    {
     "data": {
      "text/plain": [
       "'117-2021_h49'"
      ]
     },
     "execution_count": 167,
     "metadata": {},
     "output_type": "execute_result"
    }
   ],
   "source": [
    "bill_meta[bi_cameral_bills[0]]['house_vote_id']"
   ]
  },
  {
   "cell_type": "code",
   "execution_count": 48,
   "metadata": {},
   "outputs": [
    {
     "name": "stdout",
     "output_type": "stream",
     "text": [
      "Number of names in congress_name_list that are also in congress_name_list_senate: 96\n"
     ]
    }
   ],
   "source": [
    "# Find the intersection of the two lists\n",
    "common_names = set(congress_name_list) & set(congress_name_list_senate)\n",
    "\n",
    "# Get the count of common names\n",
    "common_names_count = len(common_names)\n",
    "\n",
    "print(f\"Number of names in congress_name_list that are also in congress_name_list_senate: {common_names_count}\")"
   ]
  },
  {
   "cell_type": "code",
   "execution_count": 175,
   "metadata": {},
   "outputs": [
    {
     "name": "stdout",
     "output_type": "stream",
     "text": [
      "Franklin, C. Scott r nay house\n"
     ]
    }
   ],
   "source": [
    "#- Add all congress persons in Atlas dataframe to name_to_standardized_name\n",
    "cp_metadata_by_ty = {}\n",
    "\n",
    "for name in congress_name_list:\n",
    "    party=df[df['name'] == name]['party'].values[0].lower()\n",
    "            \n",
    "    if name in congress_name_list_house:\n",
    "        vote = standardize_vote[df_house[df_house['matched-name'] == name]['vote'].values[0]]\n",
    "        chamber='house'\n",
    "    elif name in congress_name_list_senate:\n",
    "        vote = standardize_vote[df_senate[df_senate['matched-name'] == name]['vote'].values[0]]\n",
    "        chamber='senate'        \n",
    "    else:\n",
    "        vote='n/a'\n",
    "        chamber=df[df['name'] == name]['chamber'].values[0].lower()\n",
    "            \n",
    "    standardized_name = name_to_standardized_name[name]\n",
    "    \n",
    "    if standardized_name=='c._franklin':\n",
    "        print(name, party, vote, chamber)\n",
    "    \n",
    "    if standardized_name not in cp_metadata_by_ty:\n",
    "        cp_metadata_by_ty[standardized_name] = {'party': party, 'vote': vote, 'chamber': chamber}\n",
    "    elif cp_metadata_by_ty[standardized_name]['vote'] == 'n/a':\n",
    "        cp_metadata_by_ty[standardized_name] = {'party': party, 'vote': vote, 'chamber': chamber}\n"
   ]
  },
  {
   "cell_type": "code",
   "execution_count": 172,
   "metadata": {},
   "outputs": [
    {
     "data": {
      "text/plain": [
       "{'c._franklin', 'dan_sullivan'}"
      ]
     },
     "execution_count": 172,
     "metadata": {},
     "output_type": "execute_result"
    }
   ],
   "source": [
    "senators_who_voted_inthisbill= [name for name, metadata in cp_metadata_by_ty.items() if metadata['chamber'] == 'senate' and metadata['vote']  in ['yea','nay'] ]\n",
    "stand_congress_name_list_senate= [ name_to_standardized_name[name]  for name in congress_name_list_senate ]\n",
    "set(stand_congress_name_list_senate)-set(senators_who_voted_inthisbill)"
   ]
  },
  {
   "cell_type": "code",
   "execution_count": 137,
   "metadata": {},
   "outputs": [
    {
     "data": {
      "text/plain": [
       "844"
      ]
     },
     "execution_count": 137,
     "metadata": {},
     "output_type": "execute_result"
    }
   ],
   "source": [
    "len(set(name_to_standardized_name.values()))"
   ]
  },
  {
   "cell_type": "code",
   "execution_count": 156,
   "metadata": {},
   "outputs": [
    {
     "data": {
      "text/plain": [
       "False"
      ]
     },
     "execution_count": 156,
     "metadata": {},
     "output_type": "execute_result"
    }
   ],
   "source": [
    "'Luján, Ben Ray' in congress_name_list_house"
   ]
  },
  {
   "cell_type": "code",
   "execution_count": 157,
   "metadata": {},
   "outputs": [
    {
     "name": "stdout",
     "output_type": "stream",
     "text": [
      "{'party': 'd', 'vote': 'yea', 'chamber': 'senate'}\n"
     ]
    }
   ],
   "source": [
    "print(cp_metadata_by_ty[name_to_standardized_name['Ben Lujan D-NM']])"
   ]
  },
  {
   "cell_type": "code",
   "execution_count": 119,
   "metadata": {},
   "outputs": [
    {
     "data": {
      "text/plain": [
       "True"
      ]
     },
     "execution_count": 119,
     "metadata": {},
     "output_type": "execute_result"
    }
   ],
   "source": [
    "'Ben Lujan D-NM' in congress_name_list_senate"
   ]
  },
  {
   "cell_type": "code",
   "execution_count": 158,
   "metadata": {},
   "outputs": [],
   "source": [
    "senators_who_voted_inthisbill= [name for name, metadata in cp_metadata_by_ty.items() if metadata['chamber'] == 'senate' and metadata['vote']  in ['yea','nay'] ]"
   ]
  },
  {
   "cell_type": "code",
   "execution_count": 117,
   "metadata": {},
   "outputs": [
    {
     "data": {
      "text/plain": [
       "'yea'"
      ]
     },
     "execution_count": 117,
     "metadata": {},
     "output_type": "execute_result"
    }
   ],
   "source": [
    "'Ben Lujan D-NM' in congress_name_list_house\n",
    "standardize_vote[df_senate[df_senate['matched-name'] == 'Ben Lujan D-NM' ]['vote'].values[0]]"
   ]
  },
  {
   "cell_type": "code",
   "execution_count": 122,
   "metadata": {},
   "outputs": [
    {
     "data": {
      "text/plain": [
       "{'party': 'd', 'vote': 'n/a', 'chamber': 'senate'}"
      ]
     },
     "execution_count": 122,
     "metadata": {},
     "output_type": "execute_result"
    }
   ],
   "source": [
    "name_to_standardized_name['Ben Lujan D-NM']\n",
    "cp_metadata_by_ty[name_to_standardized_name['Ben Lujan D-NM']]"
   ]
  },
  {
   "cell_type": "code",
   "execution_count": 106,
   "metadata": {},
   "outputs": [
    {
     "data": {
      "text/plain": [
       "{'party': 'd', 'vote': 'n/a', 'chamber': 'senate'}"
      ]
     },
     "execution_count": 106,
     "metadata": {},
     "output_type": "execute_result"
    }
   ],
   "source": [
    "cp_metadata_by_bill[bi_cameral_bills[0]]['ben_lujan']"
   ]
  },
  {
   "cell_type": "code",
   "execution_count": 73,
   "metadata": {},
   "outputs": [
    {
     "data": {
      "text/plain": [
       "{'Alex Padilla D-CA',\n",
       " 'Angus King I-ME',\n",
       " 'Baldwin, Tammy',\n",
       " 'Barrasso, John',\n",
       " 'Ben Cardin D-MD',\n",
       " 'Ben Lujan D-NM',\n",
       " 'Ben Sasse R-NE',\n",
       " 'Bennet, Michael F.',\n",
       " 'Bernard Sanders I-VT',\n",
       " 'Bill Cassidy R-LA',\n",
       " 'Bill Hagerty R-TN',\n",
       " 'Blackburn, Marsha',\n",
       " 'Blumenthal, Richard',\n",
       " 'Booker, Cory ',\n",
       " 'Boozman, John',\n",
       " 'Braun, Mike',\n",
       " 'Brian Schatz D-HI',\n",
       " 'Brown, Sherrod',\n",
       " 'Cantwell, Maria',\n",
       " 'Capito, Shelley Moore',\n",
       " 'Carper, Thomas ',\n",
       " 'Casey, Robert Jr.',\n",
       " 'Catherine Masto D-NV',\n",
       " 'Chris Coons D-DE',\n",
       " 'Chuck Schumer D-NY',\n",
       " 'Cindy Hyde-Smith R-MS',\n",
       " 'Collins, Susan ',\n",
       " 'Cornyn, John',\n",
       " 'Cotton, Tom',\n",
       " 'Cramer, Kevin',\n",
       " 'Crapo, Mike',\n",
       " 'Cruz, Ted',\n",
       " 'Cynthia Lummis R-WY',\n",
       " 'Daines, Steve',\n",
       " 'Dan Sullivan R-AK',\n",
       " 'Deb Fischer R-NE',\n",
       " 'Debbie Stabenow D-MI',\n",
       " 'Dianne Feinstein D-CA',\n",
       " 'Dick Durbin D-IL',\n",
       " 'Duckworth, Tammy',\n",
       " 'Ed Markey D-MA',\n",
       " 'Elizabeth Warren D-MA',\n",
       " 'Ernst, Joni',\n",
       " 'Franklin, C. Scott',\n",
       " 'Gary Peters D-MI',\n",
       " 'Gillibrand, Kirsten ',\n",
       " 'Graham, Lindsey',\n",
       " 'Grassley, Chuck',\n",
       " 'Hassan, Maggie',\n",
       " 'Hawley, Josh',\n",
       " 'Heinrich, Martin',\n",
       " 'Hickenlooper, John ',\n",
       " 'Hirono, Mazie ',\n",
       " 'Hoeven, John',\n",
       " 'Jack Reed D-RI',\n",
       " 'Jacky Rosen D-NV',\n",
       " 'James Lankford R-OK',\n",
       " 'Jeanne Shaheen D-NH',\n",
       " 'Jeff Merkley D-OR',\n",
       " 'Jim Risch R-ID',\n",
       " 'John Kennedy R-LA',\n",
       " 'John Thune R-SD',\n",
       " 'Johnson, Ron',\n",
       " 'Jon Ossoff D-GA',\n",
       " 'Jon Tester D-MT',\n",
       " 'Joseph Manchin D-WV',\n",
       " 'Kaine, Tim',\n",
       " 'Kelly, Mark',\n",
       " 'Klobuchar, Amy',\n",
       " 'Kyrsten Sinema D-AZ',\n",
       " 'Lee, Mike',\n",
       " 'Menendez, Bob',\n",
       " 'Mike Rounds R-SD',\n",
       " 'Mitch McConnell R-KY',\n",
       " 'Mitt Romney R-UT',\n",
       " 'Moran, Jerry',\n",
       " 'Murkowski, Lisa',\n",
       " 'Murphy, Christopher',\n",
       " 'Murray, Patty',\n",
       " 'Pat Toomey R-PA',\n",
       " 'Patrick Leahy D-VT',\n",
       " 'Paul, Rand',\n",
       " 'Richard Burr R-NC',\n",
       " 'Richard Shelby R-AL',\n",
       " 'Rob Portman R-OH',\n",
       " 'Roger Wicker R-MS',\n",
       " 'Rubio, Marco',\n",
       " 'Scott, Tim',\n",
       " 'Sheldon Whitehouse D-RI',\n",
       " 'Smith, Tina',\n",
       " 'Thom Tillis R-NC',\n",
       " 'Todd Young R-IN',\n",
       " 'Tommy Tuberville R-AL',\n",
       " 'Van Hollen, Chris',\n",
       " 'Warner, Mark ',\n",
       " 'Wyden, Ron'}"
      ]
     },
     "execution_count": 73,
     "metadata": {},
     "output_type": "execute_result"
    }
   ],
   "source": [
    "set(congress_name_list_senate)"
   ]
  },
  {
   "cell_type": "code",
   "execution_count": 150,
   "metadata": {},
   "outputs": [],
   "source": [
    "senators_who_voted_inthisbill= [name for name, metadata in cp_metadata_by_ty.items() if metadata['chamber'] == 'senate' and metadata['vote']  in ['yea','nay']    ]"
   ]
  },
  {
   "cell_type": "code",
   "execution_count": 151,
   "metadata": {},
   "outputs": [
    {
     "data": {
      "text/plain": [
       "72"
      ]
     },
     "execution_count": 151,
     "metadata": {},
     "output_type": "execute_result"
    }
   ],
   "source": [
    "len(senators_who_voted_inthisbill)"
   ]
  },
  {
   "cell_type": "code",
   "execution_count": 30,
   "metadata": {},
   "outputs": [
    {
     "name": "stdout",
     "output_type": "stream",
     "text": [
      "117-HR-1319 117-2021_s110\n",
      "117-HR-4346 117-2022_s271\n",
      "118-HR-7888 118-2024_s150\n",
      "118-HR-3746 118-2023_s146\n"
     ]
    }
   ],
   "source": [
    "bi_cameral_bills = []\n",
    "\n",
    "for bill in bill_meta:\n",
    "    if bill_meta[bill]['senate_vote_id'] != '':\n",
    "        bi_cameral_bills.append(bill)\n",
    "        print(bill, bill_meta[bill]['senate_vote_id'])"
   ]
  },
  {
   "cell_type": "code",
   "execution_count": 55,
   "metadata": {},
   "outputs": [
    {
     "name": "stdout",
     "output_type": "stream",
     "text": [
      "84 117-HR-1319\n"
     ]
    }
   ],
   "source": [
    "senate_count = sum(1 for metadata in cp_metadata_by_bill[bi_cameral_bills[0]].values() if metadata['chamber'] == 'senate' and metadata['vote'] in ['n/a'] )\n",
    "print(senate_count,bi_cameral_bills[0])\n",
    "\n",
    "#senators_who_voted = [name for name, metadata in cp_metadata_by_bill[bi_cameral_bills[3]].items() if metadata['chamber'] == 'senate' and metadata['vote'] in ['yea', 'nay']]\n",
    "#print(senators_who_voted)"
   ]
  },
  {
   "cell_type": "code",
   "execution_count": 5,
   "metadata": {},
   "outputs": [],
   "source": [
    "with open('cmds_dict_inference.p', 'rb') as file:\n",
    "    cmds_dict = pickle.load(file)"
   ]
  },
  {
   "cell_type": "code",
   "execution_count": 6,
   "metadata": {},
   "outputs": [
    {
     "data": {
      "text/plain": [
       "True"
      ]
     },
     "execution_count": 6,
     "metadata": {},
     "output_type": "execute_result"
    }
   ],
   "source": [
    "list(cmds_dict[bill]['retrieved'].keys())==list(cmds_dict[bill]['generated'].keys())"
   ]
  },
  {
   "cell_type": "code",
   "execution_count": 24,
   "metadata": {
    "vscode": {
     "languageId": "shellscript"
    }
   },
   "outputs": [
    {
     "name": "stdout",
     "output_type": "stream",
     "text": [
      "55 118-HR-3746\n",
      "['maria_cantwell', 'robert_casey', 'susan_collins', 'michael_bennet', 'tammy_duckworth', 'dick_durbin', 'ben_cardin', 'chuck_schumer', 'thomas_carper', 'catherine_masto', 'dianne_feinstein', 'jeff_merkley', 'shelley_capito', 'john_cornyn', 'richard_blumenthal', 'john_hoeven', 'deb_fischer', 'mike_lee', 'ron_johnson', 'alex_padilla', 'tammy_baldwin', 'martin_heinrich', 'tom_cotton', 'ed_markey', 'jim_risch', 'angus_king', 'mitch_mcconnell', 'joseph_manchin', 'jerry_moran', 'maggie_hassan', 'van_hollen,', 'chris_coons', 'lindsey_graham', 'mazie_hirono', 'kirsten_gillibrand', 'marsha_blackburn', 'steve_daines', 'tommy_tuberville', 'chuck_grassley', 'patty_murray', 'mike_braun', 'ron_wyden', 'christopher_murphy', 'tim_kaine', 'rand_paul', 'katie_britt', 'marco_rubio', 'john_boozman', 'j.d._vance', 'eric_schmitt', 'amy_klobuchar', 'john_fetterman', 'mike_crapo', 'mark_warner', 'lisa_murkowski']\n"
     ]
    }
   ],
   "source": [
    "## in these bills, how many senate actually votes\n",
    "senate_count = sum(1 for metadata in cp_metadata_by_bill[bi_cameral_bills[3]].values() if metadata['chamber'] == 'senate' and metadata['vote'] in ['yea','nay'] )\n",
    "print(senate_count,bi_cameral_bills[3])\n",
    "\n",
    "senators_who_voted = [name for name, metadata in cp_metadata_by_bill[bi_cameral_bills[3]].items() if metadata['chamber'] == 'senate' and metadata['vote'] in ['yea', 'nay']]\n",
    "print(senators_who_voted)"
   ]
  },
  {
   "cell_type": "code",
   "execution_count": 26,
   "metadata": {
    "vscode": {
     "languageId": "shellscript"
    }
   },
   "outputs": [
    {
     "data": {
      "text/plain": [
       "{'abstract': 'To provide for a responsible increase to the debt ceiling.',\n",
       " 'summary': \"This bill would enact a compromise reached by House Republicans and President Biden to avert an impending fiscal crisis related to the statutory debt limit. In exchange for the continued solvency of the federal government, sought by Democrats, Republicans secured in the bill across-the-board cuts to federal spending, ending Biden's suspension of student loan repayments, adding new work requirements for SNAP and TANF, reinstituting the statutory debt limit after the 2024 elections, and more.\",\n",
       " 'house_vote_date': '2023-05-31',\n",
       " 'senate_vote_date': '2023-06-01',\n",
       " 'house_vote_id': '118-2023_h243',\n",
       " 'senate_vote_id': '118-2023_s146',\n",
       " 'questions': ['What is your overall position on the proposed increase to the debt ceiling in this bill?',\n",
       "  'Do you support the across-the-board cuts to federal spending included in the bill? Why or why not?',\n",
       "  'How do you feel about ending the suspension of student loan repayments?',\n",
       "  'What is your opinion on adding new work requirements for SNAP and TANF recipients?',\n",
       "  'Are you concerned about reinstating the statutory debt limit after the 2024 elections?',\n",
       "  'Do you believe this compromise effectively averts the impending fiscal crisis?',\n",
       "  'How do you think the spending cuts will impact federal programs and services?',\n",
       "  'In your view, does the bill strike the right balance between fiscal responsibility and social support?',\n",
       "  'What feedback have you received from your constituents regarding this bill?',\n",
       "  'Are there any provisions in the bill you would like to see modified or removed?']}"
      ]
     },
     "execution_count": 26,
     "metadata": {},
     "output_type": "execute_result"
    }
   ],
   "source": [
    "bill_meta[bi_cameral_bills[3]]"
   ]
  },
  {
   "cell_type": "code",
   "execution_count": 177,
   "metadata": {},
   "outputs": [],
   "source": [
    "np.random.seed(1)\n",
    "from sklearn.neighbors import KNeighborsClassifier\n",
    "from sklearn.metrics import balanced_accuracy_score, accuracy_score\n",
    "\n",
    "score=accuracy_score\n",
    "\n",
    "def get_indices_by_class(y):\n",
    "    unique = np.unique(y)\n",
    "            \n",
    "    indices_by_class ={}\n",
    "    for c in unique:\n",
    "        indices_by_class[c] = np.where(y == c)[0]\n",
    "        \n",
    "    return indices_by_class\n",
    "\n",
    "def get_stratified_folds(y, n_folds):\n",
    "    indices_by_class = get_indices_by_class(y)\n",
    "    folds = {i: {'train': [], 'test': []} for i in range(n_folds)}\n",
    "        \n",
    "    for c, indices in indices_by_class.items():\n",
    "        test_per_fold = int(len(indices) *  (1 / n_folds))\n",
    "        \n",
    "        for i in range(n_folds):\n",
    "            folds[i]['test']+= list(indices[i*test_per_fold: (i+1)*test_per_fold])\n",
    "            \n",
    "        \n",
    "    for i in range(n_folds):\n",
    "        folds[i]['train'] = np.array([j for j in range(len(y)) if j not in folds[i]['test']])\n",
    "        folds[i]['test'] = np.array(folds[i]['test'])\n",
    "        \n",
    "    return folds\n",
    "\n",
    "def get_stratified_sample(y, p):\n",
    "    indices_by_class = get_indices_by_class(y)\n",
    "    \n",
    "    inds = []\n",
    "    for c, indices in indices_by_class.items():\n",
    "        temp = np.random.choice(indices, size=int(p * len(indices)), replace=False)\n",
    "        inds += list(temp)\n",
    "    \n",
    "    return inds\n",
    "\n",
    "\n",
    "def get_party_line(y, party_list): \n",
    "    party_types = np.unique(party_list)\n",
    "    \n",
    "    party_to_vote_dict = {}\n",
    "    for party_type in party_types:\n",
    "        unique, counts = np.unique(y[party_list == party_type], return_counts=True)\n",
    "        party_to_vote_dict[party_type] = unique[np.argmax(counts)]\n",
    "        \n",
    "    return party_to_vote_dict"
   ]
  },
  {
   "cell_type": "code",
   "execution_count": 178,
   "metadata": {},
   "outputs": [],
   "source": [
    "from graspologic.plot import pairplot, heatmap\n",
    "\n",
    "party_color_dict = {'d': 'tab:blue', 'r': 'tab:red', 'i': 'tab:green', 'n/a': 'k'}\n",
    "vote_color_dict = {'nay': 'tab:red', 'yea': 'tab:green', 'not voting': 'tab:olive', 'n/a': 'k'}\n",
    "\n",
    "party_by_bill = {}\n",
    "vote_by_bill = {}\n",
    "chamber_by_bill = {}\n",
    "name_list_2 = {}\n",
    "\n",
    "for bill in cmds_dict:\n",
    "    if bill_meta[bill]['house_vote_id'] == '':\n",
    "        continue\n",
    "    \n",
    "    name_list = list(cmds_dict[bill]['retrieved'].keys())\n",
    "    cmds_retrieved = np.array(list(cmds_dict[bill]['retrieved'].values()))\n",
    "    cmds_generated = np.array(list(cmds_dict[bill]['generated'].values()))\n",
    "\n",
    "    party_by_bill[bill] = np.array([cp_metadata_by_bill[bill][name]['party'] for name in name_list])\n",
    "    vote_by_bill[bill] = np.array([cp_metadata_by_bill[bill][name]['vote'] for name in name_list])\n",
    "    name_list_2[bill] = name_list\n",
    "    chamber_by_bill[bill] = np.array([cp_metadata_by_bill[bill][name]['chamber'] for name in name_list]) \n",
    "    \n",
    "    party_list = party_by_bill[bill]"
   ]
  },
  {
   "cell_type": "code",
   "execution_count": 184,
   "metadata": {
    "vscode": {
     "languageId": "shellscript"
    }
   },
   "outputs": [
    {
     "data": {
      "text/plain": [
       "{'angus_king',\n",
       " 'bernard_sanders',\n",
       " 'chuck_schumer',\n",
       " 'cory_booker',\n",
       " 'elizabeth_warren',\n",
       " 'gary_peters',\n",
       " 'jack_reed',\n",
       " 'john_hoeven',\n",
       " 'jon_ossoff',\n",
       " 'joni_ernst',\n",
       " 'maggie_hassan',\n",
       " 'maria_cantwell',\n",
       " 'mike_braun',\n",
       " 'mike_lee',\n",
       " 'rand_paul',\n",
       " 'richard_blumenthal',\n",
       " 'sheldon_whitehouse',\n",
       " 'tammy_baldwin',\n",
       " 'tammy_duckworth',\n",
       " 'thom_tillis',\n",
       " 'tina_smith',\n",
       " 'tom_cotton'}"
      ]
     },
     "execution_count": 184,
     "metadata": {},
     "output_type": "execute_result"
    }
   ],
   "source": [
    "# Initialize the first list\n",
    "vote_list = vote_by_bill[bi_cameral_bills[0]]\n",
    "voter_inds_senate = np.array([i for i, v in enumerate(vote_list) if v in ['yea', 'nay'] and chamber_by_bill[bi_cameral_bills[0]][i] == 'senate'])\n",
    "senate_name_list = [name_list_2[bi_cameral_bills[0]][i] for i in voter_inds_senate]\n",
    "\n",
    "# Convert the initial list to a set\n",
    "senate_name_set = set(senate_name_list)\n",
    "\n",
    "# Iterate through the remaining bills and update the senate_name_set with the intersection\n",
    "for bi_cameral_bill in bi_cameral_bills[1:]:\n",
    "    vote_list = vote_by_bill[bi_cameral_bill]\n",
    "    voter_inds_senate = np.array([i for i, v in enumerate(vote_list) if v in ['yea', 'nay'] and chamber_by_bill[bi_cameral_bill][i] == 'senate'])\n",
    "    temp_list = [name_list_2[bi_cameral_bill][i] for i in voter_inds_senate]\n",
    "    senate_name_set &= set(temp_list)\n",
    "\n",
    "senate_name_set"
   ]
  },
  {
   "cell_type": "code",
   "execution_count": null,
   "metadata": {
    "vscode": {
     "languageId": "shellscript"
    }
   },
   "outputs": [
    {
     "data": {
      "text/plain": [
       "{'joni_ernst': {'vote result': ['nay', 'nay', 'yea', 'yea'], 'entropy': 1.0},\n",
       " 'elizabeth_warren': {'vote result': ['yea', 'yea', 'nay', 'nay'],\n",
       "  'entropy': 1.0},\n",
       " 'maria_cantwell': {'vote result': ['yea', 'yea', 'nay', 'yea'],\n",
       "  'entropy': 0.8112781244591328},\n",
       " 'bernard_sanders': {'vote result': ['yea', 'nay', 'nay', 'nay'],\n",
       "  'entropy': 0.8112781244591328},\n",
       " 'thom_tillis': {'vote result': ['nay', 'yea', 'yea', 'yea'],\n",
       "  'entropy': 0.8112781244591328},\n",
       " 'tammy_baldwin': {'vote result': ['yea', 'yea', 'nay', 'yea'],\n",
       "  'entropy': 0.8112781244591328},\n",
       " 'tom_cotton': {'vote result': ['nay', 'nay', 'yea', 'nay'],\n",
       "  'entropy': 0.8112781244591328},\n",
       " 'cory_booker': {'vote result': ['yea', 'yea', 'nay', 'yea'],\n",
       "  'entropy': 0.8112781244591328},\n",
       " 'john_hoeven': {'vote result': ['nay', 'nay', 'nay', 'yea'],\n",
       "  'entropy': 0.8112781244591328},\n",
       " 'mike_lee': {'vote result': ['nay', 'nay', 'nay', 'nay'], 'entropy': 0},\n",
       " 'sheldon_whitehouse': {'vote result': ['yea', 'yea', 'yea', 'yea'],\n",
       "  'entropy': 0},\n",
       " 'maggie_hassan': {'vote result': ['yea', 'yea', 'yea', 'yea'], 'entropy': 0},\n",
       " 'mike_braun': {'vote result': ['nay', 'nay', 'nay', 'nay'], 'entropy': 0},\n",
       " 'richard_blumenthal': {'vote result': ['yea', 'yea', 'yea', 'yea'],\n",
       "  'entropy': 0},\n",
       " 'tammy_duckworth': {'vote result': ['yea', 'yea', 'yea', 'yea'],\n",
       "  'entropy': 0},\n",
       " 'jack_reed': {'vote result': ['yea', 'yea', 'yea', 'yea'], 'entropy': 0},\n",
       " 'jon_ossoff': {'vote result': ['yea', 'yea', 'yea', 'yea'], 'entropy': 0},\n",
       " 'rand_paul': {'vote result': ['nay', 'nay', 'nay', 'nay'], 'entropy': 0},\n",
       " 'chuck_schumer': {'vote result': ['yea', 'yea', 'yea', 'yea'], 'entropy': 0},\n",
       " 'tina_smith': {'vote result': ['yea', 'yea', 'yea', 'yea'], 'entropy': 0},\n",
       " 'angus_king': {'vote result': ['yea', 'yea', 'yea', 'yea'], 'entropy': 0},\n",
       " 'gary_peters': {'vote result': ['yea', 'yea', 'yea', 'yea'], 'entropy': 0}}"
      ]
     },
     "execution_count": 199,
     "metadata": {},
     "output_type": "execute_result"
    }
   ],
   "source": [
    "cp_entrp={}\n",
    "\n",
    "for name in senate_name_set:\n",
    "    votes = []\n",
    "    for bi_cameral_bill in bi_cameral_bills:\n",
    "        votes.append(cp_metadata_by_bill[bi_cameral_bill][name]['vote'])\n",
    "    \n",
    "    yea_count = votes.count('yea')\n",
    "    p=yea_count/len(votes)\n",
    "\n",
    "    if p==0 or p==1:\n",
    "        entrop=0\n",
    "    else:\n",
    "        entrop=-p*np.log2(p)-(1-p)*np.log2(1-p)\n",
    "    cp_entrp[name] = {'vote result': votes, 'entropy': entrop}\n",
    "\n",
    "sorted_cp_entrp = dict(sorted(cp_entrp.items(), key=lambda item: item[1]['entropy'], reverse=True))\n",
    "sorted_cp_entrp\n",
    "\n",
    "# Print out the keys of the first 10 elements in cp_entrp\n",
    "first_10_keys = list(sorted_cp_entrp.keys())[:10]\n",
    "print(first_10_keys)"
   ]
  },
  {
   "cell_type": "code",
   "execution_count": null,
   "metadata": {},
   "outputs": [
    {
     "name": "stdout",
     "output_type": "stream",
     "text": [
      "['joni_ernst', 'elizabeth_warren', 'maria_cantwell', 'bernard_sanders', 'thom_tillis', 'tammy_baldwin', 'tom_cotton', 'cory_booker', 'john_hoeven', 'mike_lee']\n"
     ]
    }
   ],
   "source": []
  },
  {
   "cell_type": "code",
   "execution_count": 117,
   "metadata": {},
   "outputs": [
    {
     "name": "stdout",
     "output_type": "stream",
     "text": [
      "[1, 2, 3, 4, 5]\n"
     ]
    }
   ],
   "source": [
    "my_set = {1, 2, 3, 4, 5}\n",
    "my_list = [item for item in my_set]\n",
    "print(my_list)"
   ]
  },
  {
   "cell_type": "code",
   "execution_count": 118,
   "metadata": {},
   "outputs": [
    {
     "ename": "TypeError",
     "evalue": "'list' object is not callable",
     "output_type": "error",
     "traceback": [
      "\u001b[0;31m---------------------------------------------------------------------------\u001b[0m",
      "\u001b[0;31mTypeError\u001b[0m                                 Traceback (most recent call last)",
      "Cell \u001b[0;32mIn[118], line 1\u001b[0m\n\u001b[0;32m----> 1\u001b[0m \u001b[38;5;28mlist\u001b[39m(my_set)\n",
      "\u001b[0;31mTypeError\u001b[0m: 'list' object is not callable"
     ]
    }
   ],
   "source": [
    "list(my_set)"
   ]
  },
  {
   "cell_type": "code",
   "execution_count": 127,
   "metadata": {},
   "outputs": [
    {
     "name": "stdout",
     "output_type": "stream",
     "text": [
      "True\n",
      "True\n",
      "True\n",
      "True\n",
      "True\n",
      "True\n",
      "True\n",
      "True\n",
      "True\n",
      "True\n",
      "True\n",
      "True\n"
     ]
    }
   ],
   "source": [
    "for a in senate_name_set: print(a in name_list_2[bi_cameral_bills[3]])"
   ]
  },
  {
   "cell_type": "code",
   "execution_count": null,
   "metadata": {},
   "outputs": [
    {
     "data": {
      "text/plain": [
       "32"
      ]
     },
     "execution_count": 47,
     "metadata": {},
     "output_type": "execute_result"
    }
   ],
   "source": [
    "vote_list = vote_by_bill[bi_cameral_bills[0]]\n",
    "voter_inds_senate_1 = np.array([i for i, v in enumerate(vote_list) if v in ['yea', 'nay'] and chamber_by_bill[bill][i] == 'senate'])\n",
    "\n",
    "list1 = [name_list_2[bi_cameral_bills[0]][i] for i in voter_inds_senate_1]\n",
    "list2 = [name_list_2[bi_cameral_bills[1]][i] for i in voter_inds_senate]\n",
    "list3 = [name_list_2[bi_cameral_bills[2]][i] for i in voter_inds_senate]\n",
    "list4 = [name_list_2[bi_cameral_bills[3]][i] for i in voter_inds_senate]\n",
    "\n",
    "# Find the intersection of the lists\n",
    "intersection = set(list1) & set(list2) & set(list3) & set(list4)\n",
    "\n",
    "# Convert the set back to a list if needed\n",
    "intersection_list = list(intersection)\n",
    "\n",
    "print(intersection_list)"
   ]
  },
  {
   "cell_type": "code",
   "execution_count": 26,
   "metadata": {},
   "outputs": [
    {
     "name": "stdout",
     "output_type": "stream",
     "text": [
      "{'retrieved': 0.53, 'generated': 0.84, 'majority': 0.5, 'party-line': 0.99}\n",
      "\n",
      "{'retrieved': 0.61, 'generated': 0.84, 'majority': 0.5, 'party-line': 0.99}\n",
      "\n",
      "{'retrieved': 0.6666666666666665, 'generated': 0.7266666666666666, 'majority': 0.6666666666666665, 'party-line': 0.6133333333333334}\n",
      "\n",
      "{'retrieved': 0.7066666666666666, 'generated': 0.6866666666666665, 'majority': 0.6666666666666665, 'party-line': 0.6666666666666665}\n",
      "\n"
     ]
    }
   ],
   "source": [
    "## tuning the knn k parameter:\n",
    "n_folds=50\n",
    "n_neighbors_list = [1,3,5,9,15,21,31,51,101]\n",
    "\n",
    "best_score_generated = {}\n",
    "argbest_score_generated = {}\n",
    "std_best_generated = {}\n",
    "\n",
    "best_score_retrieved = {}\n",
    "argbest_score_retrieved = {}\n",
    "std_best_retrieved = {}\n",
    "\n",
    "std_results_dict = {}\n",
    "average_results_dict = {}\n",
    "\n",
    "for bill in cp_metadata_by_bill:\n",
    "    if bill_meta[bill]['house_vote_id'] == '' or bill_meta[bill]['senate_vote_id'] =='':\n",
    "        continue\n",
    "\n",
    "    average_results_dict[bill] = {}\n",
    "    std_results_dict[bill] = {}\n",
    "    \n",
    "    best_score_generated[bill] = -1\n",
    "    argbest_score_generated[bill] = -1\n",
    "    std_best_generated[bill] = -1\n",
    "    \n",
    "    \n",
    "    best_score_retrieved[bill] = -1\n",
    "    argbest_score_retrieved[bill] = -1\n",
    "    std_best_retrieved[bill] = -1\n",
    "    \n",
    "    vote_list = vote_by_bill[bill]\n",
    "    party_list = party_by_bill[bill]\n",
    "    \n",
    "    voter_inds_house = np.array([i for i, v in enumerate(vote_list) if v in ['yea', 'nay'] and chamber_by_bill[bill][i] == 'house'])\n",
    "    #voter_inds_senate = np.array([i for i, v in enumerate(vote_list) if v in ['yea', 'nay'] and chamber_by_bill[bill][i] == 'senate'])\n",
    "\n",
    "    n_voters_house = len(voter_inds_house)\n",
    "    #n_voters_senate = len(voter_inds_senate)\n",
    "        \n",
    "    folds = get_stratified_folds(vote_list[voter_inds_house], n_folds)\n",
    "    \n",
    "    results_dict = {k: {'retrieved': [], 'generated': [], 'majority': [], 'party-line': []} for k in n_neighbors_list}\n",
    "    for k in n_neighbors_list:\n",
    "        for mc in range(n_folds):\n",
    "            train_inds = folds[mc]['train']\n",
    "            test_inds = folds[mc]['test']\n",
    "            \n",
    "            for type_, cmds in cmds_dict[bill].items():\n",
    "                model = KNeighborsClassifier(n_neighbors=k)\n",
    "                \n",
    "                cmds = np.array(list(cmds_dict[bill][type_].values()))\n",
    "                model.fit(cmds[voter_inds_house][train_inds], vote_list[voter_inds_house][train_inds])\n",
    "\n",
    "                y_pred = model.predict(cmds[voter_inds_house][test_inds])\n",
    "                results_dict[k][type_].append(score(vote_list[voter_inds_house][test_inds], y_pred))\n",
    "\n",
    "\n",
    "            if k != n_neighbors_list[-1]:\n",
    "                continue\n",
    "                \n",
    "            #- majority\n",
    "            unique, return_counts = np.unique(vote_list[voter_inds_house][train_inds], return_counts=True)\n",
    "            y_pred = len(test_inds) * [unique[np.argmax(return_counts)]]\n",
    "            results_dict[k]['majority'].append(score(vote_list[voter_inds_house][test_inds], y_pred))\n",
    "\n",
    "\n",
    "            #- party line vote\n",
    "            y_pred = [get_party_line(vote_list[voter_inds_house], party_list[voter_inds_house])[p] for p in party_list[voter_inds_house][test_inds]]\n",
    "            results_dict[k]['party-line'].append(score(vote_list[voter_inds_house][test_inds], y_pred))\n",
    "\n",
    "        if np.mean(results_dict[k]['generated']) > best_score_generated[bill]:\n",
    "            best_score_generated[bill] = np.mean(results_dict[k]['generated'])\n",
    "            argbest_score_generated[bill] = k\n",
    "            std_best_generated[bill] = np.std(results_dict[k]['generated'])\n",
    "            \n",
    "        if np.mean(results_dict[k]['retrieved']) > best_score_retrieved[bill]:\n",
    "            best_score_retrieved[bill] = np.mean(results_dict[k]['retrieved'])\n",
    "            argbest_score_retrieved[bill] = k\n",
    "            std_best_retrieved[bill] = np.std(results_dict[k]['retrieved'])\n",
    "            \n",
    "    for type_, results in results_dict[k].items():\n",
    "        average_results_dict[bill][type_] = np.mean(results)\n",
    "        std_results_dict[bill][type_] = np.std(results)\n",
    "        \n",
    "    average_results_dict[bill]['retrieved'] = best_score_retrieved[bill]\n",
    "    average_results_dict[bill]['generated'] = best_score_generated[bill]\n",
    "    \n",
    "    std_results_dict[bill]['retrieved'] = std_best_retrieved[bill]\n",
    "    std_results_dict[bill]['generated'] = std_best_generated[bill]\n",
    "    \n",
    "    print(average_results_dict[bill])\n",
    "    print()"
   ]
  },
  {
   "cell_type": "code",
   "execution_count": 27,
   "metadata": {},
   "outputs": [
    {
     "name": "stdout",
     "output_type": "stream",
     "text": [
      "117-HR-1319 0.84\n",
      "117-HR-4346 0.84\n",
      "118-HR-7888 0.7266666666666666\n",
      "118-HR-3746 0.6866666666666665\n"
     ]
    },
    {
     "data": {
      "text/plain": [
       "<matplotlib.legend.Legend at 0x7f5a267fdb10>"
      ]
     },
     "execution_count": 27,
     "metadata": {},
     "output_type": "execute_result"
    },
    {
     "data": {
      "image/png": "[encoded data removed]",
      "text/plain": [
       "<Figure size 1000x500 with 1 Axes>"
      ]
     },
     "metadata": {},
     "output_type": "display_data"
    }
   ],
   "source": [
    "fig, ax = plt.subplots(1,1, figsize=(10,5))\n",
    "bill_list = list(average_results_dict.keys())\n",
    "# bill_list.remove('118-HR 1435')\n",
    "\n",
    "method_list = list(average_results_dict[bill_list[0]].keys())\n",
    "\n",
    "bill_labels= []\n",
    "for bill in bill_list:\n",
    "    if bill == '118-HR 1435':\n",
    "        bill_labels.append(r'118$^{th}$'+'\\n1435')\n",
    "        continue\n",
    "    split = bill.split('-')\n",
    "    bill_labels.append(f'{split[0]}' + r'$^{th}$' + '\\n' + split[2])\n",
    "\n",
    "# markers=['*', '^', 'v']\n",
    "# bill_to_marker = {bill: markers[i] for i, bill in enumerate(bill_list)}\n",
    "\n",
    "colors = ['tab:blue', 'tab:red', 'tab:green', 'tab:olive']\n",
    "method_to_color = {method: colors[i] for i, method in enumerate(method_list)}\n",
    "\n",
    "legend_dict = {\n",
    "    'retrieved': 'Retrieved', \n",
    "    'generated': 'Generated (DKPS)',\n",
    "    'majority': 'Majority', \n",
    "    'party-line': 'Party line'\n",
    "}\n",
    "\n",
    "result_by_method = {method: [] for method in method_list}\n",
    "std_by_method = {method: [] for method in method_list}\n",
    "for i, bill in enumerate(bill_list):\n",
    "    for j, (method, avg) in enumerate(average_results_dict[bill].items()):\n",
    "        if method == 'generated':\n",
    "            print(bill, avg)\n",
    "        ax.scatter(i, avg, color=method_to_color[method])\n",
    "        result_by_method[method].append(avg)\n",
    "        std_by_method[method].append(std_results_dict[bill][method])\n",
    "    \n",
    "for method in result_by_method:\n",
    "    median = np.median(result_by_method[method])\n",
    "    ax.errorbar(range(len(bill_list)), result_by_method[method], yerr=std_by_method[method] / np.sqrt(10), color=method_to_color[method], alpha=0.5, lw=3, \n",
    "                label=legend_dict[method]+f'\\n(med.={median:1.2f})')\n",
    "    \n",
    "ax.set_xticks(range(len(bill_list)), labels=bill_labels)\n",
    "ax.set_xlabel('Congress and House resolution numbers\\n(ordered by time of vote)', fontsize=16)\n",
    "ax.tick_params(labelsize=13)\n",
    "ax.set_ylabel('Average accuracy', fontsize=16)\n",
    "ax.set_title( f'\\n({n_folds:1.2f}) folds CV on the votes for CP in House to tune k', fontsize=18)\n",
    "# ax.set_xlim(-.05, 2.05)\n",
    "ax.set_ylim(0.45, 1.13)\n",
    "ax.set_yticks([0.5, 0.6, 0.7, 0.8, 0.9, 1])\n",
    "ax.legend(fontsize=13, loc='upper center', ncols=4)\n"
   ]
  },
  {
   "cell_type": "code",
   "execution_count": 29,
   "metadata": {},
   "outputs": [
    {
     "data": {
      "text/plain": [
       "{'117-HR-1319': 51, '117-HR-4346': 21, '118-HR-7888': 101, '118-HR-3746': 15}"
      ]
     },
     "execution_count": 29,
     "metadata": {},
     "output_type": "execute_result"
    }
   ],
   "source": [
    "argbest_score_retrieved"
   ]
  },
  {
   "cell_type": "code",
   "execution_count": 30,
   "metadata": {},
   "outputs": [
    {
     "name": "stdout",
     "output_type": "stream",
     "text": [
      "{'retrieved': 0.53, 'generated': 0.84, 'majority': 0.5, 'party-line': 0.99}\n",
      "{'retrieved': 0.61, 'generated': 0.84, 'majority': 0.5, 'party-line': 0.99}\n",
      "{'retrieved': 0.6666666666666665, 'generated': 0.7266666666666666, 'majority': 0.6666666666666665, 'party-line': 0.6133333333333334}\n",
      "{'retrieved': 0.7066666666666666, 'generated': 0.6866666666666665, 'majority': 0.6666666666666665, 'party-line': 0.6666666666666665}\n"
     ]
    }
   ],
   "source": [
    "## predict on the senate vote\n",
    "\n",
    "results_dict_senate = {'retrieved': [], 'generated': [], 'majority': [], 'party-line': []}\n",
    "\n",
    "for bill in argbest_score_generated.keys():\n",
    "    \n",
    "    ## train on all house votes\n",
    "    \n",
    "    vote_list = vote_by_bill[bill]\n",
    "    party_list = party_by_bill[bill]\n",
    "    \n",
    "    voter_inds_house = np.array([i for i, v in enumerate(vote_list) if v in ['yea', 'nay'] and chamber_by_bill[bill][i] == 'house'])\n",
    "    voter_inds_senate = np.array([i for i, v in enumerate(vote_list) if v in ['yea', 'nay'] and chamber_by_bill[bill][i] == 'senate'])\n",
    "    \n",
    "    #- majority\n",
    "    unique, return_counts = np.unique(vote_list[voter_inds_house], return_counts=True)\n",
    "    y_pred = len(voter_inds_senate) * [unique[np.argmax(return_counts)]]\n",
    "    results_dict_senate['majority'].append(score(vote_list[voter_inds_senate], y_pred))\n",
    "\n",
    "\n",
    "    #- party line vote\n",
    "    y_pred = [get_party_line(vote_list[voter_inds_house], party_list[voter_inds_house])[p if p != 'i' else 'd'] for p in party_list[voter_inds_senate]]\n",
    "    results_dict_senate['party-line'].append(score(vote_list[voter_inds_senate], y_pred))\n",
    "\n",
    "    n_voters_house = len(voter_inds_house)\n",
    "    \n",
    "    #- generated \n",
    "    k = argbest_score_generated[bill]\n",
    "    model = KNeighborsClassifier(n_neighbors=k)\n",
    "                \n",
    "    cmds = np.array(list(cmds_dict[bill]['generated'].values()))\n",
    "    model.fit(cmds[voter_inds_house], vote_list[voter_inds_house])\n",
    "\n",
    "    y_pred = model.predict(cmds[voter_inds_senate])\n",
    "    results_dict_senate['generated'].append(score(vote_list[voter_inds_senate], y_pred))\n",
    "    \n",
    "    #-retrieved\n",
    "    k = argbest_score_retrieved[bill]\n",
    "    model = KNeighborsClassifier(n_neighbors=k)\n",
    "    \n",
    "    cmds = np.array(list(cmds_dict[bill]['retrieved'].values()))\n",
    "    model.fit(cmds[voter_inds_house], vote_list[voter_inds_house])\n",
    "    \n",
    "    y_pred = model.predict(cmds[voter_inds_senate])\n",
    "    results_dict_senate['retrieved'].append(score(vote_list[voter_inds_senate], y_pred))\n",
    "    \n",
    "        \n",
    "    print(average_results_dict[bill])    "
   ]
  }
 ],
 "metadata": {
  "kernelspec": {
   "display_name": "base",
   "language": "python",
   "name": "python3"
  },
  "language_info": {
   "codemirror_mode": {
    "name": "ipython",
    "version": 3
   },
   "file_extension": ".py",
   "mimetype": "text/x-python",
   "name": "python",
   "nbconvert_exporter": "python",
   "pygments_lexer": "ipython3",
   "version": "3.11.3"
  }
 },
 "nbformat": 4,
 "nbformat_minor": 4
}
