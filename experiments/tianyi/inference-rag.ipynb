{
 "cells": [
  {
   "cell_type": "code",
   "execution_count": 1,
   "metadata": {},
   "outputs": [
    {
     "name": "stderr",
     "output_type": "stream",
     "text": [
      "/home/paperspace/venvs/pnma/lib/python3.10/site-packages/fuzzywuzzy/fuzz.py:11: UserWarning: Using slow pure-python SequenceMatcher. Install python-Levenshtein to remove this warning\n",
      "  warnings.warn('Using slow pure-python SequenceMatcher. Install python-Levenshtein to remove this warning')\n",
      "\u001b[32m2024-10-17 15:56:37.401\u001b[0m | \u001b[1mINFO    \u001b[0m | \u001b[36mnomic.dataset\u001b[0m:\u001b[36m__init__\u001b[0m:\u001b[36m761\u001b[0m - \u001b[1mLoading existing dataset `hivemind/tweets-from-members-of-us-congress-from-all-time-updated-2024-10-08`.\u001b[0m\n",
      "\u001b[32m2024-10-17 15:56:38.283\u001b[0m | \u001b[33m\u001b[1mWARNING \u001b[0m | \u001b[36mnomic.data_operations\u001b[0m:\u001b[36mdf\u001b[0m:\u001b[36m923\u001b[0m - \u001b[33m\u001b[1mConverting to pandas dataframe. This may materialize a large amount of data into memory.\u001b[0m\n",
      "\u001b[32m2024-10-17 15:56:38.284\u001b[0m | \u001b[1mINFO    \u001b[0m | \u001b[36mnomic.data_operations\u001b[0m:\u001b[36m_download_data\u001b[0m:\u001b[36m902\u001b[0m - \u001b[1mDownloading data\u001b[0m\n",
      "100%|███████████████████████████████████████████████████████████████████████████████| 129/129 [00:00<00:00, 1593.68it/s]\n",
      "100%|███████████████████████████████████████████████████████████████████████████████| 129/129 [00:00<00:00, 2004.10it/s]\n",
      "100%|███████████████████████████████████████████████████████████████████████████████| 129/129 [00:00<00:00, 2087.49it/s]\n",
      "100%|███████████████████████████████████████████████████████████████████████████████| 129/129 [00:00<00:00, 2058.96it/s]\n",
      "\u001b[32m2024-10-17 15:56:38.841\u001b[0m | \u001b[1mINFO    \u001b[0m | \u001b[36mnomic.data_operations\u001b[0m:\u001b[36m_load_data\u001b[0m:\u001b[36m872\u001b[0m - \u001b[1mLoading data\u001b[0m\n",
      "100%|█████████████████████████████████████████████████████████████████████████████████| 129/129 [00:02<00:00, 55.57it/s]\n",
      "\u001b[32m2024-10-17 15:56:44.819\u001b[0m | \u001b[1mINFO    \u001b[0m | \u001b[36mnomic.data_operations\u001b[0m:\u001b[36m_download_latent\u001b[0m:\u001b[36m550\u001b[0m - \u001b[1mDownloading latent embeddings\u001b[0m\n",
      "100%|███████████████████████████████████████████████████████████████████████████████| 129/129 [00:00<00:00, 2103.57it/s]\n",
      "\u001b[32m2024-10-17 15:56:45.154\u001b[0m | \u001b[1mINFO    \u001b[0m | \u001b[36mnomic.data_operations\u001b[0m:\u001b[36mlatent\u001b[0m:\u001b[36m527\u001b[0m - \u001b[1mLoading latent embeddings\u001b[0m\n",
      "100%|█████████████████████████████████████████████████████████████████████████████████| 129/129 [00:06<00:00, 20.48it/s]\n"
     ]
    },
    {
     "data": {
      "text/html": [
       "<div>\n",
       "<style scoped>\n",
       "    .dataframe tbody tr th:only-of-type {\n",
       "        vertical-align: middle;\n",
       "    }\n",
       "\n",
       "    .dataframe tbody tr th {\n",
       "        vertical-align: top;\n",
       "    }\n",
       "\n",
       "    .dataframe thead th {\n",
       "        text-align: right;\n",
       "    }\n",
       "</style>\n",
       "<table border=\"1\" class=\"dataframe\">\n",
       "  <thead>\n",
       "    <tr style=\"text-align: right;\">\n",
       "      <th></th>\n",
       "      <th>tweetId</th>\n",
       "      <th>postedAt</th>\n",
       "      <th>name</th>\n",
       "      <th>state</th>\n",
       "      <th>party</th>\n",
       "      <th>twitter_lower</th>\n",
       "      <th>chamber</th>\n",
       "      <th>years</th>\n",
       "      <th>source</th>\n",
       "      <th>text</th>\n",
       "      <th>id</th>\n",
       "    </tr>\n",
       "  </thead>\n",
       "  <tbody>\n",
       "    <tr>\n",
       "      <th>0</th>\n",
       "      <td>1065633444502224896</td>\n",
       "      <td>2018-11-22 15:49:46.338</td>\n",
       "      <td>Ken Buck R-CO</td>\n",
       "      <td>CO</td>\n",
       "      <td>R</td>\n",
       "      <td>repkenbuck</td>\n",
       "      <td>House</td>\n",
       "      <td>2017_2018</td>\n",
       "      <td>PolitWoops</td>\n",
       "      <td>Happy #Thanksgiving! I hope everyone has a cha...</td>\n",
       "      <td>1203633</td>\n",
       "    </tr>\n",
       "    <tr>\n",
       "      <th>1</th>\n",
       "      <td>1479108462504136704</td>\n",
       "      <td>2022-01-06 15:11:52.624</td>\n",
       "      <td>Kat Cammack R-FL</td>\n",
       "      <td>FL</td>\n",
       "      <td>R</td>\n",
       "      <td>repkatcammack</td>\n",
       "      <td>House</td>\n",
       "      <td>2021_2022</td>\n",
       "      <td>PolitWoops</td>\n",
       "      <td>RT @MorningsMaria: .@RepKatCammack: \"The Democ...</td>\n",
       "      <td>2857207</td>\n",
       "    </tr>\n",
       "    <tr>\n",
       "      <th>2</th>\n",
       "      <td>85108215381102592</td>\n",
       "      <td>2011-06-26 22:12:34.438</td>\n",
       "      <td>Dennis Ross R-FL</td>\n",
       "      <td>FL</td>\n",
       "      <td>R</td>\n",
       "      <td>repdennisross</td>\n",
       "      <td>House</td>\n",
       "      <td>2011_2012</td>\n",
       "      <td>PolitWoops</td>\n",
       "      <td>@CEP_Observer will have to check that out.</td>\n",
       "      <td>35353</td>\n",
       "    </tr>\n",
       "    <tr>\n",
       "      <th>3</th>\n",
       "      <td>925691081026621440</td>\n",
       "      <td>2017-11-01 11:48:46.882</td>\n",
       "      <td>Richard Hudson R-NC</td>\n",
       "      <td>NC</td>\n",
       "      <td>R</td>\n",
       "      <td>reprichhudson</td>\n",
       "      <td>House</td>\n",
       "      <td>2017_2018</td>\n",
       "      <td>PolitWoops</td>\n",
       "      <td>RT @BGClubCab: Thanks to @CharlotteWBB for hel...</td>\n",
       "      <td>954870</td>\n",
       "    </tr>\n",
       "    <tr>\n",
       "      <th>4</th>\n",
       "      <td>1435963943533568000</td>\n",
       "      <td>2021-09-09 13:50:57.715</td>\n",
       "      <td>Chip Roy R-TX</td>\n",
       "      <td>TX</td>\n",
       "      <td>R</td>\n",
       "      <td>repchiproy</td>\n",
       "      <td>House</td>\n",
       "      <td>2021_2022</td>\n",
       "      <td>PolitWoops</td>\n",
       "      <td>RT @chiproytx: No. https://t.co/STZW0DdDz1</td>\n",
       "      <td>2324693</td>\n",
       "    </tr>\n",
       "  </tbody>\n",
       "</table>\n",
       "</div>"
      ],
      "text/plain": [
       "               tweetId                postedAt                 name state  \\\n",
       "0  1065633444502224896 2018-11-22 15:49:46.338        Ken Buck R-CO    CO   \n",
       "1  1479108462504136704 2022-01-06 15:11:52.624     Kat Cammack R-FL    FL   \n",
       "2    85108215381102592 2011-06-26 22:12:34.438     Dennis Ross R-FL    FL   \n",
       "3   925691081026621440 2017-11-01 11:48:46.882  Richard Hudson R-NC    NC   \n",
       "4  1435963943533568000 2021-09-09 13:50:57.715        Chip Roy R-TX    TX   \n",
       "\n",
       "  party  twitter_lower chamber      years      source  \\\n",
       "0     R     repkenbuck   House  2017_2018  PolitWoops   \n",
       "1     R  repkatcammack   House  2021_2022  PolitWoops   \n",
       "2     R  repdennisross   House  2011_2012  PolitWoops   \n",
       "3     R  reprichhudson   House  2017_2018  PolitWoops   \n",
       "4     R     repchiproy   House  2021_2022  PolitWoops   \n",
       "\n",
       "                                                text       id  \n",
       "0  Happy #Thanksgiving! I hope everyone has a cha...  1203633  \n",
       "1  RT @MorningsMaria: .@RepKatCammack: \"The Democ...  2857207  \n",
       "2         @CEP_Observer will have to check that out.    35353  \n",
       "3  RT @BGClubCab: Thanks to @CharlotteWBB for hel...   954870  \n",
       "4         RT @chiproytx: No. https://t.co/STZW0DdDz1  2324693  "
      ]
     },
     "execution_count": 1,
     "metadata": {},
     "output_type": "execute_result"
    }
   ],
   "source": [
    "import nomic\n",
    "import json\n",
    "\n",
    "api_key_path = \"/home/paperspace/api_keys.json\"\n",
    "\n",
    "with open(api_key_path, 'r') as j:\n",
    "    key = json.loads(j.read())['nomic']\n",
    "\n",
    "nomic.login(key)\n",
    "import numpy as np\n",
    "import pandas as pd\n",
    "from tqdm import tqdm\n",
    "\n",
    "import transformers\n",
    "from sentence_transformers import SentenceTransformer\n",
    "import torch\n",
    "\n",
    "#- Plotting\n",
    "import matplotlib.pyplot as plt\n",
    "import seaborn as sns\n",
    "\n",
    "#- Data\n",
    "from nomic import AtlasDataset\n",
    "\n",
    "#- Processing\n",
    "from fuzzywuzzy import fuzz\n",
    "from unidecode import unidecode\n",
    "import re\n",
    "import datetime\n",
    "import gc\n",
    "\n",
    "dataset = AtlasDataset('hivemind/tweets-from-members-of-us-congress-from-all-time-updated-2024-10-08')\n",
    "\n",
    "df = dataset.maps[0].data.df\n",
    "embds = dataset.maps[0].embeddings.latent\n",
    "\n",
    "df.head()"
   ]
  },
  {
   "cell_type": "code",
   "execution_count": 2,
   "metadata": {},
   "outputs": [],
   "source": [
    "def capitalize_first_letters(name, delimiter=' '):\n",
    "    recon=''\n",
    "    chunks = name.split(delimiter)\n",
    "    \n",
    "    for chunk in chunks:\n",
    "        recon += chunk[0].upper() + chunk[1:] + ' '\n",
    "        \n",
    "    return recon.strip()\n",
    "\n",
    "def get_tweet_start(text, n_characters=30):\n",
    "    chunks = text.split(' ')\n",
    "\n",
    "    text_ = chunks[0]\n",
    "    len_text = len(text_)\n",
    "\n",
    "    c=1\n",
    "    while len_text < n_characters and c < len(chunks)-1:\n",
    "        text_ += ' ' + chunks[c]\n",
    "        len_text = len(text_)\n",
    "        c+=1\n",
    "\n",
    "    return text_, len(chunks) - c\n",
    "\n",
    "def remove_quotes(tweet, quote_list = ['\"', \"'\", b'\\xe2\\x80\\x9c'.decode()]):\n",
    "    removed_first_quote = False\n",
    "    while not removed_first_quote:\n",
    "        if tweet in quote_list:\n",
    "            tweet = tweet[1:]\n",
    "        else:\n",
    "            removed_first_quote=True\n",
    "\n",
    "    removed_last_quote = False\n",
    "    while not removed_first_quote:\n",
    "        if tweet[-1] in quote_list:\n",
    "            tweet = tweet[:-1]\n",
    "        else:\n",
    "            removed_last_quote=True\n",
    "            \n",
    "    if tweet[0] in quote_list:\n",
    "        tweet = tweet[1:]\n",
    "    if tweet[-1] in quote_list:\n",
    "        tweet = tweet[:-1]\n",
    "        \n",
    "    return tweet.strip()"
   ]
  },
  {
   "cell_type": "code",
   "execution_count": 57,
   "metadata": {},
   "outputs": [
    {
     "data": {
      "application/vnd.jupyter.widget-view+json": {
       "model_id": "cb3d7b47853d484e93ba13547b8ec455",
       "version_major": 2,
       "version_minor": 0
      },
      "text/plain": [
       "Loading checkpoint shards:   0%|          | 0/4 [00:00<?, ?it/s]"
      ]
     },
     "metadata": {},
     "output_type": "display_data"
    },
    {
     "name": "stderr",
     "output_type": "stream",
     "text": [
      "Special tokens have been added in the vocabulary, make sure the associated word embeddings are fine-tuned or trained.\n",
      "<All keys matched successfully>\n"
     ]
    }
   ],
   "source": [
    "model_id = \"meta-llama/Meta-Llama-3-8B-Instruct\"\n",
    "pipeline = transformers.pipeline(\n",
    "    \"text-generation\",\n",
    "    model=model_id,\n",
    "    model_kwargs={\"torch_dtype\": torch.bfloat16},\n",
    "    device_map=\"cuda:0\",\n",
    ")\n",
    "\n",
    "embedding_model = SentenceTransformer(\"nomic-ai/nomic-embed-text-v1.5\", trust_remote_code=True)"
   ]
  },
  {
   "cell_type": "code",
   "execution_count": 4,
   "metadata": {},
   "outputs": [
    {
     "name": "stderr",
     "output_type": "stream",
     "text": [
      "100%|██████████████████████████████████████████████████████████████████████| 3214913/3214913 [00:57<00:00, 56127.48it/s]\n"
     ]
    }
   ],
   "source": [
    "congress_name_list= list(df['name'].unique())    \n",
    "name_to_standardized_name = {}\n",
    "\n",
    "t = pd.Timestamp(year=2023, month=1, day=1)\n",
    "\n",
    "for name in congress_name_list:\n",
    "    key = name\n",
    "    name = name.lower()\n",
    "    chunks = name.split(' ')[:2]\n",
    "    if ',' in chunks[0]:\n",
    "        name = chunks[1] + '_' + chunks[0][:-1]\n",
    "    else:\n",
    "        name = chunks[0] + '_' + chunks[1]\n",
    "        \n",
    "    name_to_standardized_name[key] = unidecode(name)\n",
    "        \n",
    "standardized_name_list = list(name_to_standardized_name.values())\n",
    "\n",
    "n_congresspersons = len(congress_name_list)\n",
    "all_text = {name: {'pre-t': [], 'post-t': []} for name in standardized_name_list}\n",
    "all_embds = {name: {'pre-t': [], 'post-t': []} for name in standardized_name_list}\n",
    "\n",
    "for i, embd in enumerate(tqdm(embds)):\n",
    "    congress_name = name_to_standardized_name[df['name'][i]]\n",
    "    posted_at = df['postedAt'][i]\n",
    "    \n",
    "    if posted_at > t:\n",
    "        key='post-t'\n",
    "    else:\n",
    "        key='pre-t'\n",
    "        \n",
    "    all_text[congress_name][key].append(df['text'][i])\n",
    "    all_embds[congress_name][key].append(embd)\n",
    "    \n",
    "for name in standardized_name_list:\n",
    "    all_embds[name]['post-t'] = np.array(all_embds[name]['post-t'])\n",
    "    all_embds[name]['pre-t'] = np.array(all_embds[name]['pre-t'])"
   ]
  },
  {
   "cell_type": "code",
   "execution_count": 13,
   "metadata": {},
   "outputs": [],
   "source": [
    "## GPT-4o generation of questions for bill https://www.govtrack.us/congress/votes/115-2017/s179 \n",
    "\n",
    "questions = [\n",
    "    \"What do you believe is the best approach to ensure universal access to affordable health care in the U.S.?\",\n",
    "    \"How would you address the rising costs of prescription medications in a way that benefits both consumers and pharmaceutical companies?\",\n",
    "    \"Do you support expanding Medicare or Medicaid, and why or why not?\",\n",
    "    \"What role should the federal government play in regulating health insurance providers?\",\n",
    "    \"How do you plan to balance the needs of health care providers with the financial constraints faced by patients, especially low-income families?\",\n",
    "    \"What are your views on the role of private versus public health care options in the U.S. system?\",\n",
    "    \"How do you plan to ensure that rural and underserved communities have access to quality health care services?\",\n",
    "    \"What steps would you take to ensure that individuals with pre-existing conditions maintain access to affordable health care?\",\n",
    "    \"Do you believe the U.S. should transition to a single-payer health care system? Why or why not?\",\n",
    "    \"How would you address the ongoing debate about health care reform and its intersection with issues like mental health services, reproductive health, and senior care?\"\n",
    "]\n",
    "\n",
    "embedded_questions = embedding_model.encode(questions)"
   ]
  },
  {
   "cell_type": "code",
   "execution_count": 46,
   "metadata": {},
   "outputs": [
    {
     "data": {
      "text/plain": [
       "dict_keys(['morgan_griffith', 'henry_cuellar', 'veronica_escobar', 'ed_royce', 'jared_huffman', 'brian_mast', 'byron_donalds', 'maria_salazar', 'michael_cloud', 'jay_obernolte', 'jan_schakowsky', 'billy_long', 'marco_rubio', 'james_comer', 'gus_bilirakis', 'a._ferguson', 'pat_fallon', 'julia_brownley', 'jeff_duncan', 'tracey_mann', 'kevin_mccarthy', 'barry_loudermilk', 'jennifer_wexton', 'john_thune', 'kirsten_gillibrand', 'lance_gooden', 'pete_king', 'harry_reid', 'jack_reed', 'gary_ackerman', 'joe_neguse', 'paul_mitchell', 'jake_laturner', 'bill_hagerty', 'dina_titus', 'chrissy_houlahan', 'michael_waltz', 'mike_crapo', 'david_joyce', 'mary_scanlon', 'josh_hawley', 'ron_estes', 'dan_kildee', 'maggie_hassan', 'jay_rockefeller', 'connie_mack', 'dave_trott', 'abigail_spanberger', 'mo_cowan', 'frederica_wilson', 'frank_guinta', 'donald_mceachin', 'dick_durbin', 'gerald_connolly', 'joaquin_castro', 'david_rouzer', 'tammy_baldwin', 'ted_lieu', 'charles_schumer', 'mark_desaulnier', 'jon_ossoff', 'frank_mrvan', 'tim_kaine', 'clay_higgins', 'tim_burchett', 'marcy_kaptur', 'diana_degette', 'hal_rogers', 'andy_barr', 'louie_gohmert', 'ami_bera', 'kevin_hern', 'kay_granger', 'dan_lungren', 'raul_grijalva', 'william_keating', 'james_lankford', 'steve_pearce', 'erik_paulsen', 'lisa_mcclain', 'steve_stivers', 'ed_whitfield', 'ted_budd', 'young_kim', 'jim_jordan', 'conor_lamb', 'charlie_dent', 'fred_keller', 'vicente_gonzalez', 'albio_sires', 'bonnie_coleman', 'gregory_meeks', 'kyrsten_sinema', \"tom_o'halleran\", 'mark_kirk', 'darin_lahood', 'ben_cline', 'dan_newhouse', 'jamaal_bowman', 'rick_larsen'])"
      ]
     },
     "execution_count": 46,
     "metadata": {},
     "output_type": "execute_result"
    }
   ],
   "source": [
    "np.random.seed(1)\n",
    "shuffled_cps = np.random.choice(standardized_name_list, len(standardized_name_list), replace=False)\n",
    "\n",
    "timeframes = ['pre-t', 'post-t']\n",
    "sampled_tweet_dict = {}\n",
    "\n",
    "name = 'morgan_griffith'\n",
    "tweets = all_text[name]['post-t']\n",
    "shuffled_tweets = np.random.choice(tweets, len(tweets), replace=False)\n",
    "sampled_tweet_dict[name] = {'retrieved': {q: [] for q in questions}, \n",
    "                            'generated': {q: [] for q in questions},\n",
    "}\n",
    "\n",
    "n_cps = 100\n",
    "for name in shuffled_cps:\n",
    "    #- only consider n_cps congresspersons\n",
    "    if len(sampled_tweet_dict) >= n_cps:\n",
    "        break\n",
    "        \n",
    "    tweets = all_text[name]['post-t']\n",
    "    #- only consider congresspersons with enough tweets after t\n",
    "    if len(all_text[name]['pre-t']) == 0:\n",
    "        continue\n",
    "        \n",
    "    shuffled_tweets = np.random.choice(tweets, len(tweets), replace=False)\n",
    "    sampled_tweet_dict[name] = {'retrieved': {q: [] for q in questions}, \n",
    "                                'generated': {q: [] for q in questions},\n",
    "    }\n",
    "    \n",
    "sampled_tweet_dict.keys()"
   ]
  },
  {
   "cell_type": "code",
   "execution_count": 47,
   "metadata": {},
   "outputs": [
    {
     "name": "stderr",
     "output_type": "stream",
     "text": [
      "  0%|                                                                                           | 0/100 [00:00<?, ?it/s]Setting `pad_token_id` to `eos_token_id`:128009 for open-end generation.\n",
      "  1%|▊                                                                                  | 1/100 [00:09<15:39,  9.49s/it]Setting `pad_token_id` to `eos_token_id`:128009 for open-end generation.\n",
      "  2%|█▋                                                                                 | 2/100 [00:19<15:41,  9.60s/it]Setting `pad_token_id` to `eos_token_id`:128009 for open-end generation.\n",
      "  3%|██▍                                                                                | 3/100 [00:28<15:38,  9.67s/it]Setting `pad_token_id` to `eos_token_id`:128009 for open-end generation.\n",
      "  4%|███▎                                                                               | 4/100 [00:38<15:37,  9.77s/it]Setting `pad_token_id` to `eos_token_id`:128009 for open-end generation.\n",
      "  5%|████▏                                                                              | 5/100 [00:48<15:29,  9.78s/it]Setting `pad_token_id` to `eos_token_id`:128009 for open-end generation.\n",
      "  6%|████▉                                                                              | 6/100 [00:58<15:16,  9.75s/it]Setting `pad_token_id` to `eos_token_id`:128009 for open-end generation.\n",
      "  7%|█████▊                                                                             | 7/100 [01:08<15:05,  9.74s/it]Setting `pad_token_id` to `eos_token_id`:128009 for open-end generation.\n",
      "  8%|██████▋                                                                            | 8/100 [01:17<14:56,  9.75s/it]Setting `pad_token_id` to `eos_token_id`:128009 for open-end generation.\n",
      "  9%|███████▍                                                                           | 9/100 [01:27<14:44,  9.72s/it]Setting `pad_token_id` to `eos_token_id`:128009 for open-end generation.\n",
      " 10%|████████▏                                                                         | 10/100 [01:37<14:34,  9.71s/it]Setting `pad_token_id` to `eos_token_id`:128009 for open-end generation.\n",
      " 11%|█████████                                                                         | 11/100 [01:47<14:29,  9.77s/it]Setting `pad_token_id` to `eos_token_id`:128009 for open-end generation.\n",
      " 12%|█████████▊                                                                        | 12/100 [01:56<14:20,  9.78s/it]Setting `pad_token_id` to `eos_token_id`:128009 for open-end generation.\n",
      " 13%|██████████▋                                                                       | 13/100 [02:06<14:06,  9.73s/it]Setting `pad_token_id` to `eos_token_id`:128009 for open-end generation.\n",
      " 14%|███████████▍                                                                      | 14/100 [02:16<13:57,  9.74s/it]Setting `pad_token_id` to `eos_token_id`:128009 for open-end generation.\n",
      " 15%|████████████▎                                                                     | 15/100 [02:25<13:46,  9.72s/it]Setting `pad_token_id` to `eos_token_id`:128009 for open-end generation.\n",
      " 16%|█████████████                                                                     | 16/100 [02:35<13:40,  9.77s/it]Setting `pad_token_id` to `eos_token_id`:128009 for open-end generation.\n",
      " 17%|█████████████▉                                                                    | 17/100 [02:45<13:30,  9.77s/it]Setting `pad_token_id` to `eos_token_id`:128009 for open-end generation.\n",
      " 18%|██████████████▊                                                                   | 18/100 [02:55<13:20,  9.76s/it]Setting `pad_token_id` to `eos_token_id`:128009 for open-end generation.\n",
      " 19%|███████████████▌                                                                  | 19/100 [03:05<13:10,  9.76s/it]Setting `pad_token_id` to `eos_token_id`:128009 for open-end generation.\n",
      " 20%|████████████████▍                                                                 | 20/100 [03:14<12:59,  9.74s/it]Setting `pad_token_id` to `eos_token_id`:128009 for open-end generation.\n",
      " 21%|█████████████████▏                                                                | 21/100 [03:24<12:53,  9.79s/it]Setting `pad_token_id` to `eos_token_id`:128009 for open-end generation.\n",
      " 22%|██████████████████                                                                | 22/100 [03:34<12:40,  9.75s/it]Setting `pad_token_id` to `eos_token_id`:128009 for open-end generation.\n",
      " 23%|██████████████████▊                                                               | 23/100 [03:44<12:32,  9.78s/it]Setting `pad_token_id` to `eos_token_id`:128009 for open-end generation.\n",
      " 24%|███████████████████▋                                                              | 24/100 [03:53<12:20,  9.75s/it]Setting `pad_token_id` to `eos_token_id`:128009 for open-end generation.\n",
      " 25%|████████████████████▌                                                             | 25/100 [04:03<12:11,  9.75s/it]Setting `pad_token_id` to `eos_token_id`:128009 for open-end generation.\n",
      " 26%|█████████████████████▎                                                            | 26/100 [04:13<11:57,  9.70s/it]Setting `pad_token_id` to `eos_token_id`:128009 for open-end generation.\n",
      " 27%|██████████████████████▏                                                           | 27/100 [04:22<11:47,  9.70s/it]Setting `pad_token_id` to `eos_token_id`:128009 for open-end generation.\n",
      " 28%|██████████████████████▉                                                           | 28/100 [04:32<11:28,  9.57s/it]Setting `pad_token_id` to `eos_token_id`:128009 for open-end generation.\n",
      " 29%|███████████████████████▊                                                          | 29/100 [04:41<11:22,  9.62s/it]Setting `pad_token_id` to `eos_token_id`:128009 for open-end generation.\n",
      " 30%|████████████████████████▌                                                         | 30/100 [04:52<11:30,  9.87s/it]Setting `pad_token_id` to `eos_token_id`:128009 for open-end generation.\n",
      " 31%|█████████████████████████▍                                                        | 31/100 [05:02<11:18,  9.84s/it]Setting `pad_token_id` to `eos_token_id`:128009 for open-end generation.\n",
      " 32%|██████████████████████████▏                                                       | 32/100 [05:11<11:07,  9.82s/it]Setting `pad_token_id` to `eos_token_id`:128009 for open-end generation.\n",
      " 33%|███████████████████████████                                                       | 33/100 [05:21<10:56,  9.80s/it]Setting `pad_token_id` to `eos_token_id`:128009 for open-end generation.\n",
      " 34%|███████████████████████████▉                                                      | 34/100 [05:31<10:46,  9.80s/it]Setting `pad_token_id` to `eos_token_id`:128009 for open-end generation.\n",
      " 35%|████████████████████████████▋                                                     | 35/100 [05:41<10:35,  9.77s/it]Setting `pad_token_id` to `eos_token_id`:128009 for open-end generation.\n",
      " 36%|█████████████████████████████▌                                                    | 36/100 [05:50<10:24,  9.75s/it]Setting `pad_token_id` to `eos_token_id`:128009 for open-end generation.\n",
      " 37%|██████████████████████████████▎                                                   | 37/100 [06:00<10:15,  9.77s/it]Setting `pad_token_id` to `eos_token_id`:128009 for open-end generation.\n",
      " 38%|███████████████████████████████▏                                                  | 38/100 [06:10<10:03,  9.73s/it]Setting `pad_token_id` to `eos_token_id`:128009 for open-end generation.\n",
      " 39%|███████████████████████████████▉                                                  | 39/100 [06:19<09:52,  9.72s/it]Setting `pad_token_id` to `eos_token_id`:128009 for open-end generation.\n",
      " 40%|████████████████████████████████▊                                                 | 40/100 [06:29<09:43,  9.73s/it]Setting `pad_token_id` to `eos_token_id`:128009 for open-end generation.\n",
      " 41%|█████████████████████████████████▌                                                | 41/100 [06:39<09:34,  9.74s/it]Setting `pad_token_id` to `eos_token_id`:128009 for open-end generation.\n"
     ]
    },
    {
     "name": "stderr",
     "output_type": "stream",
     "text": [
      " 42%|██████████████████████████████████▍                                               | 42/100 [06:49<09:23,  9.72s/it]Setting `pad_token_id` to `eos_token_id`:128009 for open-end generation.\n",
      " 43%|███████████████████████████████████▎                                              | 43/100 [06:58<09:15,  9.75s/it]Setting `pad_token_id` to `eos_token_id`:128009 for open-end generation.\n",
      " 44%|████████████████████████████████████                                              | 44/100 [07:08<09:06,  9.76s/it]Setting `pad_token_id` to `eos_token_id`:128009 for open-end generation.\n",
      " 45%|████████████████████████████████████▉                                             | 45/100 [07:18<08:51,  9.67s/it]Setting `pad_token_id` to `eos_token_id`:128009 for open-end generation.\n",
      " 46%|█████████████████████████████████████▋                                            | 46/100 [07:27<08:39,  9.61s/it]Setting `pad_token_id` to `eos_token_id`:128009 for open-end generation.\n",
      " 47%|██████████████████████████████████████▌                                           | 47/100 [07:37<08:27,  9.58s/it]Setting `pad_token_id` to `eos_token_id`:128009 for open-end generation.\n",
      " 48%|███████████████████████████████████████▎                                          | 48/100 [07:47<08:22,  9.66s/it]Setting `pad_token_id` to `eos_token_id`:128009 for open-end generation.\n",
      " 49%|████████████████████████████████████████▏                                         | 49/100 [07:56<08:10,  9.61s/it]Setting `pad_token_id` to `eos_token_id`:128009 for open-end generation.\n",
      " 50%|█████████████████████████████████████████                                         | 50/100 [08:06<08:02,  9.64s/it]Setting `pad_token_id` to `eos_token_id`:128009 for open-end generation.\n",
      " 51%|█████████████████████████████████████████▊                                        | 51/100 [08:15<07:49,  9.58s/it]Setting `pad_token_id` to `eos_token_id`:128009 for open-end generation.\n",
      " 52%|██████████████████████████████████████████▋                                       | 52/100 [08:25<07:42,  9.63s/it]Setting `pad_token_id` to `eos_token_id`:128009 for open-end generation.\n",
      " 53%|███████████████████████████████████████████▍                                      | 53/100 [08:35<07:35,  9.69s/it]Setting `pad_token_id` to `eos_token_id`:128009 for open-end generation.\n",
      " 54%|████████████████████████████████████████████▎                                     | 54/100 [08:44<07:25,  9.69s/it]Setting `pad_token_id` to `eos_token_id`:128009 for open-end generation.\n",
      " 55%|█████████████████████████████████████████████                                     | 55/100 [08:54<07:15,  9.68s/it]Setting `pad_token_id` to `eos_token_id`:128009 for open-end generation.\n",
      " 56%|█████████████████████████████████████████████▉                                    | 56/100 [09:04<07:06,  9.69s/it]Setting `pad_token_id` to `eos_token_id`:128009 for open-end generation.\n",
      " 57%|██████████████████████████████████████████████▋                                   | 57/100 [09:14<06:56,  9.68s/it]Setting `pad_token_id` to `eos_token_id`:128009 for open-end generation.\n",
      " 58%|███████████████████████████████████████████████▌                                  | 58/100 [09:23<06:46,  9.67s/it]Setting `pad_token_id` to `eos_token_id`:128009 for open-end generation.\n",
      " 59%|████████████████████████████████████████████████▍                                 | 59/100 [09:33<06:36,  9.66s/it]Setting `pad_token_id` to `eos_token_id`:128009 for open-end generation.\n",
      " 60%|█████████████████████████████████████████████████▏                                | 60/100 [09:43<06:27,  9.70s/it]Setting `pad_token_id` to `eos_token_id`:128009 for open-end generation.\n",
      " 61%|██████████████████████████████████████████████████                                | 61/100 [09:52<06:20,  9.75s/it]Setting `pad_token_id` to `eos_token_id`:128009 for open-end generation.\n",
      " 62%|██████████████████████████████████████████████████▊                               | 62/100 [10:02<06:09,  9.72s/it]Setting `pad_token_id` to `eos_token_id`:128009 for open-end generation.\n",
      " 63%|███████████████████████████████████████████████████▋                              | 63/100 [10:12<05:59,  9.72s/it]Setting `pad_token_id` to `eos_token_id`:128009 for open-end generation.\n",
      " 64%|████████████████████████████████████████████████████▍                             | 64/100 [10:21<05:48,  9.68s/it]Setting `pad_token_id` to `eos_token_id`:128009 for open-end generation.\n",
      " 65%|█████████████████████████████████████████████████████▎                            | 65/100 [10:31<05:40,  9.72s/it]Setting `pad_token_id` to `eos_token_id`:128009 for open-end generation.\n",
      " 66%|██████████████████████████████████████████████████████                            | 66/100 [10:41<05:30,  9.72s/it]Setting `pad_token_id` to `eos_token_id`:128009 for open-end generation.\n",
      " 67%|██████████████████████████████████████████████████████▉                           | 67/100 [10:51<05:21,  9.75s/it]Setting `pad_token_id` to `eos_token_id`:128009 for open-end generation.\n",
      " 68%|███████████████████████████████████████████████████████▊                          | 68/100 [11:00<05:08,  9.65s/it]Setting `pad_token_id` to `eos_token_id`:128009 for open-end generation.\n",
      " 69%|████████████████████████████████████████████████████████▌                         | 69/100 [11:10<04:59,  9.65s/it]Setting `pad_token_id` to `eos_token_id`:128009 for open-end generation.\n",
      " 70%|█████████████████████████████████████████████████████████▍                        | 70/100 [11:19<04:49,  9.64s/it]Setting `pad_token_id` to `eos_token_id`:128009 for open-end generation.\n",
      " 71%|██████████████████████████████████████████████████████████▏                       | 71/100 [11:29<04:40,  9.66s/it]Setting `pad_token_id` to `eos_token_id`:128009 for open-end generation.\n",
      " 72%|███████████████████████████████████████████████████████████                       | 72/100 [11:39<04:32,  9.71s/it]Setting `pad_token_id` to `eos_token_id`:128009 for open-end generation.\n",
      " 73%|███████████████████████████████████████████████████████████▊                      | 73/100 [11:49<04:23,  9.76s/it]Setting `pad_token_id` to `eos_token_id`:128009 for open-end generation.\n",
      " 74%|████████████████████████████████████████████████████████████▋                     | 74/100 [11:58<04:11,  9.67s/it]Setting `pad_token_id` to `eos_token_id`:128009 for open-end generation.\n",
      " 75%|█████████████████████████████████████████████████████████████▌                    | 75/100 [12:08<04:02,  9.69s/it]Setting `pad_token_id` to `eos_token_id`:128009 for open-end generation.\n",
      " 76%|██████████████████████████████████████████████████████████████▎                   | 76/100 [12:18<03:53,  9.71s/it]Setting `pad_token_id` to `eos_token_id`:128009 for open-end generation.\n",
      " 77%|███████████████████████████████████████████████████████████████▏                  | 77/100 [12:28<03:43,  9.73s/it]Setting `pad_token_id` to `eos_token_id`:128009 for open-end generation.\n",
      " 78%|███████████████████████████████████████████████████████████████▉                  | 78/100 [12:37<03:32,  9.64s/it]Setting `pad_token_id` to `eos_token_id`:128009 for open-end generation.\n",
      " 79%|████████████████████████████████████████████████████████████████▊                 | 79/100 [12:47<03:21,  9.60s/it]Setting `pad_token_id` to `eos_token_id`:128009 for open-end generation.\n",
      " 80%|█████████████████████████████████████████████████████████████████▌                | 80/100 [12:56<03:12,  9.65s/it]Setting `pad_token_id` to `eos_token_id`:128009 for open-end generation.\n",
      " 81%|██████████████████████████████████████████████████████████████████▍               | 81/100 [13:06<03:03,  9.66s/it]Setting `pad_token_id` to `eos_token_id`:128009 for open-end generation.\n",
      " 82%|███████████████████████████████████████████████████████████████████▏              | 82/100 [13:15<02:52,  9.59s/it]Setting `pad_token_id` to `eos_token_id`:128009 for open-end generation.\n",
      " 83%|████████████████████████████████████████████████████████████████████              | 83/100 [13:25<02:43,  9.64s/it]Setting `pad_token_id` to `eos_token_id`:128009 for open-end generation.\n"
     ]
    },
    {
     "name": "stderr",
     "output_type": "stream",
     "text": [
      " 84%|████████████████████████████████████████████████████████████████████▉             | 84/100 [13:35<02:35,  9.69s/it]Setting `pad_token_id` to `eos_token_id`:128009 for open-end generation.\n",
      " 85%|█████████████████████████████████████████████████████████████████████▋            | 85/100 [13:45<02:25,  9.71s/it]Setting `pad_token_id` to `eos_token_id`:128009 for open-end generation.\n",
      " 86%|██████████████████████████████████████████████████████████████████████▌           | 86/100 [13:54<02:15,  9.71s/it]Setting `pad_token_id` to `eos_token_id`:128009 for open-end generation.\n",
      " 87%|███████████████████████████████████████████████████████████████████████▎          | 87/100 [14:04<02:05,  9.63s/it]Setting `pad_token_id` to `eos_token_id`:128009 for open-end generation.\n",
      " 88%|████████████████████████████████████████████████████████████████████████▏         | 88/100 [14:14<01:55,  9.65s/it]Setting `pad_token_id` to `eos_token_id`:128009 for open-end generation.\n",
      " 89%|████████████████████████████████████████████████████████████████████████▉         | 89/100 [14:23<01:46,  9.64s/it]Setting `pad_token_id` to `eos_token_id`:128009 for open-end generation.\n",
      " 90%|█████████████████████████████████████████████████████████████████████████▊        | 90/100 [14:33<01:36,  9.66s/it]Setting `pad_token_id` to `eos_token_id`:128009 for open-end generation.\n",
      " 91%|██████████████████████████████████████████████████████████████████████████▌       | 91/100 [14:43<01:26,  9.65s/it]Setting `pad_token_id` to `eos_token_id`:128009 for open-end generation.\n",
      " 92%|███████████████████████████████████████████████████████████████████████████▍      | 92/100 [14:52<01:17,  9.65s/it]Setting `pad_token_id` to `eos_token_id`:128009 for open-end generation.\n",
      " 93%|████████████████████████████████████████████████████████████████████████████▎     | 93/100 [15:02<01:08,  9.73s/it]Setting `pad_token_id` to `eos_token_id`:128009 for open-end generation.\n",
      " 94%|█████████████████████████████████████████████████████████████████████████████     | 94/100 [15:12<00:58,  9.74s/it]Setting `pad_token_id` to `eos_token_id`:128009 for open-end generation.\n",
      " 95%|█████████████████████████████████████████████████████████████████████████████▉    | 95/100 [15:21<00:48,  9.66s/it]Setting `pad_token_id` to `eos_token_id`:128009 for open-end generation.\n",
      " 96%|██████████████████████████████████████████████████████████████████████████████▋   | 96/100 [15:31<00:38,  9.71s/it]Setting `pad_token_id` to `eos_token_id`:128009 for open-end generation.\n",
      " 97%|███████████████████████████████████████████████████████████████████████████████▌  | 97/100 [15:41<00:29,  9.75s/it]Setting `pad_token_id` to `eos_token_id`:128009 for open-end generation.\n",
      " 98%|████████████████████████████████████████████████████████████████████████████████▎ | 98/100 [15:51<00:19,  9.75s/it]Setting `pad_token_id` to `eos_token_id`:128009 for open-end generation.\n",
      " 99%|█████████████████████████████████████████████████████████████████████████████████▏| 99/100 [16:00<00:09,  9.74s/it]Setting `pad_token_id` to `eos_token_id`:128009 for open-end generation.\n",
      "100%|█████████████████████████████████████████████████████████████████████████████████| 100/100 [16:10<00:00,  9.71s/it]\n"
     ]
    }
   ],
   "source": [
    "gen_type_list = ['retrieved']\n",
    "\n",
    "terminators = [\n",
    "    pipeline.tokenizer.eos_token_id,\n",
    "    pipeline.tokenizer.convert_tokens_to_ids(\"<|eot_id|>\")\n",
    "]\n",
    "\n",
    "pipeline.tokenizer.pad_token_id = pipeline.model.config.eos_token_id\n",
    "pipeline.tokenizer.padding_side = 'left'\n",
    "\n",
    "for name in tqdm(sampled_tweet_dict):\n",
    "    proper_noun_name = capitalize_first_letters(name.replace('_', ' '))\n",
    "    system_prompt = f\"You are U.S. congressperson {proper_noun_name}.\"\n",
    "    \n",
    "    retrieved_tweet_indices = np.argmax(all_embds[name]['pre-t'] @ embedded_questions.T, axis=0)\n",
    "                \n",
    "    message_list = []\n",
    "    for i,question in enumerate(questions):        \n",
    "        retrieved_tweet = all_text[name]['pre-t'][retrieved_tweet_indices[i]]\n",
    "        sampled_tweet_dict[name]['retrieved'][question] = retrieved_tweet\n",
    "\n",
    "        user_prompt = f'Write a Tweet that addresses the following question: \"{question}\".'\n",
    "        user_prompt += f' Here is an example Tweet potentially related to the to-be-completed Tweet: \"{retrieved_tweet}\".'\n",
    "        user_prompt += ' Start your response with \"Here is the full Tweet:\".'\n",
    "\n",
    "        messages = [\n",
    "            {\"role\": \"system\", \"content\": system_prompt},\n",
    "            {\"role\": \"user\", \"content\": user_prompt},\n",
    "        ]\n",
    "\n",
    "        message_list.append(messages)\n",
    "\n",
    "    outputs = pipeline(\n",
    "        message_list,\n",
    "        batch_size=50,\n",
    "        max_new_tokens=81,\n",
    "        eos_token_id=terminators,\n",
    "        do_sample=True,\n",
    "        temperature=1,\n",
    "        num_return_sequences=5\n",
    "    )\n",
    "    \n",
    "    for i,question in enumerate(questions):\n",
    "        temp_outputs=outputs[i]\n",
    "        sampled_tweet_dict[name]['generated'][question] = [o[\"generated_text\"][-1]['content'] for o in temp_outputs]\n",
    "        sampled_tweet_dict[name]['generated'][question] = [t.split('Here is the full Tweet:')[-1].strip() for t in sampled_tweet_dict[name]['generated'][question]]\n",
    "        sampled_tweet_dict[name]['generated'][question] = [remove_quotes(t) for t in sampled_tweet_dict[name]['generated'][question]]"
   ]
  },
  {
   "cell_type": "code",
   "execution_count": 54,
   "metadata": {},
   "outputs": [],
   "source": [
    "import pickle\n",
    "pickle.dump(sampled_tweet_dict, open('inference_tweet_dict.p', 'wb'))"
   ]
  },
  {
   "cell_type": "code",
   "execution_count": 58,
   "metadata": {},
   "outputs": [
    {
     "name": "stderr",
     "output_type": "stream",
     "text": [
      "<All keys matched successfully>\n"
     ]
    }
   ],
   "source": [
    "try:\n",
    "    pipline.model.to('cpu')\n",
    "    embedding_model.to('cpu')\n",
    "    del pipeline, embedding_model\n",
    "    torch.cuda.empty_cache()\n",
    "    gc.collect()\n",
    "except:\n",
    "    pass\n",
    "    \n",
    "import pickle\n",
    "sampled_tweet_dict = pickle.load(open('inference_tweet_dict.p', 'rb'))\n",
    "embedding_model = SentenceTransformer(\"nomic-ai/nomic-embed-text-v1.5\", trust_remote_code=True)"
   ]
  },
  {
   "cell_type": "code",
   "execution_count": 62,
   "metadata": {},
   "outputs": [
    {
     "name": "stdout",
     "output_type": "stream",
     "text": [
      "10 10.0\n"
     ]
    }
   ],
   "source": [
    "#- this is broken\n",
    "\n",
    "filtered_sampled_tweet_dict = {}\n",
    "min_ = 100\n",
    "lengths = []\n",
    "for name in sampled_tweet_dict:\n",
    "    filtered_sampled_tweet_dict[name] = {}\n",
    "    for gen_type in sampled_tweet_dict[name]:\n",
    "        filtered_sampled_tweet_dict[name][gen_type] = []\n",
    "        for tweet in sampled_tweet_dict[name][gen_type]:\n",
    "            if 'I cannot' not in tweet[:10]:\n",
    "                filtered_sampled_tweet_dict[name][gen_type].append(tweet)\n",
    "                \n",
    "        lengths.append(len(filtered_sampled_tweet_dict[name][gen_type]))\n",
    "                \n",
    "print(np.min(lengths), np.median(np.sort(lengths)))"
   ]
  },
  {
   "cell_type": "code",
   "execution_count": 71,
   "metadata": {},
   "outputs": [],
   "source": [
    "matrix_representations = {}\n",
    "\n",
    "for name in sampled_tweet_dict:\n",
    "    matrix_representations[name] = {}\n",
    "    \n",
    "    matrix_representations[name]['retrieved'] = list(sampled_tweet_dict[name]['retrieved'].values())\n",
    "    matrix_representations[name]['retrieved'] = embedding_model.encode(matrix_representations[name]['retrieved'])\n",
    "    \n",
    "    matrix_representations[name]['generated'] = []\n",
    "    for question in questions:\n",
    "        temp = sampled_tweet_dict[name]['generated'][question]\n",
    "        temp = embedding_model.encode(temp)\n",
    "        matrix_representations[name]['generated'].append(np.mean(temp, axis=0))\n",
    "        \n",
    "    matrix_representations[name]['generated'] = np.array(matrix_representations[name]['generated'])"
   ]
  },
  {
   "cell_type": "code",
   "execution_count": 76,
   "metadata": {},
   "outputs": [],
   "source": [
    "name_list = list(sampled_tweet_dict.keys())\n",
    "dist_matrix_retrieved = np.zeros((len(name_list), len(name_list)))\n",
    "dist_matrix_generated = np.zeros((len(name_list), len(name_list)))\n",
    "\n",
    "for i, name1 in enumerate(name_list):\n",
    "    for ii, name2 in enumerate(name_list[i+1:]):\n",
    "        dist_matrix_retrieved[i, ii] = np.linalg.norm(matrix_representations[name1]['retrieved'] - matrix_representations[name2]['retrieved'])\n",
    "        dist_matrix_retrieved[ii, i] = dist_matrix_retrieved[i, ii]\n",
    "    \n",
    "        dist_matrix_generated[i, ii] = np.linalg.norm(matrix_representations[name1]['generated'] - matrix_representations[name2]['generated'])\n",
    "        dist_matrix_generated[ii, i] = dist_matrix_generated[i, ii]"
   ]
  },
  {
   "cell_type": "code",
   "execution_count": 77,
   "metadata": {},
   "outputs": [],
   "source": [
    "from graspologic.embed import ClassicalMDS\n",
    "\n",
    "cmds_generated = ClassicalMDS().fit_transform(dist_matrix_generated)\n",
    "cmds_retrieved = ClassicalMDS().fit_transform(dist_matrix_retrieved)"
   ]
  },
  {
   "cell_type": "code",
   "execution_count": 78,
   "metadata": {},
   "outputs": [
    {
     "name": "stderr",
     "output_type": "stream",
     "text": [
      "/home/paperspace/venvs/pnma/lib/python3.10/site-packages/seaborn/axisgrid.py:1513: UserWarning: Ignoring `palette` because no `hue` variable has been assigned.\n",
      "  func(x=vector, **plot_kwargs)\n",
      "/home/paperspace/venvs/pnma/lib/python3.10/site-packages/seaborn/axisgrid.py:1513: UserWarning: Ignoring `palette` because no `hue` variable has been assigned.\n",
      "  func(x=vector, **plot_kwargs)\n",
      "/home/paperspace/venvs/pnma/lib/python3.10/site-packages/seaborn/axisgrid.py:1615: UserWarning: Ignoring `palette` because no `hue` variable has been assigned.\n",
      "  func(x=x, y=y, **kwargs)\n",
      "/home/paperspace/venvs/pnma/lib/python3.10/site-packages/seaborn/axisgrid.py:1615: UserWarning: Ignoring `palette` because no `hue` variable has been assigned.\n",
      "  func(x=x, y=y, **kwargs)\n"
     ]
    },
    {
     "data": {
      "text/plain": [
       "<seaborn.axisgrid.PairGrid at 0x7fb45b89e9b0>"
      ]
     },
     "execution_count": 78,
     "metadata": {},
     "output_type": "execute_result"
    },
    {
     "data": {
      "image/png": "[encoded data removed]",
      "text/plain": [
       "<Figure size 500x500 with 6 Axes>"
      ]
     },
     "metadata": {},
     "output_type": "display_data"
    }
   ],
   "source": [
    "from graspologic.plot import pairplot\n",
    "\n",
    "pairplot(cmds_generated)"
   ]
  },
  {
   "cell_type": "code",
   "execution_count": 79,
   "metadata": {},
   "outputs": [
    {
     "name": "stderr",
     "output_type": "stream",
     "text": [
      "/home/paperspace/venvs/pnma/lib/python3.10/site-packages/seaborn/axisgrid.py:1513: UserWarning: Ignoring `palette` because no `hue` variable has been assigned.\n",
      "  func(x=vector, **plot_kwargs)\n",
      "/home/paperspace/venvs/pnma/lib/python3.10/site-packages/seaborn/axisgrid.py:1513: UserWarning: Ignoring `palette` because no `hue` variable has been assigned.\n",
      "  func(x=vector, **plot_kwargs)\n",
      "/home/paperspace/venvs/pnma/lib/python3.10/site-packages/seaborn/axisgrid.py:1615: UserWarning: Ignoring `palette` because no `hue` variable has been assigned.\n",
      "  func(x=x, y=y, **kwargs)\n",
      "/home/paperspace/venvs/pnma/lib/python3.10/site-packages/seaborn/axisgrid.py:1615: UserWarning: Ignoring `palette` because no `hue` variable has been assigned.\n",
      "  func(x=x, y=y, **kwargs)\n"
     ]
    },
    {
     "data": {
      "text/plain": [
       "<seaborn.axisgrid.PairGrid at 0x7fb45ba817e0>"
      ]
     },
     "execution_count": 79,
     "metadata": {},
     "output_type": "execute_result"
    },
    {
     "data": {
      "image/png": "[encoded data removed]",
      "text/plain": [
       "<Figure size 500x500 with 6 Axes>"
      ]
     },
     "metadata": {},
     "output_type": "display_data"
    }
   ],
   "source": [
    "pairplot(cmds_retrieved)"
   ]
  },
  {
   "cell_type": "code",
   "execution_count": null,
   "metadata": {},
   "outputs": [],
   "source": []
  }
 ],
 "metadata": {
  "kernelspec": {
   "display_name": "base",
   "language": "python",
   "name": "python3"
  },
  "language_info": {
   "codemirror_mode": {
    "name": "ipython",
    "version": 3
   },
   "file_extension": ".py",
   "mimetype": "text/x-python",
   "name": "python",
   "nbconvert_exporter": "python",
   "pygments_lexer": "ipython3",
   "version": "3.11.3"
  }
 },
 "nbformat": 4,
 "nbformat_minor": 2
}
