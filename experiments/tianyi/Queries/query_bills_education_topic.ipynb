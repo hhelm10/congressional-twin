{
 "cells": [
  {
   "cell_type": "markdown",
   "metadata": {},
   "source": [
    "## Education topics, 4 bills:"
   ]
  },
  {
   "cell_type": "code",
   "execution_count": null,
   "metadata": {},
   "outputs": [],
   "source": [
    "##Roll Call Vote 701, 118th Congress, HR 5933\n",
    "\n",
    "questions = [\n",
    "    \"Do you support the requirement for additional disclosure of foreign gifts and contracts to higher education institutions? Why or why not?\",\n",
    "    \"How do you feel about restricting contracts with certain foreign entities and foreign countries of concern?\",\n",
    "    \"Which countries are considered 'countries of concern' in this bill, and why?\",\n",
    "    \"What impact do you think these new reporting requirements will have on academic freedom and international collaboration?\",\n",
    "    \"Do you believe requiring staff and faculty to report foreign gifts and contracts is necessary? Could this pose any privacy or administrative burden?\",\n",
    "    \"How might the disclosure of foreign investments within university endowments affect the financial operations of these institutions?\",\n",
    "    \"Are there specific instances of foreign influence in higher education that this bill aims to address?\",\n",
    "    \"How does this legislation balance national security interests with the benefits of global academic engagement?\",\n",
    "    \"Could these measures discourage valuable foreign partnerships or deter international students and scholars from coming to the U.S.?\",\n",
    "    \"What provisions are included to prevent potential discrimination against certain countries or groups in implementing this bill?\"\n",
    "]"
   ]
  },
  {
   "cell_type": "code",
   "execution_count": null,
   "metadata": {},
   "outputs": [],
   "source": [
    "##Roll Call Vote 105, 118th Congress, HR 6655\n",
    "\n",
    "questions=[\n",
    "    \"Do you support the proposed amendments to the Workforce Innovation and Opportunity Act? Why or why not?\",\n",
    "    \"What specific changes in the reauthorization do you find most impactful?\",\n",
    "    \"How do you believe the amendments will affect job training and employment services in your district?\",\n",
    "    \"In what ways does this bill address the needs of unemployed or underemployed individuals?\",\n",
    "    \"How will the proposed changes influence funding for workforce development programs?\",\n",
    "    \"Do you think the amendments adequately support collaboration between federal, state, and local workforce agencies?\",\n",
    "    \"Are there any aspects of the bill you disagree with or would like to see modified?\",\n",
    "    \"How does this legislation align with your priorities for economic growth and job creation?\",\n",
    "    \"What feedback have you received from constituents or industry stakeholders regarding this bill?\",\n",
    "    \"If passed, how do you envision the long-term impact of this bill on workforce innovation and opportunities nationwide?\"\n",
    "]\n"
   ]
  },
  {
   "cell_type": "code",
   "execution_count": null,
   "metadata": {},
   "outputs": [],
   "source": [
    "## Roll Call Vote 247, 118th Congress, HR 5339\n",
    "\n",
    "questions=[\n",
    "    \"What is your overall stance on the proposed amendments to the Employee Retirement Income Security Act of 1974 regarding pecuniary and non-pecuniary factors?\",\n",
    "    \"Do you believe fiduciaries should prioritize pecuniary factors over non-pecuniary factors when managing employee retirement plans?\",\n",
    "    \"How might this bill impact the consideration of environmental, social, and governance (ESG) factors in investment decisions?\",\n",
    "    \"What are the potential benefits or drawbacks of specifying requirements on non-pecuniary factors in retirement planning?\",\n",
    "    \"Do you think limiting non-pecuniary considerations could affect the long-term sustainability of retirement investments?\",\n",
    "    \"How does this legislation align with your views on fiduciary responsibility and investment management?\",\n",
    "    \"Have you received feedback from constituents or industry experts regarding this bill? If so, what are their main concerns?\",\n",
    "    \"Are there any amendments you would propose to improve the bill's effectiveness or address any shortcomings?\",\n",
    "    \"In your opinion, does the bill adequately balance financial returns with ethical or social considerations?\",\n",
    "    \"How do you foresee this bill affecting the future of retirement planning and employee benefits in the country?\"\n",
    "]"
   ]
  },
  {
   "cell_type": "code",
   "execution_count": null,
   "metadata": {},
   "outputs": [],
   "source": [
    "## Roll Call Vote 718, 118th Congress, HR 1147\n",
    "\n",
    "questions= [\n",
    "    \"Do you support the bill allowing schools to serve whole milk in the National School Lunch Program? Why or why not?\",\n",
    "    \"How do you believe serving whole milk in schools would impact children's health and nutrition?\",\n",
    "    \"What are your thoughts on the current restrictions that prevent schools from serving whole milk?\",\n",
    "    \"Do you have concerns about the potential link between whole milk consumption and childhood obesity?\",\n",
    "    \"In what ways might this bill affect dairy farmers and the broader dairy industry?\",\n",
    "    \"Are there financial implications for schools if they choose to serve whole milk instead of lower-fat options?\",\n",
    "    \"How do you balance the nutritional benefits of whole milk against possible health risks?\",\n",
    "    \"Should parents have more influence over the types of milk offered in schools? Why?\",\n",
    "    \"How does this proposed legislation align or conflict with existing federal dietary guidelines?\",\n",
    "    \"What other initiatives do you support to improve nutrition in school meal programs?\"\n",
    "]"
   ]
  }
 ],
 "metadata": {
  "language_info": {
   "name": "python"
  }
 },
 "nbformat": 4,
 "nbformat_minor": 2
}
