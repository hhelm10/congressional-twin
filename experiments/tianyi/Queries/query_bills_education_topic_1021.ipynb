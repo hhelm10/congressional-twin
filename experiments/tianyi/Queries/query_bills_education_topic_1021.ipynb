{
 "cells": [
  {
   "cell_type": "markdown",
   "metadata": {},
   "source": [
    "## Bills with no specific topics, but including both house vote and senate vote"
   ]
  },
  {
   "cell_type": "markdown",
   "metadata": {},
   "source": [
    "Propmpt: Here is an abstract of a bill to be voted on:\n",
    "“To provide an extension of Federal-aid highway, highway safety, and transit programs, and for other purposes.\"\n",
    "Please generate 10 questions related to this topic that you would ask a member of Congress to understand their opinion on the bill. Output the questions as a Python list of strings in a code block."
   ]
  },
  {
   "cell_type": "code",
   "execution_count": null,
   "metadata": {},
   "outputs": [],
   "source": [
    "## HR5434 117th Congress Roll Call #313\n",
    "#-- House vote: Oct 1, 2021\n",
    "#-- Senate vote: Oct 2, 2021\n",
    "#-- To provide an extension of Federal-aid highway, highway safety, and transit programs, and for other purposes.\n",
    "\n",
    "questions =[\n",
    "    \"What are your main reasons for supporting or opposing the extension of Federal-aid highway and transit programs proposed in this bill?\",\n",
    "    \"How do you think this bill will impact infrastructure development and maintenance in your state or district?\",\n",
    "    \"Are there specific provisions within the bill that you find particularly beneficial or concerning?\",\n",
    "    \"In what ways does this bill address current challenges in highway safety?\",\n",
    "    \"Do you believe the funding levels proposed are sufficient for the needs of our transportation systems?\",\n",
    "    \"How will this extension affect public transit services and accessibility for your constituents?\",\n",
    "    \"What measures does the bill include to ensure efficient use of the allocated funds?\",\n",
    "    \"Does the bill address environmental and sustainability concerns related to transportation? If so, how?\",\n",
    "    \"Are there any amendments or changes you would like to see made to this bill before it is passed?\",\n",
    "    \"How does this legislation align with your overall priorities for national transportation policy?\"\n",
    "]"
   ]
  },
  {
   "cell_type": "code",
   "execution_count": null,
   "metadata": {},
   "outputs": [],
   "source": [
    "##HR5763 117th Congress, Roll Call #339\n",
    "#-- Oct 28, 2021\n",
    "#-- Oct 28, 2021\n",
    "# -- \"To provide an extension of Federal-aid highway, highway safety, and transit programs, and for other purposes.\"\n",
    "\n",
    "questions= [\n",
    "    \"Do you support the proposed extension of Federal-aid highway and transit programs in this bill?\",\n",
    "    \"What are the key benefits you see arising from the extension of these transportation programs?\",\n",
    "    \"Are there specific provisions in the bill that you strongly agree or disagree with?\",\n",
    "    \"How do you think this bill will impact infrastructure development in your district or state?\",\n",
    "    \"Does the bill adequately address highway safety concerns, in your opinion?\",\n",
    "    \"What are your thoughts on the funding mechanisms outlined in the bill for these programs?\",\n",
    "    \"How might this legislation affect job creation and the economy at large?\",\n",
    "    \"Do you believe the bill takes sufficient measures regarding environmental and sustainability issues?\",\n",
    "    \"Are there any amendments you would propose to improve the bill?\",\n",
    "    \"How does this bill align with your broader priorities for national transportation policy?\"\n",
    "]\n"
   ]
  },
  {
   "cell_type": "code",
   "execution_count": null,
   "metadata": {},
   "outputs": [],
   "source": [
    "#HR7077 117th Congress, Roll Call #153\n",
    "#-- House vote: May 11, 2022\n",
    "#-- Senate Vote: Dec 6, 2022\n",
    "#--\"To require the United States Fire Administration to conduct on-site investigations of major fires, and for other purposes.\"\n",
    "\n",
    "questions= [\n",
    "    \"Do you support the bill requiring the U.S. Fire Administration to conduct on-site investigations of major fires? Why or why not?\",\n",
    "    \"What do you believe are the primary benefits of mandating on-site investigations by the U.S. Fire Administration?\",\n",
    "    \"Are there concerns about the costs or resource implications associated with implementing this bill?\",\n",
    "    \"How might this bill improve fire safety and prevention efforts across the country?\",\n",
    "    \"Do you foresee any challenges with federal involvement in fire investigations typically managed by state or local agencies?\",\n",
    "    \"Does the bill include provisions for additional funding or training to support these on-site investigations?\",\n",
    "    \"What are the 'other purposes' mentioned in the bill, and how do they align with its main objectives?\",\n",
    "    \"How will this legislation affect collaboration between federal and local fire departments?\",\n",
    "    \"What feedback have you received from constituents or experts regarding the potential impact of this bill?\",\n",
    "    \"In your view, how does this bill enhance disaster response and recovery efforts nationwide?\"\n",
    "]\n",
    "\n"
   ]
  },
  {
   "cell_type": "code",
   "execution_count": null,
   "metadata": {},
   "outputs": [],
   "source": [
    "# HR1734 118th Congress, Roll Call #212\n",
    "#-- House vote: May 11, 2023\n",
    "#-- Senate vote: Jun 22, 2023\n",
    "#-- \"To require coordinated National Institute of Standards and Technology science and research activities \n",
    "# regarding illicit drugs containing xylazine, novel synthetic opioids, and other substances of concern, and for other purposes.\"\n",
    "\n",
    "quesitons= [\n",
    "    \"Do you support the bill requiring NIST to coordinate research on illicit drugs containing xylazine and novel synthetic opioids?\",\n",
    "    \"What impact do you believe this legislation will have on combating the rise of dangerous substances like xylazine?\",\n",
    "    \"How important is federal coordination, such as that proposed in the bill, in addressing the opioid crisis?\",\n",
    "    \"Are there specific aspects of the bill that you particularly agree or disagree with?\",\n",
    "    \"How do you think this bill will affect collaboration between federal agencies and local law enforcement?\",\n",
    "    \"What role should scientific research play in shaping policies on illicit drugs?\",\n",
    "    \"Do you have concerns about the allocation of resources required by this bill?\",\n",
    "    \"In what ways might this bill improve public health and safety regarding synthetic opioids?\",\n",
    "    \"How does this proposed legislation fit into the broader strategy to combat illicit drug use?\",\n",
    "    \"What measures would you suggest to enhance the effectiveness of the initiatives outlined in the bill?\"\n",
    "]\n",
    "\n"
   ]
  },
  {
   "cell_type": "code",
   "execution_count": null,
   "metadata": {},
   "outputs": [],
   "source": [
    "#HR8289 118th Congress, Roll Call #187\n",
    "##-- House vote: May 8, 2024\n",
    "#-- Senate vote: May 9, 2024\n",
    "#-- \"To extend authorizations for the airport improvement program,\n",
    "# to extend the funding and expenditure authority of the Airport and Airway Trust Fund, and for other purposes.\" \n",
    "\n",
    "quesitons= [\n",
    "    \"Do you support the extension of the Airport Improvement Program, and why?\",\n",
    "    \"What are your views on extending the funding authority of the Airport and Airway Trust Fund?\",\n",
    "    \"How do you believe this bill will impact airport infrastructure and air travel efficiency?\",\n",
    "    \"Are there specific provisions in the bill that you particularly agree or disagree with?\",\n",
    "    \"How does this proposed extension align with your priorities for federal spending?\",\n",
    "    \"What economic effects do you anticipate this bill will have on local communities and the aviation industry?\",\n",
    "    \"Do you have any concerns about how the additional funding will be allocated or managed?\",\n",
    "    \"In what ways do you think this bill addresses current challenges in airport modernization and safety?\",\n",
    "    \"Would you propose any amendments to improve the effectiveness of this bill?\",\n",
    "    \"How does this legislation fit into the broader context of national transportation policy?\"\n",
    "]\n"
   ]
  }
 ],
 "metadata": {
  "kernelspec": {
   "display_name": "base",
   "language": "python",
   "name": "python3"
  },
  "language_info": {
   "codemirror_mode": {
    "name": "ipython",
    "version": 3
   },
   "file_extension": ".py",
   "mimetype": "text/x-python",
   "name": "python",
   "nbconvert_exporter": "python",
   "pygments_lexer": "ipython3",
   "version": "3.11.3"
  }
 },
 "nbformat": 4,
 "nbformat_minor": 2
}
