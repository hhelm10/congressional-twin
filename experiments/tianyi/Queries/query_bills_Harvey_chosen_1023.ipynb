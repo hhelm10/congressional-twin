{
 "cells": [
  {
   "cell_type": "markdown",
   "metadata": {},
   "source": [
    "## Bills Harvey chosen on 1023, some of them may have voice votes which are not recorded(haven't checked), thus abandon.  "
   ]
  },
  {
   "cell_type": "code",
   "execution_count": null,
   "metadata": {},
   "outputs": [],
   "source": [
    "#Vote - HR2670\n",
    "#Abstract — To authorize appropriations for fiscal year 2024 for military activities of the Department of Defense and for military construction, and for defense activities of the Department of Energy, to prescribe military personnel strengths for such fiscal year, and for other purposes.\n",
    "#Summary — This bill authorizes FY2024 appropriations and sets forth policies for Department of Defense (DOD) programs and activities, \n",
    "# military construction, the national security programs of the Department of Energy (DOE), \n",
    "# and the Maritime Administration, as well as the Department of State and the Central Intelligence Agency (CIA). \n",
    "# It also authorizes appropriations for the Defense Nuclear Safety Board and the Naval Petroleum Reserves, and sets policy for several other agencies, including the Department of Homeland Security (DHS). \n",
    "# The bill authorizes appropriations, but it does not provide budget authority, which is provided by appropriations legislation.\n",
    "\n",
    "questions=questions = [\n",
    "    \"Do you support the overall level of funding authorized for the Department of Defense in this bill? Why or why not?\",\n",
    "    \"What are your views on the allocations for military construction projects outlined in the bill?\",\n",
    "    \"How does this bill address the personnel strengths and readiness of the military for fiscal year 2024?\",\n",
    "    \"Do you believe the funding for the Department of Energy's national security programs is appropriate? Why or why not?\",\n",
    "    \"Are there specific provisions in the bill related to the Central Intelligence Agency or Department of State that you agree or disagree with?\",\n",
    "    \"How does this legislation impact the operations of the Department of Homeland Security?\",\n",
    "    \"What is your stance on the appropriations authorized for the Defense Nuclear Safety Board and the Naval Petroleum Reserves?\",\n",
    "    \"Given that the bill authorizes appropriations but does not provide budget authority, how do you foresee it influencing the appropriations process?\",\n",
    "    \"In what ways does this bill address current national security challenges facing the United States?\",\n",
    "    \"Are there any amendments or changes you would like to see made to this bill before it is passed?\"\n",
    "]\n"
   ]
  },
  {
   "cell_type": "code",
   "execution_count": null,
   "metadata": {},
   "outputs": [],
   "source": [
    "#Vote - HR2872\n",
    "#Abstract — Making further continuing appropriations for the fiscal year ending September 30, 2024, and for other purposes.\n",
    "#Summary — This act provides continuing FY2024 appropriations for federal agencies. \n",
    "# The act also extends several expiring programs and authorities, including several public health programs.\n",
    "\n",
    "questions=[\n",
    "    \"Do you support the continuation of FY2024 appropriations for federal agencies as proposed in this bill?\",\n",
    "    \"What are your thoughts on extending the expiring public health programs included in the act?\",\n",
    "    \"Are there specific provisions in the bill that you particularly support or oppose?\",\n",
    "    \"How do you feel about using a continuing resolution versus passing a full appropriations bill?\",\n",
    "    \"Do you believe the funding levels provided are sufficient for federal agencies to operate effectively?\",\n",
    "    \"What impact do you think this bill will have on your constituents and the services they rely on?\",\n",
    "    \"Are there concerns about the potential impact of this bill on the federal budget and national debt?\",\n",
    "    \"How important is it to pass this bill to avoid a government shutdown?\",\n",
    "    \"Do you feel this bill addresses the most urgent needs facing the country right now?\",\n",
    "    \"Would you suggest any amendments to this bill? If so, what changes would you recommend?\"\n",
    "]\n"
   ]
  },
  {
   "cell_type": "code",
   "execution_count": null,
   "metadata": {},
   "outputs": [],
   "source": [
    "#Vote - HR9747\n",
    "##Abstract — Making continuing appropriations and extensions for fiscal year 2025, and for other purposes.\n",
    "#Summary — This act provides continuing FY2025 appropriations for federal agencies, provides additional funding for the U.S. Secret Service, and extends various expiring programs and authorities.\n",
    "\n",
    "questions=[\n",
    "    \"Do you support the passage of this continuing appropriations bill for FY2025? Why or why not?\",\n",
    "    \"What are your thoughts on the additional funding allocated to the U.S. Secret Service in this bill?\",\n",
    "    \"How do you feel about extending various expiring programs and authorities through this legislation?\",\n",
    "    \"Are there any specific provisions in the bill that you particularly support or oppose?\",\n",
    "    \"Do you believe this bill adequately addresses the funding needs of federal agencies for FY2025?\",\n",
    "    \"What are your views on using continuing resolutions instead of passing new budget appropriations?\",\n",
    "    \"How might this bill impact fiscal responsibility and the federal budget deficit?\",\n",
    "    \"Do you have any concerns about the potential for increased government spending due to this bill?\",\n",
    "    \"In your opinion, does this bill effectively address any urgent national priorities?\",\n",
    "    \"Will you be voting in favor of this bill, and what factors are influencing your decision?\"\n",
    "]\n"
   ]
  },
  {
   "cell_type": "code",
   "execution_count": null,
   "metadata": {},
   "outputs": [],
   "source": [
    "\n"
   ]
  }
 ],
 "metadata": {
  "kernelspec": {
   "display_name": "base",
   "language": "python",
   "name": "python3"
  },
  "language_info": {
   "codemirror_mode": {
    "name": "ipython",
    "version": 3
   },
   "file_extension": ".py",
   "mimetype": "text/x-python",
   "name": "python",
   "nbconvert_exporter": "python",
   "pygments_lexer": "ipython3",
   "version": "3.11.3"
  }
 },
 "nbformat": 4,
 "nbformat_minor": 2
}
