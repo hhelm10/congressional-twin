{
 "cells": [
  {
   "cell_type": "markdown",
   "metadata": {},
   "source": [
    "## No specific topic, but chosen so that votes are not all Yay."
   ]
  },
  {
   "cell_type": "code",
   "execution_count": null,
   "metadata": {},
   "outputs": [],
   "source": [
    "#HR 4346 (117th):\n",
    "#-- Abstract: Making appropriations for Legislative Branch for the fiscal year ending September 30, 2022, and for other purposes.\n",
    "#-- Summary: This bill includes provisions on two separate subjects: 1) the domestic production of semiconductors and incentives for science and technology research and development and 2) supplemental funding for U.S. marshals and other officers to protect the Supreme Court and its justices and staff from \"threats.\"\n",
    "#The bill began as a funding bill for the legislative branch. On June 22, 2022, the Senate replaced those provisions with the unrelated provisions related to the Supreme Court (titled the Supreme Court Security Funding Act of 2022). On July 27, 2022, additional unrelated provisions related to domestic semiconductor production (the CHIPS Act of 2022) and science and technology research and development (the Research and Development, Competition, and Innovation Act) were added.\n",
    "#-- House vote: July 28, 2021\n",
    "#-- Senate vote: June 22, 2022\n",
    "\n",
    "questions = [\n",
    "    \"Do you support the provisions aimed at boosting domestic semiconductor production? Why or why not?\",\n",
    "    \"What is your stance on the incentives for science and technology research and development included in the bill?\",\n",
    "    \"How do you feel about the supplemental funding for protecting the Supreme Court and its justices from threats?\",\n",
    "    \"Do you believe it's appropriate to combine these diverse provisions into a single bill?\",\n",
    "    \"How might the CHIPS Act impact the U.S. economy and global competitiveness in technology?\",\n",
    "    \"Are you concerned about the process of adding unrelated provisions to the original funding bill?\",\n",
    "    \"What are the potential benefits or drawbacks of this bill that stand out to you?\",\n",
    "    \"How does this legislation align with your views on national security and technological independence?\",\n",
    "    \"In your opinion, does the bill allocate funds effectively considering current budgetary priorities?\",\n",
    "    \"Will you support this bill when it comes to a vote? What factors are influencing your decision?\"\n",
    "]\n",
    "\n"
   ]
  },
  {
   "cell_type": "code",
   "execution_count": null,
   "metadata": {},
   "outputs": [],
   "source": [
    "#HR 1319 (117th):\n",
    "#-- Abstract: To provide for reconciliation pursuant to title II of S. Con. Res. 5\n",
    "#-- Summary: This bill provides additional relief to address the continued impact of COVID-19 (i.e., coronavirus disease 2019) on the economy, public health, state and local governments, individuals, and businesses.\n",
    "#-- House vote: Feb 27, 2021\n",
    "#-- Senate vote: Mar 6, 2021\n",
    "\n",
    "questions = [\n",
    "    \"Do you support the additional COVID-19 relief measures proposed in this bill?\",\n",
    "    \"Which provisions of the bill do you believe will have the most significant impact?\",\n",
    "    \"Are there any aspects of the bill you disagree with or would like to see modified?\",\n",
    "    \"How do you think this bill will affect the economy in the short and long term?\",\n",
    "    \"Does the bill provide adequate support for public health initiatives against COVID-19?\",\n",
    "    \"In what ways will this bill assist state and local governments dealing with the pandemic?\",\n",
    "    \"Do you feel the bill sufficiently addresses the needs of individuals and businesses impacted by COVID-19?\",\n",
    "    \"What are your thoughts on the fiscal implications of the bill's proposed spending?\",\n",
    "    \"How does this legislation compare to previous COVID-19 relief efforts?\",\n",
    "    \"What feedback have you received from your constituents regarding this bill?\"\n",
    "]\n",
    "\n",
    "\n"
   ]
  },
  {
   "cell_type": "code",
   "execution_count": null,
   "metadata": {},
   "outputs": [],
   "source": [
    "#HR 7888 (118th):\n",
    "#-- Abstract: To reform the Foreign Intelligence Surveillance Act of 1978.\n",
    "##-- Summary: This bill reauthorizes Title VII of the Foreign Intelligence Surveillance Act (FISA) for five years and makes changes to FISA, including certain restrictions on surveillance under Section 702. (Sec. 702 concerns electronic surveillance of non-U.S. persons believed to be outside the United States to obtain foreign intelligence information. Information about U.S. persons may incidentally be acquired by this type of surveillance and subsequently searched or \"queried\" under certain circumstances.)\n",
    "#-- House vote: Apr 12, 2024\n",
    "#-- Senate vote: Apr 19, 2024\n",
    "\n",
    "questions = [\n",
    "    \"Do you support the reauthorization of Title VII of the FISA, and why or why not?\",\n",
    "    \"What are your views on the proposed restrictions on surveillance under Section 702?\",\n",
    "    \"How do you balance national security concerns with the privacy rights of U.S. persons?\",\n",
    "    \"Do you believe the current oversight mechanisms for FISA surveillance are adequate?\",\n",
    "    \"What measures does the bill include to prevent the incidental collection of U.S. persons' information?\",\n",
    "    \"How might this bill impact the effectiveness of foreign intelligence gathering?\",\n",
    "    \"Are there any amendments you would like to see added to or removed from the bill?\",\n",
    "    \"How does the bill address concerns about potential abuses of surveillance powers?\",\n",
    "    \"In what ways does the bill enhance transparency and accountability in surveillance activities?\",\n",
    "    \"What feedback have you received from your constituents regarding this bill, and how has it influenced your position?\"\n",
    "]\n",
    "\n"
   ]
  }
 ],
 "metadata": {
  "kernelspec": {
   "display_name": "base",
   "language": "python",
   "name": "python3"
  },
  "language_info": {
   "name": "python",
   "version": "3.11.3"
  }
 },
 "nbformat": 4,
 "nbformat_minor": 2
}
