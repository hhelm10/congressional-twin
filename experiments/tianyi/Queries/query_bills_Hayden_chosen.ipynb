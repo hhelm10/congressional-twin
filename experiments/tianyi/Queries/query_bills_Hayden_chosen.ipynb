{
 "cells": [
  {
   "cell_type": "markdown",
   "metadata": {},
   "source": [
    "## No specific topic, but chosen so that votes are not all Yay."
   ]
  },
  {
   "cell_type": "code",
   "execution_count": null,
   "metadata": {},
   "outputs": [],
   "source": [
    "#HR 4346 (117th):\n",
    "#-- Abstract: Making appropriations for Legislative Branch for the fiscal year ending September 30, 2022, and for other purposes.\n",
    "#-- Summary: This bill includes provisions on two separate subjects: 1) the domestic production of semiconductors and incentives for science and technology research and development and 2) supplemental funding for U.S. marshals and other officers to protect the Supreme Court and its justices and staff from \"threats.\"\n",
    "#The bill began as a funding bill for the legislative branch. On June 22, 2022, the Senate replaced those provisions with the unrelated provisions related to the Supreme Court (titled the Supreme Court Security Funding Act of 2022). On July 27, 2022, additional unrelated provisions related to domestic semiconductor production (the CHIPS Act of 2022) and science and technology research and development (the Research and Development, Competition, and Innovation Act) were added.\n",
    "#-- House vote: July 28, 2021\n",
    "#-- Senate vote: June 22, 2022\n",
    "\n",
    "questions = [\n",
    "    \"What are the key components of the appropriations bill for the Legislative Branch that you support?\",\n",
    "    \"Are there any specific provisions in the bill that you disagree with?\",\n",
    "    \"How does this bill address transparency and accountability within the Legislative Branch?\",\n",
    "    \"Do you believe the proposed funding levels are appropriate for the Legislative Branch's needs?\",\n",
    "    \"How will this appropriations bill impact staffing and resources for Congressional offices?\",\n",
    "    \"Does the bill include measures to improve efficiency or reduce unnecessary spending?\",\n",
    "    \"Are there any 'other purposes' mentioned in the bill that you find particularly important or concerning?\",\n",
    "    \"How does this bill compare to previous years' appropriations for the Legislative Branch?\",\n",
    "    \"What impact do you think this bill will have on the overall federal budget and deficit?\",\n",
    "    \"Will you be voting in favor of this appropriations bill? Could you explain your reasoning?\"\n",
    "]\n"
   ]
  },
  {
   "cell_type": "code",
   "execution_count": null,
   "metadata": {},
   "outputs": [],
   "source": [
    "#HR 1319 (117th):\n",
    "#-- Abstract: To provide for reconciliation pursuant to title II of S. Con. Res. 5\n",
    "#-- Summary: This bill provides additional relief to address the continued impact of COVID-19 (i.e., coronavirus disease 2019) on the economy, public health, state and local governments, individuals, and businesses.\n",
    "#-- House vote: Feb 27, 2021\n",
    "#-- Senate vote: Mar 6, 2021\n",
    "\n",
    "## Should we worry about the questions not being too specific because the non specifc abstract?????????????\n",
    "questions=[\n",
    "    \"What are your main reasons for supporting or opposing the reconciliation bill pursuant to title II of S. Con. Res. 5?\",\n",
    "    \"How do you believe this bill will impact the federal budget and national debt?\",\n",
    "    \"In your opinion, what are the most significant benefits or drawbacks of the proposed legislation?\",\n",
    "    \"Does the bill address the priorities and concerns of your constituents effectively?\",\n",
    "    \"How do you feel about using the reconciliation process to pass this legislation?\",\n",
    "    \"Are there specific provisions in the bill that you find particularly beneficial or problematic?\",\n",
    "    \"What economic effects do you anticipate if this bill is enacted?\",\n",
    "    \"Do you think the bill adequately addresses issues such as healthcare, education, or infrastructure?\",\n",
    "    \"Would you suggest any amendments to improve the bill before it is passed?\",\n",
    "    \"How does this legislation align with your broader policy goals and the agenda of your party?\"\n",
    "]\n",
    "\n"
   ]
  },
  {
   "cell_type": "code",
   "execution_count": null,
   "metadata": {},
   "outputs": [],
   "source": [
    "#HR 7888 (118th):\n",
    "#-- Abstract: To reform the Foreign Intelligence Surveillance Act of 1978.\n",
    "##-- Summary: This bill reauthorizes Title VII of the Foreign Intelligence Surveillance Act (FISA) for five years and makes changes to FISA, including certain restrictions on surveillance under Section 702. (Sec. 702 concerns electronic surveillance of non-U.S. persons believed to be outside the United States to obtain foreign intelligence information. Information about U.S. persons may incidentally be acquired by this type of surveillance and subsequently searched or \"queried\" under certain circumstances.)\n",
    "#-- House vote: Apr 12, 2024\n",
    "#-- Senate vote: Apr 19, 2024\n",
    "\n",
    "questions=[\n",
    "    \"What are your primary concerns with the current Foreign Intelligence Surveillance Act of 1978?\",\n",
    "    \"Do you believe the proposed reforms will adequately protect citizens' privacy rights?\",\n",
    "    \"How do you balance national security interests with individual civil liberties in the context of surveillance?\",\n",
    "    \"What specific changes in the bill do you support or oppose?\",\n",
    "    \"How will the proposed reforms impact the effectiveness of intelligence agencies in preventing threats?\",\n",
    "    \"Do you think there is sufficient oversight of surveillance activities under the current law?\",\n",
    "    \"How does the bill address the issue of warrantless surveillance and data collection?\",\n",
    "    \"In your opinion, does the bill enhance transparency and accountability in surveillance operations?\",\n",
    "    \"What feedback have you received from your constituents regarding the proposed reforms?\",\n",
    "    \"How do you foresee this bill affecting relationships with international intelligence partners?\"\n",
    "]\n"
   ]
  }
 ],
 "metadata": {
  "kernelspec": {
   "display_name": "base",
   "language": "python",
   "name": "python3"
  },
  "language_info": {
   "name": "python",
   "version": "3.11.3"
  }
 },
 "nbformat": 4,
 "nbformat_minor": 2
}
